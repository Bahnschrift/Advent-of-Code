{
 "cells": [
  {
   "cell_type": "markdown",
   "metadata": {},
   "source": [
    "# Advent of code 2020: Day 12"
   ]
  },
  {
   "cell_type": "markdown",
   "metadata": {},
   "source": [
    "## Import"
   ]
  },
  {
   "cell_type": "code",
   "execution_count": 1,
   "metadata": {},
   "outputs": [
    {
     "data": {
      "text/html": [
       "<pre style=\"white-space:pre;overflow-x:auto;line-height:normal;font-family:Menlo,'DejaVu Sans Mono',consolas,'Courier New',monospace\"><span style=\"font-style: italic\">Downloading input for day </span><span style=\"color: #008080; text-decoration-color: #008080; font-weight: bold; font-style: italic\">12</span><span style=\"color: #808000; text-decoration-color: #808000; font-style: italic\">...</span>\n",
       "</pre>\n"
      ],
      "text/plain": [
       "\u001b[3mDownloading input for day \u001b[0m\u001b[1;3;36m12\u001b[0m\u001b[3;33m...\u001b[0m\n"
      ]
     },
     "metadata": {},
     "output_type": "display_data"
    },
    {
     "data": {
      "text/html": [
       "<pre style=\"white-space:pre;overflow-x:auto;line-height:normal;font-family:Menlo,'DejaVu Sans Mono',consolas,'Courier New',monospace\"><span style=\"color: #008000; text-decoration-color: #008000; font-weight: bold\">Input download successful.</span>\n",
       "</pre>\n"
      ],
      "text/plain": [
       "\u001b[1;32mInput download successful.\u001b[0m\n"
      ]
     },
     "metadata": {},
     "output_type": "display_data"
    }
   ],
   "source": [
    "import math as M\n",
    "import collections as C\n",
    "import itertools as I\n",
    "from helper import *\n",
    "\n",
    "\n",
    "day = 12\n",
    "data = get_input_lines(day, 2020)"
   ]
  },
  {
   "cell_type": "markdown",
   "metadata": {},
   "source": [
    "## Part 1"
   ]
  },
  {
   "cell_type": "code",
   "execution_count": 2,
   "metadata": {},
   "outputs": [
    {
     "data": {
      "text/html": [
       "<pre style=\"white-space:pre;overflow-x:auto;line-height:normal;font-family:Menlo,'DejaVu Sans Mono',consolas,'Courier New',monospace\"><span style=\"color: #008080; text-decoration-color: #008080; font-weight: bold\">1601</span>\n",
       "</pre>\n"
      ],
      "text/plain": [
       "\u001b[1;36m1601\u001b[0m\n"
      ]
     },
     "metadata": {},
     "output_type": "display_data"
    }
   ],
   "source": [
    "rots = {0: \"N\", 90: \"E\", 180: \"S\", 270: \"W\"}\n",
    "dirs = {\"N\": (0, 1), \"S\": (0, -1), \"E\": (1, 0), \"W\": (-1, 0)}\n",
    "\n",
    "x, y = 0, 0\n",
    "fac = 90\n",
    "for line in data:\n",
    "    ins = line[0]\n",
    "    n = int(line[1:])\n",
    "    if ins in \"NSWE\":\n",
    "        x += n * dirs[ins][0]\n",
    "        y += n * dirs[ins][1]\n",
    "    elif ins == \"L\":\n",
    "        fac -= n\n",
    "        fac %= 360\n",
    "    elif ins == \"R\":\n",
    "        fac += n\n",
    "        fac %= 360\n",
    "    elif ins == \"F\":\n",
    "        x += n * dirs[rots[fac]][0]\n",
    "        y += n * dirs[rots[fac]][1]\n",
    "print(abs(x) + abs(y))\n"
   ]
  },
  {
   "cell_type": "markdown",
   "metadata": {},
   "source": [
    "## Part 2"
   ]
  },
  {
   "cell_type": "code",
   "execution_count": 3,
   "metadata": {},
   "outputs": [
    {
     "data": {
      "text/html": [
       "<pre style=\"white-space:pre;overflow-x:auto;line-height:normal;font-family:Menlo,'DejaVu Sans Mono',consolas,'Courier New',monospace\"><span style=\"color: #008080; text-decoration-color: #008080; font-weight: bold\">13340</span>\n",
       "</pre>\n"
      ],
      "text/plain": [
       "\u001b[1;36m13340\u001b[0m\n"
      ]
     },
     "metadata": {},
     "output_type": "display_data"
    }
   ],
   "source": [
    "dirs = {\"N\": (0, 1), \"S\": (0, -1), \"E\": (1, 0), \"W\": (-1, 0)}\n",
    "\n",
    "sx, sy = 0, 0\n",
    "dx, dy = 10, 1  # Distance between ship and waypoint\n",
    "for line in data:\n",
    "    ins = line[0]\n",
    "    n = int(line[1:])\n",
    "    if ins in \"NSWE\":\n",
    "        dx += n * dirs[ins][0]\n",
    "        dy += n * dirs[ins][1]\n",
    "    elif ins == \"L\":\n",
    "        for i in range(n // 90):\n",
    "            dx, dy = -dy, dx\n",
    "    elif ins == \"R\":\n",
    "        for i in range(n // 90):\n",
    "            dx, dy = dy, -dx\n",
    "    elif ins == \"F\":\n",
    "        sx += n * dx\n",
    "        sy += n * dy\n",
    "print(abs(sx) + abs(sy))"
   ]
  }
 ],
 "metadata": {
  "kernelspec": {
   "display_name": "Python 3.10.4 ('venv': venv)",
   "language": "python",
   "name": "python3"
  },
  "language_info": {
   "codemirror_mode": {
    "name": "ipython",
    "version": 3
   },
   "file_extension": ".py",
   "mimetype": "text/x-python",
   "name": "python",
   "nbconvert_exporter": "python",
   "pygments_lexer": "ipython3",
   "version": "3.10.4"
  },
  "orig_nbformat": 2,
  "vscode": {
   "interpreter": {
    "hash": "1deb42c3241d521f6003b1a68e85a16645dc710c5467eba0d538286ef971f2c2"
   }
  }
 },
 "nbformat": 4,
 "nbformat_minor": 2
}
