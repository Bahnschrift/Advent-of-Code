{
 "cells": [
  {
   "cell_type": "markdown",
   "metadata": {},
   "source": [
    "# Advent of Code 2023\n",
    "## Day 5\n",
    "*<https://adventofcode.com/2023/day/5>*"
   ]
  },
  {
   "cell_type": "code",
   "execution_count": 1,
   "metadata": {},
   "outputs": [],
   "source": [
    "import heapq\n",
    "import math\n",
    "import re\n",
    "from collections import Counter, defaultdict, deque, namedtuple\n",
    "from itertools import combinations, permutations, product\n",
    "from string import ascii_letters, ascii_lowercase, ascii_uppercase\n",
    "\n",
    "import IPython\n",
    "import z3\n",
    "from rich import inspect, pretty, print\n",
    "\n",
    "from new_helper import *\n",
    "\n",
    "pretty.install()"
   ]
  },
  {
   "cell_type": "code",
   "execution_count": 2,
   "metadata": {},
   "outputs": [],
   "source": [
    "DAY = 5\n",
    "input_str = get_aoc_input(DAY, 2023)\n",
    "part_1 = part_2 = 0"
   ]
  },
  {
   "cell_type": "code",
   "execution_count": 3,
   "metadata": {},
   "outputs": [],
   "source": [
    "inp = input_str.parse_groups()"
   ]
  },
  {
   "cell_type": "code",
   "execution_count": 4,
   "metadata": {},
   "outputs": [],
   "source": [
    "seeds = ints(inp[0][0])\n",
    "maps = defaultdict(list[tuple[int, int, int]])\n",
    "proc = []\n",
    "for mp in inp[1:]:\n",
    "    name = mp[0].split()[0]\n",
    "    source = name.split(\"-\")[0]\n",
    "    dest = name.split(\"-\")[2]\n",
    "    proc.append((source, dest))\n",
    "\n",
    "    for line in mp[1:]:\n",
    "        dest_start, source_start, range_len = ints(line)\n",
    "        maps[(source, dest)].append((source_start, dest_start, range_len))"
   ]
  },
  {
   "cell_type": "code",
   "execution_count": 5,
   "metadata": {},
   "outputs": [],
   "source": [
    "def convert(source, dest, val):\n",
    "    for source_start, dest_start, range_len in maps[(source, dest)]:\n",
    "        if source_start <= val < source_start + range_len:\n",
    "            return dest_start + val - source_start\n",
    "\n",
    "    return val"
   ]
  },
  {
   "cell_type": "code",
   "execution_count": 6,
   "metadata": {},
   "outputs": [],
   "source": [
    "part_1 = float(\"inf\")\n",
    "for seed in seeds:\n",
    "    soil = convert(\"seed\", \"soil\", seed)\n",
    "    fertilizer = convert(\"soil\", \"fertilizer\", soil)\n",
    "    water = convert(\"fertilizer\", \"water\", fertilizer)\n",
    "    light = convert(\"water\", \"light\", water)\n",
    "    temperature = convert(\"light\", \"temperature\", light)\n",
    "    humidity = convert(\"temperature\", \"humidity\", temperature)\n",
    "    location = convert(\"humidity\", \"location\", humidity)\n",
    "\n",
    "    part_1 = min(part_1, location)"
   ]
  },
  {
   "cell_type": "code",
   "execution_count": 7,
   "metadata": {},
   "outputs": [],
   "source": [
    "def convert_ranges(rs: set[range], ms: dict[range, int]):\n",
    "    new = set()\n",
    "\n",
    "    while rs:\n",
    "        r = rs.pop()\n",
    "        for m, off in ms.items():\n",
    "            if m.start < r.start < r.stop < m.stop:\n",
    "                new.add(range(r.start + off, r.stop + off))\n",
    "            elif r.start < m.start < m.stop < r.stop:\n",
    "                rs.add(range(r.start, m.start))\n",
    "                rs.add(range(m.stop, r.stop))\n",
    "                new.add(range(m.start + off, m.stop + off))\n",
    "            elif r.start < m.start < r.stop < m.stop:\n",
    "                rs.add(range(r.start, m.start))\n",
    "                new.add(range(m.start + off, r.stop + off))\n",
    "            elif m.start < r.start < m.stop < r.stop:\n",
    "                rs.add(range(m.stop, r.stop))\n",
    "                new.add(range(r.start + off, m.stop + off))\n",
    "            elif m.start == r.start < m.stop == r.stop:\n",
    "                new.add(range(m.start + off, m.stop + off))\n",
    "            elif m.start == r.start < r.stop < m.stop:\n",
    "                new.add(range(m.start + off, r.stop + off))\n",
    "            elif m.start == r.start < m.stop < r.stop:\n",
    "                rs.add(range(m.stop, r.stop))\n",
    "                new.add(range(m.start + off, m.stop + off))\n",
    "            elif m.start < r.start < m.stop == r.stop:\n",
    "                new.add(range(r.start + off, m.stop + off))\n",
    "            elif r.start < m.start < r.stop == m.stop:\n",
    "                rs.add(range(r.start, m.start))\n",
    "                new.add(range(m.start + off, m.stop + off))\n",
    "            else:\n",
    "                continue\n",
    "            break\n",
    "\n",
    "        else:\n",
    "            new.add(r)\n",
    "\n",
    "    return new"
   ]
  },
  {
   "cell_type": "code",
   "execution_count": 8,
   "metadata": {},
   "outputs": [],
   "source": [
    "def convert_to_ms(maps: list[tuple[int, int, int]]):\n",
    "    return {range(source, source + offset): dest - source for source, dest, offset in maps}"
   ]
  },
  {
   "cell_type": "code",
   "execution_count": 9,
   "metadata": {},
   "outputs": [],
   "source": [
    "part_2 = float(\"inf\")\n",
    "for i in range(0, len(seeds), 2):\n",
    "    r = range(seeds[i], seeds[i] + seeds[i + 1])\n",
    "    soil = convert_ranges({r}, convert_to_ms(maps[(\"seed\", \"soil\")]))\n",
    "    fertilizer = convert_ranges(soil, convert_to_ms(maps[(\"soil\", \"fertilizer\")]))\n",
    "    water = convert_ranges(fertilizer, convert_to_ms(maps[(\"fertilizer\", \"water\")]))\n",
    "    light = convert_ranges(water, convert_to_ms(maps[(\"water\", \"light\")]))\n",
    "    temperature = convert_ranges(light, convert_to_ms(maps[(\"light\", \"temperature\")]))\n",
    "    humidity = convert_ranges(temperature, convert_to_ms(maps[(\"temperature\", \"humidity\")]))\n",
    "    location = convert_ranges(humidity, convert_to_ms(maps[(\"humidity\", \"location\")]))\n",
    "    part_2 = min(part_2, min(map(lambda r: r.start, location)))"
   ]
  },
  {
   "cell_type": "code",
   "execution_count": 10,
   "metadata": {},
   "outputs": [
    {
     "data": {
      "text/html": [
       "<pre style=\"white-space:pre;overflow-x:auto;line-height:normal;font-family:Menlo,'DejaVu Sans Mono',consolas,'Courier New',monospace\"><span style=\"color: #008000; text-decoration-color: #008000; font-weight: bold\">Part </span><span style=\"color: #008000; text-decoration-color: #008000; font-weight: bold\">1</span>: <span style=\"color: #008080; text-decoration-color: #008080; font-weight: bold\">282277027</span>\n",
       "</pre>\n"
      ],
      "text/plain": [
       "\u001b[1;32mPart \u001b[0m\u001b[1;32m1\u001b[0m: \u001b[1;36m282277027\u001b[0m\n"
      ]
     },
     "metadata": {},
     "output_type": "display_data"
    },
    {
     "data": {
      "text/html": [
       "<pre style=\"white-space:pre;overflow-x:auto;line-height:normal;font-family:Menlo,'DejaVu Sans Mono',consolas,'Courier New',monospace\"><span style=\"color: #008000; text-decoration-color: #008000; font-weight: bold\">Part </span><span style=\"color: #008000; text-decoration-color: #008000; font-weight: bold\">2</span>: <span style=\"color: #008080; text-decoration-color: #008080; font-weight: bold\">11554135</span>\n",
       "</pre>\n"
      ],
      "text/plain": [
       "\u001b[1;32mPart \u001b[0m\u001b[1;32m2\u001b[0m: \u001b[1;36m11554135\u001b[0m\n"
      ]
     },
     "metadata": {},
     "output_type": "display_data"
    }
   ],
   "source": [
    "print_part_1(part_1)\n",
    "print_part_2(part_2)"
   ]
  }
 ],
 "metadata": {
  "kernelspec": {
   "display_name": "venv",
   "language": "python",
   "name": "python3"
  },
  "language_info": {
   "codemirror_mode": {
    "name": "ipython",
    "version": 3
   },
   "file_extension": ".py",
   "mimetype": "text/x-python",
   "name": "python",
   "nbconvert_exporter": "python",
   "pygments_lexer": "ipython3",
   "version": "3.11.1"
  },
  "orig_nbformat": 4,
  "vscode": {
   "interpreter": {
    "hash": "1deb42c3241d521f6003b1a68e85a16645dc710c5467eba0d538286ef971f2c2"
   }
  }
 },
 "nbformat": 4,
 "nbformat_minor": 2
}
