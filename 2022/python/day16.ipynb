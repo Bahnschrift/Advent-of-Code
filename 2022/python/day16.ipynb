{
 "cells": [
  {
   "cell_type": "markdown",
   "metadata": {},
   "source": [
    "# Advent of Code 2022\n",
    "## Day 16\n",
    "*<https://adventofcode.com/2022/day/16>*"
   ]
  },
  {
   "cell_type": "code",
   "execution_count": 1,
   "metadata": {},
   "outputs": [],
   "source": [
    "import heapq\n",
    "import math\n",
    "import re\n",
    "import functools as ft\n",
    "from collections import Counter, defaultdict, deque, namedtuple\n",
    "from itertools import combinations, permutations, product\n",
    "from string import ascii_letters, ascii_lowercase, ascii_uppercase\n",
    "\n",
    "import IPython\n",
    "import z3\n",
    "from rich import inspect, pretty, print\n",
    "\n",
    "from new_helper import *\n",
    "\n",
    "pretty.install()"
   ]
  },
  {
   "cell_type": "code",
   "execution_count": 2,
   "metadata": {},
   "outputs": [],
   "source": [
    "DAY = 16\n",
    "inp = get_aoc_input(DAY, 2022)\n",
    "part_1 = part_2 = 0"
   ]
  },
  {
   "cell_type": "code",
   "execution_count": 3,
   "metadata": {},
   "outputs": [],
   "source": [
    "inp = inp.parse_lines()"
   ]
  },
  {
   "cell_type": "code",
   "execution_count": 4,
   "metadata": {},
   "outputs": [],
   "source": [
    "valves = set()\n",
    "rates = {}\n",
    "tunnels = {}\n",
    "dists = defaultdict(lambda: 99999)\n",
    "\n",
    "\n",
    "for line in inp:\n",
    "    parts = line.split()\n",
    "    name = parts[1]\n",
    "    valves.add(name)\n",
    "\n",
    "    flow_rate = ints(parts[4])[0]\n",
    "    rates[name] = flow_rate\n",
    "\n",
    "    tunnels[name] = [t.rstrip(\",\") for t in parts[9:]]\n",
    "\n",
    "    dists[name, name] = 0\n",
    "    for t in parts[9:]:\n",
    "        dists[name, t.rstrip(\",\")] = 1\n",
    "\n",
    "for k, i, j in product(tunnels, tunnels, tunnels):\n",
    "    dists[i, j] = min(dists[i, j], dists[i, k] + dists[k, j])\n",
    "\n",
    "non_zero_valves = {v for v in valves if rates[v] > 0}"
   ]
  },
  {
   "cell_type": "code",
   "execution_count": 5,
   "metadata": {},
   "outputs": [],
   "source": [
    "@ft.cache\n",
    "def search(\n",
    "    time_remaining: int, current = \"AA\", unvisited: frozenset[str] = frozenset(non_zero_valves), elephant=False\n",
    "):\n",
    "    return max(\n",
    "        [\n",
    "            rates[v] * (time_remaining - dists[current, v] - 1)\n",
    "            + search(time_remaining - dists[current, v] - 1, v, unvisited - {v}, elephant)\n",
    "            for v in unvisited\n",
    "            if dists[current, v] < time_remaining\n",
    "        ]\n",
    "        + [search(26, unvisited=unvisited) if elephant else 0]\n",
    "    )\n",
    "\n",
    "part_1 = search(30)\n",
    "part_2 = search(26, elephant=True)"
   ]
  },
  {
   "cell_type": "code",
   "execution_count": 6,
   "metadata": {},
   "outputs": [
    {
     "data": {
      "text/html": [
       "<pre style=\"white-space:pre;overflow-x:auto;line-height:normal;font-family:Menlo,'DejaVu Sans Mono',consolas,'Courier New',monospace\"><span style=\"color: #008000; text-decoration-color: #008000; font-weight: bold\">Part </span><span style=\"color: #008000; text-decoration-color: #008000; font-weight: bold\">1</span>: <span style=\"color: #008080; text-decoration-color: #008080; font-weight: bold\">2320</span>\n",
       "</pre>\n"
      ],
      "text/plain": [
       "\u001b[1;32mPart \u001b[0m\u001b[1;32m1\u001b[0m: \u001b[1;36m2320\u001b[0m\n"
      ]
     },
     "metadata": {},
     "output_type": "display_data"
    },
    {
     "data": {
      "text/html": [
       "<pre style=\"white-space:pre;overflow-x:auto;line-height:normal;font-family:Menlo,'DejaVu Sans Mono',consolas,'Courier New',monospace\"><span style=\"color: #008000; text-decoration-color: #008000; font-weight: bold\">Part </span><span style=\"color: #008000; text-decoration-color: #008000; font-weight: bold\">2</span>: <span style=\"color: #008080; text-decoration-color: #008080; font-weight: bold\">2967</span>\n",
       "</pre>\n"
      ],
      "text/plain": [
       "\u001b[1;32mPart \u001b[0m\u001b[1;32m2\u001b[0m: \u001b[1;36m2967\u001b[0m\n"
      ]
     },
     "metadata": {},
     "output_type": "display_data"
    }
   ],
   "source": [
    "print_part_1(part_1)\n",
    "print_part_2(part_2)"
   ]
  },
  {
   "cell_type": "code",
   "execution_count": 7,
   "metadata": {},
   "outputs": [],
   "source": [
    "# submit_part_1(part_1, DAY, 2022)\n",
    "# submit_part_2(part_2, DAY, 2022)"
   ]
  }
 ],
 "metadata": {
  "kernelspec": {
   "display_name": "venvpypy",
   "language": "python",
   "name": "python3"
  },
  "language_info": {
   "codemirror_mode": {
    "name": "ipython",
    "version": 3
   },
   "file_extension": ".py",
   "mimetype": "text/x-python",
   "name": "python",
   "nbconvert_exporter": "python",
   "pygments_lexer": "ipython3",
   "version": "3.9.10"
  },
  "orig_nbformat": 4,
  "vscode": {
   "interpreter": {
    "hash": "dcdb201d40c1f5bcc55e8c4c327316f64e51525fe96c1fc3b9b0e5c20beebe82"
   }
  }
 },
 "nbformat": 4,
 "nbformat_minor": 2
}
