{
 "cells": [
  {
   "cell_type": "markdown",
   "metadata": {},
   "source": [
    "# Advent of Code 2022\n",
    "## Day 17\n",
    "*<https://adventofcode.com/2022/day/17>*"
   ]
  },
  {
   "cell_type": "code",
   "execution_count": 1,
   "metadata": {},
   "outputs": [],
   "source": [
    "import IPython\n",
    "import math\n",
    "import re\n",
    "from new_helper import *\n",
    "from itertools import product, combinations, permutations\n",
    "from collections import Counter, defaultdict\n",
    "from string import ascii_lowercase, ascii_uppercase, ascii_letters\n",
    "from rich import inspect, print, pretty\n",
    "\n",
    "pretty.install()"
   ]
  },
  {
   "cell_type": "code",
   "execution_count": 2,
   "metadata": {},
   "outputs": [],
   "source": [
    "DAY = 17\n",
    "inp = get_aoc_input(DAY, 2022)\n",
    "part_1 = part_2 = 0"
   ]
  },
  {
   "cell_type": "code",
   "execution_count": 3,
   "metadata": {},
   "outputs": [],
   "source": [
    "rock_types: tuple[set[tuple[int, int]], ...] = (\n",
    "    {(0, 0), (1, 0), (2, 0), (3, 0)},\n",
    "    {(1, 0), (0, 1), (1, 1), (2, 1), (1, 2)},\n",
    "    {(0, 0), (1, 0), (2, 0), (2, 1), (2, 2)},\n",
    "    {(0, 0), (0, 1), (0, 2), (0, 3)},\n",
    "    {(0, 0), (0, 1), (1, 0), (1, 1)},\n",
    ")\n",
    "\n",
    "def get_rock(i: int, y: int):\n",
    "    \"\"\"Starting positions for a rock with a given y level\"\"\"\n",
    "    return {(rx + 2, ry + y) for rx, ry in rock_types[i]}"
   ]
  },
  {
   "cell_type": "code",
   "execution_count": 4,
   "metadata": {},
   "outputs": [],
   "source": [
    "WIDTH = 7\n",
    "\n",
    "def shift(rock: set[tuple[int, int]], x: int, y: int):\n",
    "    if any(not 0 <= rx + x < WIDTH for rx, _ in rock):\n",
    "        return rock\n",
    "\n",
    "    return {(rx + x, ry + y) for rx, ry in rock}\n"
   ]
  },
  {
   "cell_type": "code",
   "execution_count": 5,
   "metadata": {},
   "outputs": [],
   "source": [
    "MAX_REPEAT_SIZE = 20  # This would probably depend on the number and shape of rocks, but it seems to work fine\n",
    "\n",
    "def encode(r: int, m: int, height: int, rocks: set[tuple[int, int]]):\n",
    "    return (r, m, frozenset((rx, height - ry) for rx, ry in rocks if height - ry <= MAX_REPEAT_SIZE))"
   ]
  },
  {
   "cell_type": "code",
   "execution_count": 6,
   "metadata": {},
   "outputs": [],
   "source": [
    "def height(n: int):\n",
    "    \"\"\"Height of the pile with n rocks fallen\"\"\"\n",
    "    rocks: set[tuple[int, int]] = set((x, 0) for x in range(WIDTH))\n",
    "    seen = {}\n",
    "    height = 0\n",
    "    r = 0\n",
    "    m = 0\n",
    "    skipped_layers = 0\n",
    "\n",
    "    while r < n:\n",
    "        rock = get_rock(r % len(rock_types), height + 4)\n",
    "        r += 1\n",
    "\n",
    "        while True:\n",
    "            move = inp[m % len(inp)]\n",
    "            m = (m + 1) % len(inp)\n",
    "\n",
    "            sx = 1 if move == \">\" else -1\n",
    "            rock = shift(rock, sx, 0)\n",
    "            if rock & rocks:\n",
    "                rock = shift(rock, -sx, 0)\n",
    "\n",
    "            rock = shift(rock, 0, -1)\n",
    "            if rock & rocks:\n",
    "                rock = shift(rock, 0, 1)\n",
    "                break\n",
    "\n",
    "        rocks |= rock\n",
    "        height = max(y for x, y in rocks)\n",
    "\n",
    "        sig = encode(r % len(rock_types), m, height, rocks)\n",
    "        if sig in seen:\n",
    "            lr, lheight = seen[sig]\n",
    "            skipped_layers += (n - r) // (r - lr) * (height - lheight)\n",
    "            r += n - r\n",
    "            assert r <= n\n",
    "\n",
    "        seen[sig] = (r, height)\n",
    "\n",
    "    return height + skipped_layers"
   ]
  },
  {
   "cell_type": "code",
   "execution_count": 7,
   "metadata": {},
   "outputs": [],
   "source": [
    "part_1 = height(2022)\n",
    "part_2 = height(1000000000000)"
   ]
  },
  {
   "cell_type": "code",
   "execution_count": 8,
   "metadata": {},
   "outputs": [
    {
     "data": {
      "text/html": [
       "<pre style=\"white-space:pre;overflow-x:auto;line-height:normal;font-family:Menlo,'DejaVu Sans Mono',consolas,'Courier New',monospace\"><span style=\"color: #008000; text-decoration-color: #008000; font-weight: bold\">Part </span><span style=\"color: #008000; text-decoration-color: #008000; font-weight: bold\">1</span>: <span style=\"color: #008080; text-decoration-color: #008080; font-weight: bold\">3141</span>\n",
       "</pre>\n"
      ],
      "text/plain": [
       "\u001b[1;32mPart \u001b[0m\u001b[1;32m1\u001b[0m: \u001b[1;36m3141\u001b[0m\n"
      ]
     },
     "metadata": {},
     "output_type": "display_data"
    },
    {
     "data": {
      "text/html": [
       "<pre style=\"white-space:pre;overflow-x:auto;line-height:normal;font-family:Menlo,'DejaVu Sans Mono',consolas,'Courier New',monospace\"><span style=\"color: #008000; text-decoration-color: #008000; font-weight: bold\">Part </span><span style=\"color: #008000; text-decoration-color: #008000; font-weight: bold\">2</span>: <span style=\"color: #008080; text-decoration-color: #008080; font-weight: bold\">1561739128422</span>\n",
       "</pre>\n"
      ],
      "text/plain": [
       "\u001b[1;32mPart \u001b[0m\u001b[1;32m2\u001b[0m: \u001b[1;36m1561739128422\u001b[0m\n"
      ]
     },
     "metadata": {},
     "output_type": "display_data"
    }
   ],
   "source": [
    "print_part_1(part_1)\n",
    "print_part_2(part_2)"
   ]
  },
  {
   "cell_type": "code",
   "execution_count": 9,
   "metadata": {},
   "outputs": [],
   "source": [
    "# submit_part_1(part_1, DAY, 2022)\n",
    "# submit_part_2(part_2, DAY, 2022)"
   ]
  }
 ],
 "metadata": {
  "kernelspec": {
   "display_name": "venv",
   "language": "python",
   "name": "python3"
  },
  "language_info": {
   "codemirror_mode": {
    "name": "ipython",
    "version": 3
   },
   "file_extension": ".py",
   "mimetype": "text/x-python",
   "name": "python",
   "nbconvert_exporter": "python",
   "pygments_lexer": "ipython3",
   "version": "3.11.1"
  },
  "orig_nbformat": 4,
  "vscode": {
   "interpreter": {
    "hash": "1deb42c3241d521f6003b1a68e85a16645dc710c5467eba0d538286ef971f2c2"
   }
  }
 },
 "nbformat": 4,
 "nbformat_minor": 2
}
