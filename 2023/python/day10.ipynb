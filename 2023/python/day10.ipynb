{
 "cells": [
  {
   "cell_type": "markdown",
   "metadata": {},
   "source": [
    "# Advent of Code 2023\n",
    "## Day 10\n",
    "*<https://adventofcode.com/2023/day/10>*"
   ]
  },
  {
   "cell_type": "code",
   "execution_count": 1,
   "metadata": {},
   "outputs": [],
   "source": [
    "import heapq\n",
    "import math\n",
    "import re\n",
    "import functools as ft\n",
    "from collections import Counter, defaultdict, deque, namedtuple\n",
    "from itertools import combinations, permutations, product\n",
    "from string import ascii_letters, ascii_lowercase, ascii_uppercase\n",
    "\n",
    "import IPython\n",
    "import z3\n",
    "from rich import inspect, pretty, print\n",
    "\n",
    "from new_helper import *\n",
    "\n",
    "pretty.install()"
   ]
  },
  {
   "cell_type": "code",
   "execution_count": 2,
   "metadata": {},
   "outputs": [],
   "source": [
    "DAY = 10\n",
    "input_str = get_aoc_input(DAY, 2023)\n",
    "part_1 = part_2 = 0"
   ]
  },
  {
   "cell_type": "code",
   "execution_count": 3,
   "metadata": {},
   "outputs": [],
   "source": [
    "inp = input_str.parse_grid()"
   ]
  },
  {
   "cell_type": "code",
   "execution_count": 4,
   "metadata": {},
   "outputs": [],
   "source": [
    "start = inp.get_pos(\"S\")\n",
    "\n",
    "dirs = {\n",
    "    \"N\": (0, -1),\n",
    "    \"S\": (0, 1),\n",
    "    \"E\": (1, 0),\n",
    "    \"W\": (-1, 0),\n",
    "}\n",
    "\n",
    "syms = {\n",
    "    \"-\": [\"W\", \"E\"],\n",
    "    \"|\": [\"N\", \"S\"],\n",
    "    \"L\": [\"N\", \"E\"],\n",
    "    \"J\": [\"N\", \"W\"],\n",
    "    \"F\": [\"S\", \"E\"],\n",
    "    \"7\": [\"S\", \"W\"],\n",
    "}\n",
    "\n",
    "opp = {\n",
    "    \"N\": \"S\",\n",
    "    \"S\": \"N\",\n",
    "    \"E\": \"W\",\n",
    "    \"W\": \"E\",\n",
    "}"
   ]
  },
  {
   "cell_type": "code",
   "execution_count": 5,
   "metadata": {},
   "outputs": [],
   "source": [
    "def add_dir(p: tuple[int, int], d: str) -> tuple[int, int]:\n",
    "    return p[0] + dirs[d][0], p[1] + dirs[d][1]\n",
    "\n",
    "\n",
    "def test_loop(g: Grid[str], start: tuple[int, int]) -> list[tuple[int, int]]:\n",
    "    loop = [start]\n",
    "    seen = set()\n",
    "    cur = (start, opp[syms[g[start][0]][0]])\n",
    "\n",
    "    while True:\n",
    "        if not g.in_bounds(*cur[0]):\n",
    "            return []\n",
    "\n",
    "        if g[cur[0]] == \".\":\n",
    "            return []\n",
    "\n",
    "        ns = set(syms[g[cur[0]]])\n",
    "        if opp[cur[1]] not in ns:\n",
    "            return []\n",
    "\n",
    "        ns.remove(opp[cur[1]])\n",
    "\n",
    "        cur = (add_dir(cur[0], next(iter(ns))), ns.pop())\n",
    "\n",
    "        if cur[0] == start:\n",
    "            return loop if cur[1] == opp[syms[g[start][0]][0]] else []\n",
    "\n",
    "        if cur[0] in seen:\n",
    "            return []\n",
    "\n",
    "        seen.add(cur[0])\n",
    "        loop.append(cur[0])"
   ]
  },
  {
   "cell_type": "code",
   "execution_count": 6,
   "metadata": {},
   "outputs": [],
   "source": [
    "for s in syms.keys():\n",
    "    inp[start] = s\n",
    "    if l := test_loop(inp, start):\n",
    "        part_1 = len(l) // 2\n",
    "        break"
   ]
  },
  {
   "cell_type": "code",
   "execution_count": 7,
   "metadata": {},
   "outputs": [],
   "source": [
    "l = set(l)\n",
    "\n",
    "for y, r in enumerate(inp.rows()):\n",
    "    i = False\n",
    "    for x, c in enumerate(r):\n",
    "        if (x, y) in l and c in \"|7F\":\n",
    "            i = not i\n",
    "        if (x, y) not in l:\n",
    "            part_2 += i"
   ]
  },
  {
   "cell_type": "code",
   "execution_count": 8,
   "metadata": {},
   "outputs": [
    {
     "data": {
      "text/html": [
       "<pre style=\"white-space:pre;overflow-x:auto;line-height:normal;font-family:Menlo,'DejaVu Sans Mono',consolas,'Courier New',monospace\"><span style=\"color: #008000; text-decoration-color: #008000; font-weight: bold\">Part </span><span style=\"color: #008000; text-decoration-color: #008000; font-weight: bold\">1</span>: <span style=\"color: #008080; text-decoration-color: #008080; font-weight: bold\">6820</span>\n",
       "</pre>\n"
      ],
      "text/plain": [
       "\u001b[1;32mPart \u001b[0m\u001b[1;32m1\u001b[0m: \u001b[1;36m6820\u001b[0m\n"
      ]
     },
     "metadata": {},
     "output_type": "display_data"
    },
    {
     "data": {
      "text/html": [
       "<pre style=\"white-space:pre;overflow-x:auto;line-height:normal;font-family:Menlo,'DejaVu Sans Mono',consolas,'Courier New',monospace\"><span style=\"color: #008000; text-decoration-color: #008000; font-weight: bold\">Part </span><span style=\"color: #008000; text-decoration-color: #008000; font-weight: bold\">2</span>: <span style=\"color: #008080; text-decoration-color: #008080; font-weight: bold\">337</span>\n",
       "</pre>\n"
      ],
      "text/plain": [
       "\u001b[1;32mPart \u001b[0m\u001b[1;32m2\u001b[0m: \u001b[1;36m337\u001b[0m\n"
      ]
     },
     "metadata": {},
     "output_type": "display_data"
    }
   ],
   "source": [
    "print_part_1(part_1)\n",
    "print_part_2(part_2)"
   ]
  }
 ],
 "metadata": {
  "kernelspec": {
   "display_name": "venv",
   "language": "python",
   "name": "python3"
  },
  "language_info": {
   "codemirror_mode": {
    "name": "ipython",
    "version": 3
   },
   "file_extension": ".py",
   "mimetype": "text/x-python",
   "name": "python",
   "nbconvert_exporter": "python",
   "pygments_lexer": "ipython3",
   "version": "3.12.1"
  },
  "orig_nbformat": 4,
  "vscode": {
   "interpreter": {
    "hash": "1deb42c3241d521f6003b1a68e85a16645dc710c5467eba0d538286ef971f2c2"
   }
  }
 },
 "nbformat": 4,
 "nbformat_minor": 2
}
