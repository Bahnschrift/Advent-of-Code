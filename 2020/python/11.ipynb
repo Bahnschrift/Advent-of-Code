{
 "cells": [
  {
   "cell_type": "markdown",
   "metadata": {},
   "source": [
    "# Advent of code 2020: Day 11"
   ]
  },
  {
   "cell_type": "markdown",
   "metadata": {},
   "source": [
    "## Import Data"
   ]
  },
  {
   "cell_type": "code",
   "execution_count": 1,
   "metadata": {},
   "outputs": [],
   "source": [
    "import math as M\n",
    "import collections as C\n",
    "import itertools as I\n",
    "from helper import *\n",
    "\n",
    "\n",
    "day = 11\n",
    "data = get_input_lines(day, 2020)"
   ]
  },
  {
   "cell_type": "markdown",
   "metadata": {},
   "source": [
    "## Part 1"
   ]
  },
  {
   "cell_type": "code",
   "execution_count": 2,
   "metadata": {},
   "outputs": [
    {
     "data": {
      "text/html": [
       "<pre style=\"white-space:pre;overflow-x:auto;line-height:normal;font-family:Menlo,'DejaVu Sans Mono',consolas,'Courier New',monospace\"><span style=\"color: #008080; text-decoration-color: #008080; font-weight: bold\">2354</span>\n",
       "</pre>\n"
      ],
      "text/plain": [
       "\u001b[1;36m2354\u001b[0m\n"
      ]
     },
     "metadata": {},
     "output_type": "display_data"
    }
   ],
   "source": [
    "dirs = [(0, 1), (1, 1), (1, 0), (1, -1), (0, -1), (-1, -1), (-1, 0), (-1, 1)]\n",
    "\n",
    "def step(layout):\n",
    "    height, length = len(layout), len(layout[0])\n",
    "    new = [[x for x in r] for r in layout]\n",
    "    for y, row in enumerate(layout):\n",
    "        for x, cell in enumerate(row):\n",
    "            c = 0\n",
    "            if cell == \".\":\n",
    "                continue\n",
    "            \n",
    "            for dx, dy in dirs:\n",
    "                if not((0 <= x + dx < length) and (0 <= y + dy < height)):\n",
    "                    continue\n",
    "                if layout[y + dy][x + dx] == \"#\":\n",
    "                    c += 1\n",
    "                    \n",
    "            if cell == \"#\" and c >= 4:\n",
    "                new[y][x] = \"L\"\n",
    "            elif cell == \"L\" and c == 0:\n",
    "                new[y][x] = \"#\"\n",
    "    return new\n",
    "\n",
    "last = data\n",
    "k = step(data)\n",
    "while last != k:\n",
    "    last = k\n",
    "    k = step(k)\n",
    "    \n",
    "    \n",
    "e = 0\n",
    "for r in k:\n",
    "    e += r.count(\"#\")\n",
    "print(e)"
   ]
  },
  {
   "cell_type": "markdown",
   "metadata": {},
   "source": [
    "## Part 2"
   ]
  },
  {
   "cell_type": "code",
   "execution_count": 3,
   "metadata": {},
   "outputs": [
    {
     "data": {
      "text/html": [
       "<pre style=\"white-space:pre;overflow-x:auto;line-height:normal;font-family:Menlo,'DejaVu Sans Mono',consolas,'Courier New',monospace\"><span style=\"color: #008080; text-decoration-color: #008080; font-weight: bold\">2072</span>\n",
       "</pre>\n"
      ],
      "text/plain": [
       "\u001b[1;36m2072\u001b[0m\n"
      ]
     },
     "metadata": {},
     "output_type": "display_data"
    }
   ],
   "source": [
    "dirs = [(0, 1), (1, 1), (1, 0), (1, -1), (0, -1), (-1, -1), (-1, 0), (-1, 1)]\n",
    "\n",
    "def step(layout):\n",
    "    height, length = len(layout), len(layout[0])\n",
    "    new = [[x for x in r] for r in layout]\n",
    "    for y, row in enumerate(layout):\n",
    "        for x, cell in enumerate(row):\n",
    "            c = 0\n",
    "            if cell == \".\":\n",
    "                continue\n",
    "            \n",
    "            for dy, dx in dirs:\n",
    "                for i in range(1, 1000): \n",
    "                    ny = y + dy * i\n",
    "                    nx = x + dx * i                           \n",
    "                    if not((0 <= ny < height) and (0 <= nx < length)) or layout[ny][nx] == \"L\":\n",
    "                        break\n",
    "                    if layout[ny][nx] == \"#\":\n",
    "                        c += 1\n",
    "                        break\n",
    "        \n",
    "            if cell == \"#\" and c >= 5:\n",
    "                new[y][x] = \"L\"\n",
    "            elif cell == \"L\" and c == 0:\n",
    "                new[y][x] = \"#\"\n",
    "                \n",
    "    return new\n",
    "\n",
    "last = data\n",
    "k = step(data)\n",
    "while last != k:\n",
    "    last = k\n",
    "    k = step(k)\n",
    "    \n",
    "    \n",
    "e = 0\n",
    "for r in k:\n",
    "    e += r.count(\"#\")\n",
    "print(e)\n"
   ]
  }
 ],
 "metadata": {
  "kernelspec": {
   "display_name": "Python 3.10.4 ('venv': venv)",
   "language": "python",
   "name": "python3"
  },
  "language_info": {
   "codemirror_mode": {
    "name": "ipython",
    "version": 3
   },
   "file_extension": ".py",
   "mimetype": "text/x-python",
   "name": "python",
   "nbconvert_exporter": "python",
   "pygments_lexer": "ipython3",
   "version": "3.10.4"
  },
  "orig_nbformat": 2,
  "vscode": {
   "interpreter": {
    "hash": "1deb42c3241d521f6003b1a68e85a16645dc710c5467eba0d538286ef971f2c2"
   }
  }
 },
 "nbformat": 4,
 "nbformat_minor": 2
}
