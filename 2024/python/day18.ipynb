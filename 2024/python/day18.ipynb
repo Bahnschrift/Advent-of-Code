{
 "cells": [
  {
   "cell_type": "markdown",
   "metadata": {},
   "source": [
    "# Advent of Code 2024\n",
    "## Day 18\n",
    "*<https://adventofcode.com/2024/day/18>*"
   ]
  },
  {
   "cell_type": "code",
   "execution_count": 1,
   "metadata": {},
   "outputs": [],
   "source": [
    "import heapq\n",
    "import math\n",
    "import re\n",
    "import functools as ft\n",
    "from collections import Counter, defaultdict, deque, namedtuple\n",
    "from itertools import combinations, permutations, product\n",
    "from string import ascii_letters, ascii_lowercase, ascii_uppercase\n",
    "\n",
    "# import z3\n",
    "from rich import inspect, pretty, print\n",
    "\n",
    "from new_helper import *\n",
    "\n",
    "pretty.install()\n",
    "\n",
    "try:\n",
    "    import ipykernel\n",
    "\n",
    "    with open(\"kernel\", \"w+\") as f:\n",
    "        f.write(ipykernel.get_connection_file())\n",
    "except:\n",
    "    pass"
   ]
  },
  {
   "cell_type": "code",
   "execution_count": 2,
   "metadata": {},
   "outputs": [],
   "source": [
    "DAY = 18\n",
    "YEAR = 2024\n",
    "input_str = get_aoc_input(DAY, 2024)\n",
    "part_1 = part_2 = 0"
   ]
  },
  {
   "cell_type": "code",
   "execution_count": 3,
   "metadata": {},
   "outputs": [],
   "source": [
    "inp = input_str.parse_lines()"
   ]
  },
  {
   "cell_type": "code",
   "execution_count": 4,
   "metadata": {},
   "outputs": [],
   "source": [
    "SIZE = max(flatten(list(map(ints, inp)))) + 1\n",
    "grid = Grid.of_size(SIZE, SIZE, len(inp) + 1)\n",
    "\n",
    "for i, l in enumerate(inp):\n",
    "    x, y = ints(l)\n",
    "    grid[x, y] = i"
   ]
  },
  {
   "cell_type": "code",
   "execution_count": 5,
   "metadata": {},
   "outputs": [],
   "source": [
    "Q = deque()\n",
    "Q.append((0, 0, 0))\n",
    "vis = {(0, 0)}\n",
    "\n",
    "while Q:\n",
    "    x, y, d = Q.popleft()\n",
    "\n",
    "    if x == y == SIZE - 1:\n",
    "        part_1 = d\n",
    "        break\n",
    "\n",
    "    for (nx, ny), c in grid.adjacent_4_items(x, y):\n",
    "        if c >= 1024 and (nx, ny) not in vis:\n",
    "            Q.append((nx, ny, d + 1))\n",
    "            vis.add((nx, ny))"
   ]
  },
  {
   "cell_type": "code",
   "execution_count": 6,
   "metadata": {},
   "outputs": [],
   "source": [
    "l, h = 0, len(inp)\n",
    "\n",
    "while l < h:\n",
    "    m = math.ceil((l + h) / 2)\n",
    "\n",
    "    Q = deque()\n",
    "    Q.append((0, 0, 0))\n",
    "    vis = {(0, 0)}\n",
    "\n",
    "    found = False\n",
    "    while Q:\n",
    "        x, y, d = Q.popleft()\n",
    "\n",
    "        if x == y == SIZE - 1:\n",
    "            found = True\n",
    "            break\n",
    "\n",
    "        for (nx, ny), c in grid.adjacent_4_items(x, y):\n",
    "            if c > m and (nx, ny) not in vis:\n",
    "                Q.append((nx, ny, d + 1))\n",
    "                vis.add((nx, ny))\n",
    "\n",
    "    if found:\n",
    "        l = m\n",
    "    else:\n",
    "        h = m - 1\n",
    "\n",
    "part_2 = inp[l + 1]"
   ]
  },
  {
   "cell_type": "code",
   "execution_count": 7,
   "metadata": {},
   "outputs": [
    {
     "data": {
      "text/html": [
       "<pre style=\"white-space:pre;overflow-x:auto;line-height:normal;font-family:Menlo,'DejaVu Sans Mono',consolas,'Courier New',monospace\"><span style=\"color: #008000; text-decoration-color: #008000; font-weight: bold\">Part </span><span style=\"color: #008000; text-decoration-color: #008000; font-weight: bold\">1</span>: <span style=\"color: #008080; text-decoration-color: #008080; font-weight: bold\">384</span>\n",
       "</pre>\n"
      ],
      "text/plain": [
       "\u001b[1;32mPart \u001b[0m\u001b[1;32m1\u001b[0m: \u001b[1;36m384\u001b[0m\n"
      ]
     },
     "metadata": {},
     "output_type": "display_data"
    },
    {
     "data": {
      "text/html": [
       "<pre style=\"white-space:pre;overflow-x:auto;line-height:normal;font-family:Menlo,'DejaVu Sans Mono',consolas,'Courier New',monospace\"><span style=\"color: #008000; text-decoration-color: #008000; font-weight: bold\">Part </span><span style=\"color: #008000; text-decoration-color: #008000; font-weight: bold\">2</span>: <span style=\"color: #008080; text-decoration-color: #008080; font-weight: bold\">36</span>,<span style=\"color: #008080; text-decoration-color: #008080; font-weight: bold\">10</span>\n",
       "</pre>\n"
      ],
      "text/plain": [
       "\u001b[1;32mPart \u001b[0m\u001b[1;32m2\u001b[0m: \u001b[1;36m36\u001b[0m,\u001b[1;36m10\u001b[0m\n"
      ]
     },
     "metadata": {},
     "output_type": "display_data"
    }
   ],
   "source": [
    "print_part_1(part_1)\n",
    "print_part_2(part_2)"
   ]
  }
 ],
 "metadata": {
  "kernelspec": {
   "display_name": ".venv-pypy",
   "language": "python",
   "name": "python3"
  },
  "language_info": {
   "codemirror_mode": {
    "name": "ipython",
    "version": 3
   },
   "file_extension": ".py",
   "mimetype": "text/x-python",
   "name": "python",
   "nbconvert_exporter": "python",
   "pygments_lexer": "ipython3",
   "version": "3.10.14"
  },
  "orig_nbformat": 4
 },
 "nbformat": 4,
 "nbformat_minor": 2
}
