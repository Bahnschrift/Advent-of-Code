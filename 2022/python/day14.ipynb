{
 "cells": [
  {
   "cell_type": "markdown",
   "metadata": {},
   "source": [
    "# Advent of Code 2022\n",
    "## Day 14\n",
    "*<https://adventofcode.com/2022/day/14>*"
   ]
  },
  {
   "cell_type": "code",
   "execution_count": 1,
   "metadata": {},
   "outputs": [],
   "source": [
    "import IPython\n",
    "import math\n",
    "import re\n",
    "from new_helper import *\n",
    "from itertools import product, combinations, permutations\n",
    "from collections import Counter, defaultdict\n",
    "from string import ascii_lowercase, ascii_uppercase, ascii_letters\n",
    "from typing import Callable\n",
    "from rich import inspect, print, pretty\n",
    "from random import randint\n",
    "\n",
    "pretty.install()"
   ]
  },
  {
   "cell_type": "code",
   "execution_count": 2,
   "metadata": {},
   "outputs": [],
   "source": [
    "DAY = 14\n",
    "inp = get_aoc_input(DAY, 2022).parse_lines()\n",
    "part_1 = part_2 = 0"
   ]
  },
  {
   "cell_type": "code",
   "execution_count": 3,
   "metadata": {},
   "outputs": [],
   "source": [
    "def parse_inp():\n",
    "    cave = InfiniteGrid((), default=\" \")\n",
    "    for line in inp:\n",
    "        lx, ly = None, None\n",
    "        for pos in line.split(\" -> \"):\n",
    "            x, y = map(int, pos.split(\",\"))\n",
    "            if lx is not None and ly is not None:\n",
    "                for rx in range(min(lx, x), max(lx, x) + 1):\n",
    "                    for ry in range(min(ly, y), max(ly, y) + 1):\n",
    "                        cave[rx, ry] = \"█\"\n",
    "\n",
    "            lx, ly = x, y\n",
    "    return cave"
   ]
  },
  {
   "cell_type": "code",
   "execution_count": 4,
   "metadata": {},
   "outputs": [],
   "source": [
    "def drop_sand(cave: InfiniteGrid[str], max_y, exit_on_max=True):\n",
    "    x, y = 500, 0\n",
    "    while True:\n",
    "        if y > max_y and exit_on_max:\n",
    "            return False\n",
    "\n",
    "        if y == max_y + 1 and not exit_on_max:\n",
    "            break\n",
    "\n",
    "        if (x, y + 1) not in cave:\n",
    "            y += 1\n",
    "            continue\n",
    "\n",
    "        if (x - 1, y + 1) not in cave:\n",
    "            x -= 1\n",
    "            y += 1\n",
    "            continue\n",
    "\n",
    "        if (x + 1, y + 1) not in cave:\n",
    "            x += 1\n",
    "            y += 1\n",
    "            continue\n",
    "\n",
    "        break\n",
    "\n",
    "    cave[x, y] = \"▒\"\n",
    "    if (x, y) == (500, 0):\n",
    "        return False\n",
    "\n",
    "    return True"
   ]
  },
  {
   "cell_type": "code",
   "execution_count": 5,
   "metadata": {},
   "outputs": [],
   "source": [
    "cave = parse_inp()\n",
    "abyss_y = max(y for x, y in cave.positions())\n",
    "while drop_sand(cave, abyss_y):\n",
    "    part_1 += 1"
   ]
  },
  {
   "cell_type": "code",
   "execution_count": 6,
   "metadata": {},
   "outputs": [],
   "source": [
    "cave = parse_inp()\n",
    "floor_y = abyss_y + 2\n",
    "while drop_sand(cave, abyss_y, exit_on_max=False):\n",
    "    part_2 += 1\n",
    "part_2 += 1"
   ]
  },
  {
   "cell_type": "code",
   "execution_count": 7,
   "metadata": {},
   "outputs": [
    {
     "data": {
      "text/html": [
       "<pre style=\"white-space:pre;overflow-x:auto;line-height:normal;font-family:Menlo,'DejaVu Sans Mono',consolas,'Courier New',monospace\"><span style=\"color: #008000; text-decoration-color: #008000; font-weight: bold\">Part </span><span style=\"color: #008000; text-decoration-color: #008000; font-weight: bold\">1</span>: <span style=\"color: #008080; text-decoration-color: #008080; font-weight: bold\">1298</span>\n",
       "</pre>\n"
      ],
      "text/plain": [
       "\u001b[1;32mPart \u001b[0m\u001b[1;32m1\u001b[0m: \u001b[1;36m1298\u001b[0m\n"
      ]
     },
     "metadata": {},
     "output_type": "display_data"
    },
    {
     "data": {
      "text/html": [
       "<pre style=\"white-space:pre;overflow-x:auto;line-height:normal;font-family:Menlo,'DejaVu Sans Mono',consolas,'Courier New',monospace\"><span style=\"color: #008000; text-decoration-color: #008000; font-weight: bold\">Part </span><span style=\"color: #008000; text-decoration-color: #008000; font-weight: bold\">2</span>: <span style=\"color: #008080; text-decoration-color: #008080; font-weight: bold\">25585</span>\n",
       "</pre>\n"
      ],
      "text/plain": [
       "\u001b[1;32mPart \u001b[0m\u001b[1;32m2\u001b[0m: \u001b[1;36m25585\u001b[0m\n"
      ]
     },
     "metadata": {},
     "output_type": "display_data"
    }
   ],
   "source": [
    "print_part_1(part_1)\n",
    "print_part_2(part_2)"
   ]
  },
  {
   "cell_type": "code",
   "execution_count": 8,
   "metadata": {},
   "outputs": [],
   "source": [
    "# submit_part_1(part_1, DAY)\n",
    "# submit_part_2(part_2, DAY)"
   ]
  }
 ],
 "metadata": {
  "kernelspec": {
   "display_name": "venv",
   "language": "python",
   "name": "python3"
  },
  "language_info": {
   "codemirror_mode": {
    "name": "ipython",
    "version": 3
   },
   "file_extension": ".py",
   "mimetype": "text/x-python",
   "name": "python",
   "nbconvert_exporter": "python",
   "pygments_lexer": "ipython3",
   "version": "3.11.1"
  },
  "orig_nbformat": 4,
  "vscode": {
   "interpreter": {
    "hash": "1deb42c3241d521f6003b1a68e85a16645dc710c5467eba0d538286ef971f2c2"
   }
  }
 },
 "nbformat": 4,
 "nbformat_minor": 2
}
