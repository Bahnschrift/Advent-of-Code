{
 "cells": [
  {
   "cell_type": "markdown",
   "metadata": {},
   "source": [
    "# Advent of code 2020: Day 24"
   ]
  },
  {
   "cell_type": "markdown",
   "metadata": {},
   "source": [
    "## Import"
   ]
  },
  {
   "cell_type": "code",
   "execution_count": 1,
   "metadata": {},
   "outputs": [],
   "source": [
    "import math as M\n",
    "import collections as C\n",
    "import itertools as I\n",
    "from helper import *\n",
    "import re\n",
    "\n",
    "\n",
    "day = 24\n",
    "data = get_input_lines(day, 2020)"
   ]
  },
  {
   "cell_type": "markdown",
   "metadata": {},
   "source": [
    "## Part 1"
   ]
  },
  {
   "cell_type": "code",
   "execution_count": 2,
   "metadata": {},
   "outputs": [],
   "source": [
    "def format_dirs(line):\n",
    "    dirs = []\n",
    "    last = line[0]\n",
    "    if last not in \"ns\":\n",
    "        dirs += [last]\n",
    "        last = None\n",
    "    for c in line[1:]:\n",
    "        if last in (\"s\", \"n\"):\n",
    "            dirs += [last + c]\n",
    "            last = None\n",
    "        elif c in (\"s\", \"n\"):\n",
    "            last = c\n",
    "        else:\n",
    "            dirs += [c]\n",
    "            last = None\n",
    "    return dirs\n",
    "\n",
    "def get_pos(dirs, pos=(0, 0)):\n",
    "    pos = list(pos)\n",
    "    for di in dirs:\n",
    "        if di == \"e\":\n",
    "            pos[1] += 1\n",
    "        elif di == \"w\":\n",
    "            pos[1] -= 1\n",
    "        elif di == \"se\":\n",
    "            pos[0] -= 1\n",
    "        elif di == \"sw\":\n",
    "            pos[0] -= 1\n",
    "            pos[1] -= 1\n",
    "        elif di == \"ne\":\n",
    "            pos[0] += 1\n",
    "            pos[1] += 1\n",
    "        elif di == \"nw\":\n",
    "            pos[0] += 1\n",
    "    return tuple(pos)"
   ]
  },
  {
   "cell_type": "code",
   "execution_count": 3,
   "metadata": {},
   "outputs": [
    {
     "data": {
      "text/html": [
       "<pre style=\"white-space:pre;overflow-x:auto;line-height:normal;font-family:Menlo,'DejaVu Sans Mono',consolas,'Courier New',monospace\"><span style=\"color: #008080; text-decoration-color: #008080; font-weight: bold\">450</span>\n",
       "</pre>\n"
      ],
      "text/plain": [
       "\u001b[1;36m450\u001b[0m\n"
      ]
     },
     "metadata": {},
     "output_type": "display_data"
    }
   ],
   "source": [
    "def get_initial(data):\n",
    "    visited = set()\n",
    "    for dirs in map(format_dirs, data):\n",
    "        pos = get_pos(dirs)\n",
    "        if pos in visited:\n",
    "            visited.remove(pos)\n",
    "        else:\n",
    "            visited.add(pos)\n",
    "    return visited\n",
    "\n",
    "print(len(get_initial(data)))"
   ]
  },
  {
   "cell_type": "markdown",
   "metadata": {},
   "source": [
    "## Part 2"
   ]
  },
  {
   "cell_type": "code",
   "execution_count": 4,
   "metadata": {},
   "outputs": [
    {
     "data": {
      "text/html": [
       "<pre style=\"white-space:pre;overflow-x:auto;line-height:normal;font-family:Menlo,'DejaVu Sans Mono',consolas,'Courier New',monospace\"><span style=\"color: #008080; text-decoration-color: #008080; font-weight: bold\">4059</span>\n",
       "</pre>\n"
      ],
      "text/plain": [
       "\u001b[1;36m4059\u001b[0m\n"
      ]
     },
     "metadata": {},
     "output_type": "display_data"
    }
   ],
   "source": [
    "active = get_initial(data)\n",
    "for _ in range(100):\n",
    "    min_vals = [min(pos[x] for pos in active) for x in range(2)]\n",
    "    max_vals = [max(pos[x] for pos in active) for x in range(2)]\n",
    "    new = set(active)\n",
    "    for pos in I.product(range(min_vals[0] - 1, max_vals[0] + 2), range(min_vals[1] - 1, max_vals[1] + 2)):\n",
    "        c = 0\n",
    "        for neighbour_offset in [(0, 1), (0, -1), (-1, -1), (1, 1), (1, 0), (-1, 0)]:\n",
    "            neighbour_pos = tuple(map(sum, zip(pos, neighbour_offset)))\n",
    "            if neighbour_pos in active:\n",
    "                c += 1\n",
    "        if (c == 0 or c > 2) and (pos in active):\n",
    "            new.remove(pos)\n",
    "        elif (c == 2) and (pos not in active):\n",
    "            new.add(pos)\n",
    "    active = new\n",
    "\n",
    "print(len(active))"
   ]
  }
 ],
 "metadata": {
  "kernelspec": {
   "display_name": "Python 3.10.4 ('venv': venv)",
   "language": "python",
   "name": "python3"
  },
  "language_info": {
   "codemirror_mode": {
    "name": "ipython",
    "version": 3
   },
   "file_extension": ".py",
   "mimetype": "text/x-python",
   "name": "python",
   "nbconvert_exporter": "python",
   "pygments_lexer": "ipython3",
   "version": "3.10.4"
  },
  "orig_nbformat": 2,
  "vscode": {
   "interpreter": {
    "hash": "1deb42c3241d521f6003b1a68e85a16645dc710c5467eba0d538286ef971f2c2"
   }
  }
 },
 "nbformat": 4,
 "nbformat_minor": 2
}
