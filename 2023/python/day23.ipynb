{
 "cells": [
  {
   "cell_type": "markdown",
   "metadata": {},
   "source": [
    "# Advent of Code 2023\n",
    "## Day 23\n",
    "*<https://adventofcode.com/2023/day/23>*"
   ]
  },
  {
   "cell_type": "code",
   "execution_count": 1,
   "metadata": {},
   "outputs": [],
   "source": [
    "import heapq\n",
    "import math\n",
    "import re\n",
    "import functools as ft\n",
    "from collections import Counter, defaultdict, deque, namedtuple\n",
    "from itertools import combinations, permutations, product\n",
    "from string import ascii_letters, ascii_lowercase, ascii_uppercase\n",
    "\n",
    "import IPython\n",
    "import z3\n",
    "from rich import inspect, pretty, print\n",
    "\n",
    "from new_helper import *\n",
    "\n",
    "pretty.install()"
   ]
  },
  {
   "cell_type": "code",
   "execution_count": 2,
   "metadata": {},
   "outputs": [],
   "source": [
    "DAY = 23\n",
    "input_str = get_aoc_input(DAY, 2023)\n",
    "part_1 = part_2 = 0"
   ]
  },
  {
   "cell_type": "code",
   "execution_count": 3,
   "metadata": {},
   "outputs": [],
   "source": [
    "inp = input_str.parse_grid()"
   ]
  },
  {
   "cell_type": "code",
   "execution_count": 4,
   "metadata": {},
   "outputs": [],
   "source": [
    "class Region:\n",
    "    positions: set[tuple[int, int]]\n",
    "    neighbours: set[\"Region\"]\n",
    "\n",
    "    def __init__(self):\n",
    "        self.positions = set()\n",
    "        self.neighbours = set()\n",
    "\n",
    "    def add(self, x, y):\n",
    "        self.positions.add((x, y))\n",
    "\n",
    "    def add_neighbour(self, other: \"Region\"):\n",
    "        self.neighbours.add(other)\n",
    "\n",
    "    def __contains__(self, item):\n",
    "        return item in self.positions\n",
    "\n",
    "    def size(self):\n",
    "        return len(self.positions)\n",
    "\n",
    "    def __repr__(self):\n",
    "        return f\"Region({self.size()})\"\n",
    "\n",
    "\n",
    "regions: list[Region] = []\n",
    "\n",
    "for (x, y), c in inp.items():\n",
    "    if c == \".\":\n",
    "        if any((x, y) in r for r in regions):\n",
    "            continue\n",
    "\n",
    "        r = Region()\n",
    "        regions.append(r)\n",
    "        r.add(x, y)\n",
    "\n",
    "        q = deque([(x, y)])\n",
    "        while q:\n",
    "            x, y = q.popleft()\n",
    "            for (nx, ny), nc in inp.adjacent_4_items(x, y):\n",
    "                if nc == \".\" and (nx, ny) not in r:\n",
    "                    r.add(nx, ny)\n",
    "                    q.append((nx, ny))"
   ]
  },
  {
   "cell_type": "code",
   "execution_count": 5,
   "metadata": {},
   "outputs": [],
   "source": [
    "def get_region(x, y):\n",
    "    for r in regions:\n",
    "        if (x, y) in r:\n",
    "            return r\n",
    "\n",
    "    assert False, \"no region found\""
   ]
  },
  {
   "cell_type": "code",
   "execution_count": 6,
   "metadata": {},
   "outputs": [],
   "source": [
    "sx, sy = inp.find(\".\")\n",
    "assert sy == 0\n",
    "\n",
    "DIRS = {\n",
    "    \">\": (1, 0),\n",
    "    \"<\": (-1, 0),\n",
    "    \"^\": (0, -1),\n",
    "    \"v\": (0, 1),\n",
    "}\n",
    "\n",
    "start_reg: Region = [r for r in regions if (sx, sy) in r][0]\n",
    "end_reg: Region = [r for r in regions if (inp.width - 2, inp.height - 1) in r][0]\n",
    "\n",
    "for (x, y), c in inp.items():\n",
    "    if c in \"<>v^\":\n",
    "        dx, dy = DIRS[c]\n",
    "        prev = get_region(x - dx, y - dy)\n",
    "        next = get_region(x + dx, y + dy)\n",
    "\n",
    "        prev.add_neighbour(next)"
   ]
  },
  {
   "cell_type": "markdown",
   "metadata": {},
   "source": [
    "Could have got top 50 for part 2 here if I'd realised that while using `0` as a base value for part 1 works fine, for part 2 it does not."
   ]
  },
  {
   "cell_type": "code",
   "execution_count": 7,
   "metadata": {},
   "outputs": [],
   "source": [
    "def longest_path_regions(cur: Region, end: Region, visited: set[Region] = None):\n",
    "    if cur == end:\n",
    "        return end_reg.size()\n",
    "\n",
    "    if visited is None:\n",
    "        visited = set()\n",
    "\n",
    "    visited.add(cur)\n",
    "\n",
    "    longest = -math.inf\n",
    "    for n in cur.neighbours:\n",
    "        if n in visited:\n",
    "            continue\n",
    "\n",
    "        longest = max(longest, 1 + cur.size() + longest_path_regions(n, end, visited))\n",
    "\n",
    "    visited.remove(cur)\n",
    "    return longest\n",
    "\n",
    "\n",
    "part_1 = longest_path_regions(start_reg, end_reg) - 1"
   ]
  },
  {
   "cell_type": "code",
   "execution_count": 8,
   "metadata": {},
   "outputs": [],
   "source": [
    "for r in regions:\n",
    "    for n in r.neighbours:\n",
    "        n.add_neighbour(r)\n",
    "\n",
    "part_2 = longest_path_regions(start_reg, end_reg) - 1"
   ]
  },
  {
   "cell_type": "code",
   "execution_count": 9,
   "metadata": {},
   "outputs": [
    {
     "data": {
      "text/html": [
       "<pre style=\"white-space:pre;overflow-x:auto;line-height:normal;font-family:Menlo,'DejaVu Sans Mono',consolas,'Courier New',monospace\"><span style=\"color: #008000; text-decoration-color: #008000; font-weight: bold\">Part </span><span style=\"color: #008000; text-decoration-color: #008000; font-weight: bold\">1</span>: <span style=\"color: #008080; text-decoration-color: #008080; font-weight: bold\">2430</span>\n",
       "</pre>\n"
      ],
      "text/plain": [
       "\u001b[1;32mPart \u001b[0m\u001b[1;32m1\u001b[0m: \u001b[1;36m2430\u001b[0m\n"
      ]
     },
     "metadata": {},
     "output_type": "display_data"
    },
    {
     "data": {
      "text/html": [
       "<pre style=\"white-space:pre;overflow-x:auto;line-height:normal;font-family:Menlo,'DejaVu Sans Mono',consolas,'Courier New',monospace\"><span style=\"color: #008000; text-decoration-color: #008000; font-weight: bold\">Part </span><span style=\"color: #008000; text-decoration-color: #008000; font-weight: bold\">2</span>: <span style=\"color: #008080; text-decoration-color: #008080; font-weight: bold\">6534</span>\n",
       "</pre>\n"
      ],
      "text/plain": [
       "\u001b[1;32mPart \u001b[0m\u001b[1;32m2\u001b[0m: \u001b[1;36m6534\u001b[0m\n"
      ]
     },
     "metadata": {},
     "output_type": "display_data"
    }
   ],
   "source": [
    "print_part_1(part_1)\n",
    "print_part_2(part_2)"
   ]
  }
 ],
 "metadata": {
  "kernelspec": {
   "display_name": "venv",
   "language": "python",
   "name": "python3"
  },
  "language_info": {
   "codemirror_mode": {
    "name": "ipython",
    "version": 3
   },
   "file_extension": ".py",
   "mimetype": "text/x-python",
   "name": "python",
   "nbconvert_exporter": "python",
   "pygments_lexer": "ipython3",
   "version": "3.10.13"
  },
  "orig_nbformat": 4,
  "vscode": {
   "interpreter": {
    "hash": "1deb42c3241d521f6003b1a68e85a16645dc710c5467eba0d538286ef971f2c2"
   }
  }
 },
 "nbformat": 4,
 "nbformat_minor": 2
}
