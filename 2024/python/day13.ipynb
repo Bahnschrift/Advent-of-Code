{
 "cells": [
  {
   "cell_type": "markdown",
   "metadata": {},
   "source": [
    "# Advent of Code 2024\n",
    "## Day 13\n",
    "*<https://adventofcode.com/2024/day/13>*"
   ]
  },
  {
   "cell_type": "code",
   "execution_count": 1,
   "metadata": {},
   "outputs": [],
   "source": [
    "import heapq\n",
    "import math\n",
    "import re\n",
    "import functools as ft\n",
    "from collections import Counter, defaultdict, deque, namedtuple\n",
    "from itertools import combinations, permutations, product\n",
    "from string import ascii_letters, ascii_lowercase, ascii_uppercase\n",
    "\n",
    "import z3\n",
    "from rich import inspect, pretty, print\n",
    "\n",
    "from new_helper import *\n",
    "\n",
    "pretty.install()\n",
    "\n",
    "try:\n",
    "    import ipykernel\n",
    "\n",
    "    with open(\"kernel\", \"w+\") as f:\n",
    "        f.write(ipykernel.get_connection_file())\n",
    "except:\n",
    "    pass"
   ]
  },
  {
   "cell_type": "code",
   "execution_count": 2,
   "metadata": {},
   "outputs": [],
   "source": [
    "DAY = 13\n",
    "YEAR = 2024\n",
    "input_str = get_aoc_input(DAY, 2024)\n",
    "part_1 = part_2 = 0"
   ]
  },
  {
   "cell_type": "code",
   "execution_count": 4,
   "metadata": {},
   "outputs": [],
   "source": [
    "inp = input_str.parse_groups()"
   ]
  },
  {
   "cell_type": "code",
   "execution_count": 5,
   "metadata": {},
   "outputs": [],
   "source": [
    "for mac in inp:\n",
    "    ax, ay = ints(mac[0])\n",
    "    bx, by = ints(mac[1])\n",
    "    px, py = ints(mac[2])\n",
    "\n",
    "    s = z3.Optimize()\n",
    "    a = z3.Int(\"a\")\n",
    "    b = z3.Int(\"b\")\n",
    "    s.add(a >= 0)\n",
    "    s.add(b >= 0)\n",
    "    s.add((a * ax) + (b * bx) == px)\n",
    "    s.add((a * ay) + (b * by) == py)\n",
    "    s.minimize(3 * a + b)\n",
    "\n",
    "    s.check()\n",
    "    model = s.model()\n",
    "\n",
    "    if model:\n",
    "        part_1 += 3 * model[a].as_long() + model[b].as_long()"
   ]
  },
  {
   "cell_type": "code",
   "execution_count": 6,
   "metadata": {},
   "outputs": [],
   "source": [
    "for mac in inp:\n",
    "    ax, ay = ints(mac[0])\n",
    "    bx, by = ints(mac[1])\n",
    "    px, py = ints(mac[2])\n",
    "\n",
    "    px += 10000000000000\n",
    "    py += 10000000000000\n",
    "\n",
    "    s = z3.Optimize()\n",
    "    a = z3.Int(\"a\")\n",
    "    b = z3.Int(\"b\")\n",
    "    s.add(a >= 0)\n",
    "    s.add(b >= 0)\n",
    "    s.add(a * ax + b * bx == px)\n",
    "    s.add(a * ay + b * by == py)\n",
    "    s.minimize(3 * a + b)\n",
    "\n",
    "    s.check()\n",
    "    model = s.model()\n",
    "\n",
    "    if model:\n",
    "        part_2 += 3 * model[a].as_long() + model[b].as_long()"
   ]
  },
  {
   "cell_type": "code",
   "execution_count": 7,
   "metadata": {},
   "outputs": [
    {
     "data": {
      "text/html": [
       "<pre style=\"white-space:pre;overflow-x:auto;line-height:normal;font-family:Menlo,'DejaVu Sans Mono',consolas,'Courier New',monospace\"><span style=\"color: #008000; text-decoration-color: #008000; font-weight: bold\">Part </span><span style=\"color: #008000; text-decoration-color: #008000; font-weight: bold\">1</span>: <span style=\"color: #008080; text-decoration-color: #008080; font-weight: bold\">38714</span>\n",
       "</pre>\n"
      ],
      "text/plain": [
       "\u001b[1;32mPart \u001b[0m\u001b[1;32m1\u001b[0m: \u001b[1;36m38714\u001b[0m\n"
      ]
     },
     "metadata": {},
     "output_type": "display_data"
    },
    {
     "data": {
      "text/html": [
       "<pre style=\"white-space:pre;overflow-x:auto;line-height:normal;font-family:Menlo,'DejaVu Sans Mono',consolas,'Courier New',monospace\"><span style=\"color: #008000; text-decoration-color: #008000; font-weight: bold\">Part </span><span style=\"color: #008000; text-decoration-color: #008000; font-weight: bold\">2</span>: <span style=\"color: #008080; text-decoration-color: #008080; font-weight: bold\">74015623345775</span>\n",
       "</pre>\n"
      ],
      "text/plain": [
       "\u001b[1;32mPart \u001b[0m\u001b[1;32m2\u001b[0m: \u001b[1;36m74015623345775\u001b[0m\n"
      ]
     },
     "metadata": {},
     "output_type": "display_data"
    }
   ],
   "source": [
    "print_part_1(part_1)\n",
    "print_part_2(part_2)"
   ]
  }
 ],
 "metadata": {
  "kernelspec": {
   "display_name": ".venv-pypy",
   "language": "python",
   "name": "python3"
  },
  "language_info": {
   "codemirror_mode": {
    "name": "ipython",
    "version": 3
   },
   "file_extension": ".py",
   "mimetype": "text/x-python",
   "name": "python",
   "nbconvert_exporter": "python",
   "pygments_lexer": "ipython3",
   "version": "3.10.14"
  },
  "orig_nbformat": 4
 },
 "nbformat": 4,
 "nbformat_minor": 2
}
