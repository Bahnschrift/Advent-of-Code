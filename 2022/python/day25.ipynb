{
 "cells": [
  {
   "cell_type": "markdown",
   "metadata": {},
   "source": [
    "# Advent of Code 2022\n",
    "## Day 25\n",
    "*<https://adventofcode.com/2022/day/25>*"
   ]
  },
  {
   "cell_type": "code",
   "execution_count": 1,
   "metadata": {},
   "outputs": [],
   "source": [
    "import heapq\n",
    "import math\n",
    "import re\n",
    "from collections import Counter, defaultdict, deque, namedtuple\n",
    "from itertools import combinations, permutations, product\n",
    "from string import ascii_letters, ascii_lowercase, ascii_uppercase\n",
    "\n",
    "import IPython\n",
    "import z3\n",
    "from rich import inspect, pretty, print\n",
    "\n",
    "from new_helper import *\n",
    "\n",
    "pretty.install()"
   ]
  },
  {
   "cell_type": "code",
   "execution_count": 2,
   "metadata": {},
   "outputs": [],
   "source": [
    "DAY = 25\n",
    "inp = get_aoc_input(DAY, 2022)\n",
    "part_1 = part_2 = 0"
   ]
  },
  {
   "cell_type": "code",
   "execution_count": 3,
   "metadata": {},
   "outputs": [],
   "source": [
    "inp = inp.parse_lines()"
   ]
  },
  {
   "cell_type": "code",
   "execution_count": 4,
   "metadata": {},
   "outputs": [],
   "source": [
    "lookup = {\n",
    "    \"=\": -2,\n",
    "    \"-\": -1,\n",
    "    \"0\": 0,\n",
    "    \"1\": 1,\n",
    "    \"2\": 2,\n",
    "}\n",
    "\n",
    "reverse_lookup = {v: k for k, v in lookup.items()}\n",
    "\n",
    "\n",
    "class Snafu:\n",
    "    def __init__(self, n: str):\n",
    "        self.n = n\n",
    "\n",
    "    def __add__(self, other: \"Snafu\"):\n",
    "        n1 = self.n\n",
    "        n2 = other.n\n",
    "        max_len = max(len(n1), len(n2))\n",
    "        n1 = \"0\" * (max_len - len(n1)) + n1\n",
    "        n2 = \"0\" * (max_len - len(n2)) + n2\n",
    "\n",
    "        res = \"\"\n",
    "        carry = 0\n",
    "        for i in range(max_len - 1, -1, -1):\n",
    "            s = lookup[n1[i]] + lookup[n2[i]] + carry\n",
    "            if s > 2:\n",
    "                res += reverse_lookup[s - 5]\n",
    "                carry = 1\n",
    "            elif s < -2:\n",
    "                res += reverse_lookup[s + 5]\n",
    "                carry = -1\n",
    "            else:\n",
    "                res += reverse_lookup[s]\n",
    "                carry = 0\n",
    "        if carry:\n",
    "            res += reverse_lookup[carry]\n",
    "        return Snafu(res[::-1])\n",
    "\n",
    "    def __radd__(self, other: int):\n",
    "        return self.__add__(Snafu(str(other)))\n",
    "\n",
    "    def __repr__(self) -> str:\n",
    "        return self.n"
   ]
  },
  {
   "cell_type": "code",
   "execution_count": 5,
   "metadata": {},
   "outputs": [],
   "source": [
    "part_1 = sum(map(Snafu, inp))"
   ]
  },
  {
   "cell_type": "code",
   "execution_count": 6,
   "metadata": {},
   "outputs": [
    {
     "data": {
      "text/html": [
       "<pre style=\"white-space:pre;overflow-x:auto;line-height:normal;font-family:Menlo,'DejaVu Sans Mono',consolas,'Courier New',monospace\"><span style=\"color: #008000; text-decoration-color: #008000; font-weight: bold\">Part </span><span style=\"color: #008000; text-decoration-color: #008000; font-weight: bold\">1</span>: <span style=\"color: #008080; text-decoration-color: #008080; font-weight: bold\">2</span>-=<span style=\"color: #008080; text-decoration-color: #008080; font-weight: bold\">102</span>-<span style=\"color: #008080; text-decoration-color: #008080; font-weight: bold\">-02</span>--=<span style=\"color: #008080; text-decoration-color: #008080; font-weight: bold\">1</span>-<span style=\"color: #008080; text-decoration-color: #008080; font-weight: bold\">12</span>=<span style=\"color: #008080; text-decoration-color: #008080; font-weight: bold\">22</span>\n",
       "</pre>\n"
      ],
      "text/plain": [
       "\u001b[1;32mPart \u001b[0m\u001b[1;32m1\u001b[0m: \u001b[1;36m2\u001b[0m-=\u001b[1;36m102\u001b[0m-\u001b[1;36m-02\u001b[0m--=\u001b[1;36m1\u001b[0m-\u001b[1;36m12\u001b[0m=\u001b[1;36m22\u001b[0m\n"
      ]
     },
     "metadata": {},
     "output_type": "display_data"
    }
   ],
   "source": [
    "print_part_1(part_1)"
   ]
  },
  {
   "cell_type": "code",
   "execution_count": 7,
   "metadata": {},
   "outputs": [],
   "source": [
    "# submit_part_1(part_1, DAY, 2022)"
   ]
  }
 ],
 "metadata": {
  "kernelspec": {
   "display_name": "venv",
   "language": "python",
   "name": "python3"
  },
  "language_info": {
   "codemirror_mode": {
    "name": "ipython",
    "version": 3
   },
   "file_extension": ".py",
   "mimetype": "text/x-python",
   "name": "python",
   "nbconvert_exporter": "python",
   "pygments_lexer": "ipython3",
   "version": "3.11.1"
  },
  "orig_nbformat": 4,
  "vscode": {
   "interpreter": {
    "hash": "1deb42c3241d521f6003b1a68e85a16645dc710c5467eba0d538286ef971f2c2"
   }
  }
 },
 "nbformat": 4,
 "nbformat_minor": 2
}
