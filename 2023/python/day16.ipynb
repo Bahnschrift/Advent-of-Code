{
 "cells": [
  {
   "cell_type": "markdown",
   "metadata": {},
   "source": [
    "# Advent of Code 2023\n",
    "## Day 16\n",
    "*<https://adventofcode.com/2023/day/16>*"
   ]
  },
  {
   "cell_type": "code",
   "execution_count": 1,
   "metadata": {},
   "outputs": [],
   "source": [
    "import heapq\n",
    "import math\n",
    "import re\n",
    "import functools as ft\n",
    "from collections import Counter, defaultdict, deque, namedtuple, OrderedDict\n",
    "from itertools import combinations, permutations, product\n",
    "from string import ascii_letters, ascii_lowercase, ascii_uppercase\n",
    "\n",
    "import IPython\n",
    "import z3\n",
    "from rich import inspect, pretty, print\n",
    "\n",
    "from new_helper import *\n",
    "\n",
    "pretty.install()"
   ]
  },
  {
   "cell_type": "code",
   "execution_count": 2,
   "metadata": {},
   "outputs": [],
   "source": [
    "DAY = 16\n",
    "input_str = get_aoc_input(DAY, 2023)\n",
    "part_1 = part_2 = 0"
   ]
  },
  {
   "cell_type": "code",
   "execution_count": 3,
   "metadata": {},
   "outputs": [],
   "source": [
    "inp = input_str.parse_grid()"
   ]
  },
  {
   "cell_type": "code",
   "execution_count": 4,
   "metadata": {},
   "outputs": [],
   "source": [
    "def compute(x: int = 0, y: int = 0, d: str = \"E\") -> int:\n",
    "    x -= DIRECTIONS[d][0]\n",
    "    y -= DIRECTIONS[d][1]\n",
    "    energised = set()\n",
    "\n",
    "    def energise(x: int, y: int, d: str, energised: set[tuple[int, int, str]]):\n",
    "        if (x, y, d) in energised:\n",
    "            return\n",
    "\n",
    "        energised.add((x, y, d))\n",
    "        dx, dy = DIRECTIONS[d]\n",
    "        nx, ny = x + dx, y + dy\n",
    "\n",
    "        if not inp.in_bounds(nx, ny):\n",
    "            return\n",
    "\n",
    "        c = inp[nx, ny]\n",
    "        if c == \".\":\n",
    "            energise(nx, ny, d, energised)\n",
    "        elif c == \"-\":\n",
    "            if d == \"N\":\n",
    "                energise(nx, ny, \"E\", energised)\n",
    "                energise(nx, ny, \"W\", energised)\n",
    "            elif d == \"S\":\n",
    "                energise(nx, ny, \"E\", energised)\n",
    "                energise(nx, ny, \"W\", energised)\n",
    "            elif d == \"E\":\n",
    "                energise(nx, ny, d, energised)\n",
    "            elif d == \"W\":\n",
    "                energise(nx, ny, d, energised)\n",
    "        elif c == \"|\":\n",
    "            if d == \"N\":\n",
    "                energise(nx, ny, d, energised)\n",
    "            elif d == \"S\":\n",
    "                energise(nx, ny, d, energised)\n",
    "            elif d == \"E\":\n",
    "                energise(nx, ny, \"N\", energised)\n",
    "                energise(nx, ny, \"S\", energised)\n",
    "            elif d == \"W\":\n",
    "                energise(nx, ny, \"N\", energised)\n",
    "                energise(nx, ny, \"S\", energised)\n",
    "        elif c == \"/\":\n",
    "            if d == \"N\":\n",
    "                energise(nx, ny, \"E\", energised)\n",
    "            elif d == \"S\":\n",
    "                energise(nx, ny, \"W\", energised)\n",
    "            elif d == \"E\":\n",
    "                energise(nx, ny, \"N\", energised)\n",
    "            elif d == \"W\":\n",
    "                energise(nx, ny, \"S\", energised)\n",
    "        elif c == \"\\\\\":\n",
    "            if d == \"N\":\n",
    "                energise(nx, ny, \"W\", energised)\n",
    "            elif d == \"S\":\n",
    "                energise(nx, ny, \"E\", energised)\n",
    "            elif d == \"E\":\n",
    "                energise(nx, ny, \"S\", energised)\n",
    "            elif d == \"W\":\n",
    "                energise(nx, ny, \"N\", energised)\n",
    "\n",
    "    energise(x, y, d, energised)\n",
    "    points = set()\n",
    "    for x, y, d in energised:\n",
    "        points.add((x, y))\n",
    "\n",
    "    return len(points) - 1"
   ]
  },
  {
   "cell_type": "code",
   "execution_count": 5,
   "metadata": {},
   "outputs": [],
   "source": [
    "import sys\n",
    "\n",
    "sys.setrecursionlimit(100000)\n",
    "\n",
    "part_1 = compute()\n",
    "\n",
    "for x in range(inp.width):\n",
    "    part_2 = max(part_2, compute(x, 0, \"S\"))\n",
    "    part_2 = max(part_2, compute(x, inp.height - 1, \"N\"))\n",
    "\n",
    "for y in range(inp.height):\n",
    "    part_2 = max(part_2, compute(0, y, \"E\"))\n",
    "    part_2 = max(part_2, compute(inp.width - 1, y, \"W\"))"
   ]
  },
  {
   "cell_type": "code",
   "execution_count": 6,
   "metadata": {},
   "outputs": [
    {
     "data": {
      "text/html": [
       "<pre style=\"white-space:pre;overflow-x:auto;line-height:normal;font-family:Menlo,'DejaVu Sans Mono',consolas,'Courier New',monospace\"><span style=\"color: #008000; text-decoration-color: #008000; font-weight: bold\">Part </span><span style=\"color: #008000; text-decoration-color: #008000; font-weight: bold\">1</span>: <span style=\"color: #008080; text-decoration-color: #008080; font-weight: bold\">6902</span>\n",
       "</pre>\n"
      ],
      "text/plain": [
       "\u001b[1;32mPart \u001b[0m\u001b[1;32m1\u001b[0m: \u001b[1;36m6902\u001b[0m\n"
      ]
     },
     "metadata": {},
     "output_type": "display_data"
    },
    {
     "data": {
      "text/html": [
       "<pre style=\"white-space:pre;overflow-x:auto;line-height:normal;font-family:Menlo,'DejaVu Sans Mono',consolas,'Courier New',monospace\"><span style=\"color: #008000; text-decoration-color: #008000; font-weight: bold\">Part </span><span style=\"color: #008000; text-decoration-color: #008000; font-weight: bold\">2</span>: <span style=\"color: #008080; text-decoration-color: #008080; font-weight: bold\">7697</span>\n",
       "</pre>\n"
      ],
      "text/plain": [
       "\u001b[1;32mPart \u001b[0m\u001b[1;32m2\u001b[0m: \u001b[1;36m7697\u001b[0m\n"
      ]
     },
     "metadata": {},
     "output_type": "display_data"
    }
   ],
   "source": [
    "print_part_1(part_1)\n",
    "print_part_2(part_2)"
   ]
  }
 ],
 "metadata": {
  "kernelspec": {
   "display_name": "venv",
   "language": "python",
   "name": "python3"
  },
  "language_info": {
   "codemirror_mode": {
    "name": "ipython",
    "version": 3
   },
   "file_extension": ".py",
   "mimetype": "text/x-python",
   "name": "python",
   "nbconvert_exporter": "python",
   "pygments_lexer": "ipython3",
   "version": "3.12.0"
  },
  "orig_nbformat": 4,
  "vscode": {
   "interpreter": {
    "hash": "1deb42c3241d521f6003b1a68e85a16645dc710c5467eba0d538286ef971f2c2"
   }
  }
 },
 "nbformat": 4,
 "nbformat_minor": 2
}
