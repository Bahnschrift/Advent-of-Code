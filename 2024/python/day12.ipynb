{
 "cells": [
  {
   "cell_type": "markdown",
   "metadata": {},
   "source": [
    "# Advent of Code 2024\n",
    "## Day 12\n",
    "*<https://adventofcode.com/2024/day/12>*"
   ]
  },
  {
   "cell_type": "code",
   "execution_count": 1,
   "metadata": {},
   "outputs": [],
   "source": [
    "import heapq\n",
    "import math\n",
    "import re\n",
    "import functools as ft\n",
    "from collections import Counter, defaultdict, deque, namedtuple\n",
    "from itertools import combinations, permutations, product\n",
    "from string import ascii_letters, ascii_lowercase, ascii_uppercase\n",
    "\n",
    "# import z3\n",
    "from rich import inspect, pretty, print\n",
    "\n",
    "from new_helper import *\n",
    "\n",
    "pretty.install()\n",
    "\n",
    "try:\n",
    "    import ipykernel\n",
    "\n",
    "    with open(\"kernel\", \"w+\") as f:\n",
    "        f.write(ipykernel.get_connection_file())\n",
    "except:\n",
    "    pass"
   ]
  },
  {
   "cell_type": "code",
   "execution_count": 2,
   "metadata": {},
   "outputs": [],
   "source": [
    "DAY = 12\n",
    "YEAR = 2024\n",
    "input_str = get_aoc_input(DAY, 2024)\n",
    "part_1 = part_2 = 0"
   ]
  },
  {
   "cell_type": "code",
   "execution_count": 3,
   "metadata": {},
   "outputs": [],
   "source": [
    "inp = input_str.parse_grid()"
   ]
  },
  {
   "cell_type": "code",
   "execution_count": 4,
   "metadata": {},
   "outputs": [],
   "source": [
    "def test(x, y, c):\n",
    "    return inp.in_bounds(x, y) and inp[x, y] == c"
   ]
  },
  {
   "cell_type": "code",
   "execution_count": 5,
   "metadata": {},
   "outputs": [],
   "source": [
    "done = set()\n",
    "\n",
    "for (x, y), c in inp.items():\n",
    "    if (x, y) in done:\n",
    "        continue\n",
    "\n",
    "    s = {(x, y)}\n",
    "    done.add((x, y))\n",
    "    Q = deque()\n",
    "    for (nx, ny), nc in inp.adjacent_4_items(x, y):\n",
    "        if nc == c:\n",
    "            Q.append((nx, ny))\n",
    "            s.add((nx, ny))\n",
    "            done.add((nx, ny))\n",
    "\n",
    "    while Q:\n",
    "        x, y = Q.pop()\n",
    "\n",
    "        for (nx, ny), nc in inp.adjacent_4_items(x, y):\n",
    "            if nc == c and (nx, ny) not in s:\n",
    "                Q.append((nx, ny))\n",
    "                s.add((nx, ny))\n",
    "                done.add((nx, ny))\n",
    "\n",
    "    area = len(s)\n",
    "    per = 0\n",
    "    sides = 0\n",
    "    for x, y in s:\n",
    "        num_adj = 0\n",
    "        per += 4\n",
    "        for (nx, ny), nc in inp.adjacent_4_items(x, y):\n",
    "            if nc == c:\n",
    "                num_adj += 1\n",
    "                per -= 1\n",
    "\n",
    "        if not test(x, y - 1, c) and not test(x + 1, y, c):\n",
    "            sides += 1\n",
    "        if not test(x + 1, y, c) and not test(x, y + 1, c):\n",
    "            sides += 1\n",
    "        if not test(x, y + 1, c) and not test(x - 1, y, c):\n",
    "            sides += 1\n",
    "        if not test(x - 1, y, c) and not test(x, y - 1, c):\n",
    "            sides += 1\n",
    "\n",
    "        if test(x, y - 1, c) and test(x + 1, y, c) and not test(x + 1, y - 1, c):\n",
    "            sides += 1\n",
    "        if test(x + 1, y, c) and test(x, y + 1, c) and not test(x + 1, y + 1, c):\n",
    "            sides += 1\n",
    "        if test(x, y + 1, c) and test(x - 1, y, c) and not test(x - 1, y + 1, c):\n",
    "            sides += 1\n",
    "        if test(x - 1, y, c) and test(x, y - 1, c) and not test(x - 1, y - 1, c):\n",
    "            sides += 1\n",
    "\n",
    "    part_1 += area * per\n",
    "    part_2 += area * sides"
   ]
  },
  {
   "cell_type": "code",
   "execution_count": 6,
   "metadata": {},
   "outputs": [
    {
     "data": {
      "text/html": [
       "<pre style=\"white-space:pre;overflow-x:auto;line-height:normal;font-family:Menlo,'DejaVu Sans Mono',consolas,'Courier New',monospace\"><span style=\"color: #008000; text-decoration-color: #008000; font-weight: bold\">Part </span><span style=\"color: #008000; text-decoration-color: #008000; font-weight: bold\">1</span>: <span style=\"color: #008080; text-decoration-color: #008080; font-weight: bold\">1483212</span>\n",
       "</pre>\n"
      ],
      "text/plain": [
       "\u001b[1;32mPart \u001b[0m\u001b[1;32m1\u001b[0m: \u001b[1;36m1483212\u001b[0m\n"
      ]
     },
     "metadata": {},
     "output_type": "display_data"
    },
    {
     "data": {
      "text/html": [
       "<pre style=\"white-space:pre;overflow-x:auto;line-height:normal;font-family:Menlo,'DejaVu Sans Mono',consolas,'Courier New',monospace\"><span style=\"color: #008000; text-decoration-color: #008000; font-weight: bold\">Part </span><span style=\"color: #008000; text-decoration-color: #008000; font-weight: bold\">2</span>: <span style=\"color: #008080; text-decoration-color: #008080; font-weight: bold\">897062</span>\n",
       "</pre>\n"
      ],
      "text/plain": [
       "\u001b[1;32mPart \u001b[0m\u001b[1;32m2\u001b[0m: \u001b[1;36m897062\u001b[0m\n"
      ]
     },
     "metadata": {},
     "output_type": "display_data"
    }
   ],
   "source": [
    "print_part_1(part_1)\n",
    "print_part_2(part_2)"
   ]
  }
 ],
 "metadata": {
  "kernelspec": {
   "display_name": ".venv-pypy",
   "language": "python",
   "name": "python3"
  },
  "language_info": {
   "codemirror_mode": {
    "name": "ipython",
    "version": 3
   },
   "file_extension": ".py",
   "mimetype": "text/x-python",
   "name": "python",
   "nbconvert_exporter": "python",
   "pygments_lexer": "ipython3",
   "version": "3.10.14"
  },
  "orig_nbformat": 4
 },
 "nbformat": 4,
 "nbformat_minor": 2
}
