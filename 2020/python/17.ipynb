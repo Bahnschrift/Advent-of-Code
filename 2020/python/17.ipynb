{
 "cells": [
  {
   "cell_type": "markdown",
   "metadata": {},
   "source": [
    "# Advent of code 2020: Day 17"
   ]
  },
  {
   "cell_type": "markdown",
   "metadata": {},
   "source": [
    "## Import"
   ]
  },
  {
   "cell_type": "code",
   "execution_count": 1,
   "metadata": {},
   "outputs": [],
   "source": [
    "import math as M\n",
    "import collections as C\n",
    "import itertools as I\n",
    "from helper import *\n",
    "\n",
    "\n",
    "day = 17\n",
    "data = get_input_lines(day, 2020)"
   ]
  },
  {
   "cell_type": "markdown",
   "metadata": {},
   "source": [
    "## Common"
   ]
  },
  {
   "cell_type": "code",
   "execution_count": 2,
   "metadata": {},
   "outputs": [],
   "source": [
    "def move(on, dim):\n",
    "    new = set()\n",
    "    min_vals = [min(cube[di] for cube in on) for di in range(dim)]\n",
    "    max_vals = [max(cube[di] for cube in on) for di in range(dim)]\n",
    "    positions = I.product(*[range(min_vals[di] - 1, max_vals[di] + 2) for di in range(dim)])\n",
    "    for cube_pos in positions:\n",
    "        c = 0\n",
    "        for neighbour_offset in set(I.product([0, 1, -1], repeat=dim)) - {(0,) * dim}:\n",
    "            neighbour_pos = tuple(map(sum, zip(cube_pos, neighbour_offset)))\n",
    "            if neighbour_pos in on:\n",
    "                c += 1\n",
    "        if c == 3 or cube_pos in on and c == 2:\n",
    "            new.add(cube_pos)\n",
    "    return new"
   ]
  },
  {
   "cell_type": "code",
   "execution_count": 3,
   "metadata": {},
   "outputs": [],
   "source": [
    "def play(data, dim, moves=6):\n",
    "    on = {(x, y, *(0,) * (dim - 2)) for y, x in I.product(range(len(data)), range(len(data[0]))) if data[y][x] == \"#\"}\n",
    "    for x in range(moves):\n",
    "        on = move(on, dim)\n",
    "    return len(on)"
   ]
  },
  {
   "cell_type": "markdown",
   "metadata": {},
   "source": [
    "## Part 1"
   ]
  },
  {
   "cell_type": "code",
   "execution_count": 4,
   "metadata": {},
   "outputs": [
    {
     "data": {
      "text/html": [
       "<pre style=\"white-space:pre;overflow-x:auto;line-height:normal;font-family:Menlo,'DejaVu Sans Mono',consolas,'Courier New',monospace\"><span style=\"color: #008080; text-decoration-color: #008080; font-weight: bold\">265</span>\n",
       "</pre>\n"
      ],
      "text/plain": [
       "\u001b[1;36m265\u001b[0m\n"
      ]
     },
     "metadata": {},
     "output_type": "display_data"
    }
   ],
   "source": [
    "print(play(data, 3))"
   ]
  },
  {
   "cell_type": "markdown",
   "metadata": {},
   "source": [
    "## Part 2"
   ]
  },
  {
   "cell_type": "code",
   "execution_count": 5,
   "metadata": {},
   "outputs": [
    {
     "data": {
      "text/html": [
       "<pre style=\"white-space:pre;overflow-x:auto;line-height:normal;font-family:Menlo,'DejaVu Sans Mono',consolas,'Courier New',monospace\"><span style=\"color: #008080; text-decoration-color: #008080; font-weight: bold\">1936</span>\n",
       "</pre>\n"
      ],
      "text/plain": [
       "\u001b[1;36m1936\u001b[0m\n"
      ]
     },
     "metadata": {},
     "output_type": "display_data"
    }
   ],
   "source": [
    "print(play(data, 4))"
   ]
  },
  {
   "cell_type": "markdown",
   "metadata": {},
   "source": [
    "## As few lines as possible"
   ]
  },
  {
   "cell_type": "code",
   "execution_count": 6,
   "metadata": {},
   "outputs": [],
   "source": [
    "def play(data, dim, moves=6):\n",
    "    for x in range(moves + 1): on = {(x, y, *(0,) * (dim - 2)) for x, y in __import__(\"itertools\").product(range(len(data)), range(len(data[0]))) if data[y][x] == \"#\"} if x==0 else {cube_pos for cube_pos in __import__(\"itertools\").product(*[range([min(cube[di] for cube in on) for di in range(dim)][di] - 1, 2 + [max(cube[di] for cube in on) for di in range(dim)][di]) for di in range(dim)]) if len([neighbour_offset for neighbour_offset in set(__import__(\"itertools\").product((-1, 0, 1), repeat=dim)) - {(0,) * dim} if tuple(map(sum, zip(cube_pos, neighbour_offset))) in on]) == 3 or cube_pos in on and len([neighbour_offset for neighbour_offset in set(__import__(\"itertools\").product((-1, 0, 1), repeat=dim)) - {(0,) * dim} if tuple(map(sum, zip(cube_pos, neighbour_offset))) in on]) == 2}\n",
    "    return len(on)"
   ]
  },
  {
   "cell_type": "code",
   "execution_count": 7,
   "metadata": {},
   "outputs": [
    {
     "data": {
      "text/html": [
       "<pre style=\"white-space:pre;overflow-x:auto;line-height:normal;font-family:Menlo,'DejaVu Sans Mono',consolas,'Courier New',monospace\">Part <span style=\"color: #008080; text-decoration-color: #008080; font-weight: bold\">1</span>: <span style=\"color: #008080; text-decoration-color: #008080; font-weight: bold\">265</span>\n",
       "Part <span style=\"color: #008080; text-decoration-color: #008080; font-weight: bold\">2</span>: <span style=\"color: #008080; text-decoration-color: #008080; font-weight: bold\">1936</span>\n",
       "</pre>\n"
      ],
      "text/plain": [
       "Part \u001b[1;36m1\u001b[0m: \u001b[1;36m265\u001b[0m\n",
       "Part \u001b[1;36m2\u001b[0m: \u001b[1;36m1936\u001b[0m\n"
      ]
     },
     "metadata": {},
     "output_type": "display_data"
    }
   ],
   "source": [
    "print(*[f\"Part {part}: {play(open('2020/inputs/day17.txt').read().splitlines(), dim)}\" for part, dim in enumerate((3, 4), 1)], sep=\"\\n\")"
   ]
  }
 ],
 "metadata": {
  "kernelspec": {
   "display_name": "Python 3.10.4 ('venv': venv)",
   "language": "python",
   "name": "python3"
  },
  "language_info": {
   "codemirror_mode": {
    "name": "ipython",
    "version": 3
   },
   "file_extension": ".py",
   "mimetype": "text/x-python",
   "name": "python",
   "nbconvert_exporter": "python",
   "pygments_lexer": "ipython3",
   "version": "3.10.4"
  },
  "orig_nbformat": 2,
  "vscode": {
   "interpreter": {
    "hash": "1deb42c3241d521f6003b1a68e85a16645dc710c5467eba0d538286ef971f2c2"
   }
  }
 },
 "nbformat": 4,
 "nbformat_minor": 2
}
