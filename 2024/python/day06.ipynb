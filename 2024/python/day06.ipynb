{
 "cells": [
  {
   "cell_type": "markdown",
   "metadata": {},
   "source": [
    "# Advent of Code 2024\n",
    "## Day 6\n",
    "*<https://adventofcode.com/2024/day/6>*"
   ]
  },
  {
   "cell_type": "code",
   "execution_count": 1,
   "metadata": {},
   "outputs": [],
   "source": [
    "import heapq\n",
    "import math\n",
    "import re\n",
    "import functools as ft\n",
    "from collections import Counter, defaultdict, deque, namedtuple\n",
    "from itertools import combinations, permutations, product\n",
    "from string import ascii_letters, ascii_lowercase, ascii_uppercase\n",
    "\n",
    "# import z3\n",
    "from rich import inspect, pretty, print\n",
    "\n",
    "from new_helper import *\n",
    "\n",
    "pretty.install()\n",
    "\n",
    "import ipykernel\n",
    "\n",
    "with open(\"kernel\", \"w+\") as f:\n",
    "    f.write(ipykernel.get_connection_file())"
   ]
  },
  {
   "cell_type": "code",
   "execution_count": 2,
   "metadata": {},
   "outputs": [],
   "source": [
    "DAY = 6\n",
    "YEAR = 2024\n",
    "input_str = get_aoc_input(DAY, 2024)\n",
    "part_1 = part_2 = 0"
   ]
  },
  {
   "cell_type": "code",
   "execution_count": 3,
   "metadata": {},
   "outputs": [],
   "source": [
    "inp = input_str.parse_grid()"
   ]
  },
  {
   "cell_type": "code",
   "execution_count": null,
   "metadata": {},
   "outputs": [],
   "source": [
    "sgx, sgy = inp.find(\"^\")\n",
    "gx, gy = sgx, sgy\n",
    "inp[gx, gy] = \".\"\n",
    "\n",
    "dx, dy = DIRS[\"U\"]\n",
    "while inp.in_bounds(gx, gy):\n",
    "    inp[gx, gy] = \"X\"\n",
    "\n",
    "    nx, ny = gx + dx, gy + dy\n",
    "    if not inp.in_bounds(nx, ny):\n",
    "        break\n",
    "\n",
    "    if inp[nx, ny] in \"X.\":\n",
    "        gx, gy = nx, ny\n",
    "    else:\n",
    "        dx, dy = tr(dx, dy)\n",
    "\n",
    "part_1 = inp.count(\"X\")"
   ]
  },
  {
   "cell_type": "code",
   "execution_count": 5,
   "metadata": {},
   "outputs": [],
   "source": [
    "for x, y in inp.positions():\n",
    "    if inp[x, y] in \"^#\" or x == sgx and y == sgy:\n",
    "        continue\n",
    "\n",
    "    inp[x, y] = \"#\"\n",
    "\n",
    "    visited = set()\n",
    "    gx, gy = sgx, sgy\n",
    "\n",
    "    dx, dy = DIRS[\"U\"]\n",
    "    while inp.in_bounds(gx, gy):\n",
    "\n",
    "        inp[gx, gy] = \"X\"\n",
    "        if (gx, gy, dx, dy) in visited:\n",
    "            part_2 += 1\n",
    "            break\n",
    "\n",
    "        visited.add((gx, gy, dx, dy))\n",
    "\n",
    "        nx, ny = gx + dx, gy + dy\n",
    "        if not inp.in_bounds(nx, ny):\n",
    "            break\n",
    "\n",
    "        if inp[nx, ny] in \"X.^\":\n",
    "            gx, gy = nx, ny\n",
    "        else:\n",
    "            dx, dy = tr(dx, dy)\n",
    "\n",
    "    inp[x, y] = \".\""
   ]
  },
  {
   "cell_type": "code",
   "execution_count": 6,
   "metadata": {},
   "outputs": [
    {
     "data": {
      "text/html": [
       "<pre style=\"white-space:pre;overflow-x:auto;line-height:normal;font-family:Menlo,'DejaVu Sans Mono',consolas,'Courier New',monospace\"><span style=\"color: #008000; text-decoration-color: #008000; font-weight: bold\">Part </span><span style=\"color: #008000; text-decoration-color: #008000; font-weight: bold\">1</span>: <span style=\"color: #008080; text-decoration-color: #008080; font-weight: bold\">4454</span>\n",
       "</pre>\n"
      ],
      "text/plain": [
       "\u001b[1;32mPart \u001b[0m\u001b[1;32m1\u001b[0m: \u001b[1;36m4454\u001b[0m\n"
      ]
     },
     "metadata": {},
     "output_type": "display_data"
    },
    {
     "data": {
      "text/html": [
       "<pre style=\"white-space:pre;overflow-x:auto;line-height:normal;font-family:Menlo,'DejaVu Sans Mono',consolas,'Courier New',monospace\"><span style=\"color: #008000; text-decoration-color: #008000; font-weight: bold\">Part </span><span style=\"color: #008000; text-decoration-color: #008000; font-weight: bold\">2</span>: <span style=\"color: #008080; text-decoration-color: #008080; font-weight: bold\">1503</span>\n",
       "</pre>\n"
      ],
      "text/plain": [
       "\u001b[1;32mPart \u001b[0m\u001b[1;32m2\u001b[0m: \u001b[1;36m1503\u001b[0m\n"
      ]
     },
     "metadata": {},
     "output_type": "display_data"
    }
   ],
   "source": [
    "print_part_1(part_1)\n",
    "print_part_2(part_2)"
   ]
  }
 ],
 "metadata": {
  "kernelspec": {
   "display_name": ".venv",
   "language": "python",
   "name": "python3"
  },
  "language_info": {
   "codemirror_mode": {
    "name": "ipython",
    "version": 3
   },
   "file_extension": ".py",
   "mimetype": "text/x-python",
   "name": "python",
   "nbconvert_exporter": "python",
   "pygments_lexer": "ipython3",
   "version": "3.12.7"
  },
  "orig_nbformat": 4
 },
 "nbformat": 4,
 "nbformat_minor": 2
}
