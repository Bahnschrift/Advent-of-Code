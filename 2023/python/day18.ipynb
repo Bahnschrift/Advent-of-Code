{
 "cells": [
  {
   "cell_type": "markdown",
   "metadata": {},
   "source": [
    "# Advent of Code 2023\n",
    "## Day 18\n",
    "*<https://adventofcode.com/2023/day/18>*"
   ]
  },
  {
   "cell_type": "code",
   "execution_count": 1,
   "metadata": {},
   "outputs": [],
   "source": [
    "import heapq\n",
    "import math\n",
    "import re\n",
    "import functools as ft\n",
    "from collections import Counter, defaultdict, deque, namedtuple\n",
    "from itertools import combinations, permutations, product\n",
    "from string import ascii_letters, ascii_lowercase, ascii_uppercase\n",
    "\n",
    "import IPython\n",
    "import z3\n",
    "from rich import inspect, pretty, print\n",
    "\n",
    "from new_helper import *\n",
    "\n",
    "pretty.install()"
   ]
  },
  {
   "cell_type": "code",
   "execution_count": 2,
   "metadata": {},
   "outputs": [],
   "source": [
    "DAY = 18\n",
    "input_str = get_aoc_input(DAY, 2023)\n",
    "part_1 = part_2 = 0"
   ]
  },
  {
   "cell_type": "code",
   "execution_count": 3,
   "metadata": {},
   "outputs": [],
   "source": [
    "inp = input_str.parse_lines()"
   ]
  },
  {
   "cell_type": "code",
   "execution_count": 4,
   "metadata": {},
   "outputs": [],
   "source": [
    "g = InfiniteGrid([], default=\".\")\n",
    "x, y = 0, 0\n",
    "for line in inp:\n",
    "    d, n, _ = line.split()\n",
    "    n = int(n)\n",
    "\n",
    "    dx, dy = DIRECTIONS[d]\n",
    "    for _ in range(n):\n",
    "        x += dx\n",
    "        y += dy\n",
    "        g[x, y] = \"#\""
   ]
  },
  {
   "cell_type": "code",
   "execution_count": 5,
   "metadata": {},
   "outputs": [],
   "source": [
    "cx, cy = g.width() // 2, g.height() // 2\n",
    "Q = deque([(cx, cy)])\n",
    "assert g[cx, cy] == \".\"\n",
    "\n",
    "while Q:\n",
    "    x, y = Q.popleft()\n",
    "    if g[x, y] != \".\":\n",
    "        continue\n",
    "\n",
    "    g[x, y] = \"#\"\n",
    "    for dx, dy in DIRECTIONS.values():\n",
    "        nx, ny = x + dx, y + dy\n",
    "        if g[nx, ny] == \".\":\n",
    "            Q.append((nx, ny))\n",
    "\n",
    "for c in g.values():\n",
    "    if c != \".\":\n",
    "        part_1 += 1"
   ]
  },
  {
   "cell_type": "code",
   "execution_count": 6,
   "metadata": {},
   "outputs": [],
   "source": [
    "ps = []\n",
    "\n",
    "x, y = 0, 0\n",
    "b = 0\n",
    "for line in inp:\n",
    "    _, _, c = line.split()\n",
    "    c = c[2:-1]\n",
    "\n",
    "    d = (\"RDLU\")[int(c[-1])]\n",
    "    n = int(c[:-1], 16)\n",
    "\n",
    "    dx, dy = DIRECTIONS[d]\n",
    "    x += dx * n\n",
    "    y += dy * n\n",
    "    b += n\n",
    "    ps.append((x, y))\n",
    "\n",
    "i = 0\n",
    "for (x1, y1), (x2, y2) in zip(ps, ps[1:]):\n",
    "    i += (x1 * y2) - (x2 * y1)\n",
    "i //= 2\n",
    "\n",
    "part_2 = i + b // 2 + 1"
   ]
  },
  {
   "cell_type": "code",
   "execution_count": 7,
   "metadata": {},
   "outputs": [
    {
     "data": {
      "text/html": [
       "<pre style=\"white-space:pre;overflow-x:auto;line-height:normal;font-family:Menlo,'DejaVu Sans Mono',consolas,'Courier New',monospace\"><span style=\"color: #008000; text-decoration-color: #008000; font-weight: bold\">Part </span><span style=\"color: #008000; text-decoration-color: #008000; font-weight: bold\">1</span>: <span style=\"color: #008080; text-decoration-color: #008080; font-weight: bold\">61661</span>\n",
       "</pre>\n"
      ],
      "text/plain": [
       "\u001b[1;32mPart \u001b[0m\u001b[1;32m1\u001b[0m: \u001b[1;36m61661\u001b[0m\n"
      ]
     },
     "metadata": {},
     "output_type": "display_data"
    },
    {
     "data": {
      "text/html": [
       "<pre style=\"white-space:pre;overflow-x:auto;line-height:normal;font-family:Menlo,'DejaVu Sans Mono',consolas,'Courier New',monospace\"><span style=\"color: #008000; text-decoration-color: #008000; font-weight: bold\">Part </span><span style=\"color: #008000; text-decoration-color: #008000; font-weight: bold\">2</span>: <span style=\"color: #008080; text-decoration-color: #008080; font-weight: bold\">111131796939729</span>\n",
       "</pre>\n"
      ],
      "text/plain": [
       "\u001b[1;32mPart \u001b[0m\u001b[1;32m2\u001b[0m: \u001b[1;36m111131796939729\u001b[0m\n"
      ]
     },
     "metadata": {},
     "output_type": "display_data"
    }
   ],
   "source": [
    "print_part_1(part_1)\n",
    "print_part_2(part_2)"
   ]
  }
 ],
 "metadata": {
  "kernelspec": {
   "display_name": "venv",
   "language": "python",
   "name": "python3"
  },
  "language_info": {
   "codemirror_mode": {
    "name": "ipython",
    "version": 3
   },
   "file_extension": ".py",
   "mimetype": "text/x-python",
   "name": "python",
   "nbconvert_exporter": "python",
   "pygments_lexer": "ipython3",
   "version": "3.12.0"
  },
  "orig_nbformat": 4,
  "vscode": {
   "interpreter": {
    "hash": "1deb42c3241d521f6003b1a68e85a16645dc710c5467eba0d538286ef971f2c2"
   }
  }
 },
 "nbformat": 4,
 "nbformat_minor": 2
}
