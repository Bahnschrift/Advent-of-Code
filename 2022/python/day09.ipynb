{
 "cells": [
  {
   "cell_type": "markdown",
   "metadata": {},
   "source": [
    "# Advent of Code 2022\n",
    "## Day 9\n",
    "*<https://adventofcode.com/2022/day/9>*"
   ]
  },
  {
   "cell_type": "code",
   "execution_count": 1,
   "metadata": {},
   "outputs": [],
   "source": [
    "import IPython\n",
    "import math\n",
    "import re\n",
    "from helper import *\n",
    "from itertools import product, combinations, permutations\n",
    "from collections import Counter, defaultdict\n",
    "from string import ascii_lowercase, ascii_uppercase, ascii_letters\n",
    "from rich import inspect, print, pretty\n",
    "\n",
    "pretty.install()"
   ]
  },
  {
   "cell_type": "code",
   "execution_count": 2,
   "metadata": {},
   "outputs": [],
   "source": [
    "DAY = 9\n",
    "inp = get_input_lines(DAY)\n",
    "part_1 = part_2 = 0"
   ]
  },
  {
   "cell_type": "code",
   "execution_count": 3,
   "metadata": {},
   "outputs": [],
   "source": [
    "def get_new_pos(hx, hy, tx, ty):\n",
    "    if (abs(hx - tx) > 1) or (abs(hy - ty) > 1):\n",
    "        if hx == tx:\n",
    "            ty += 1 if hy > ty else -1\n",
    "        elif hy == ty:\n",
    "            tx += 1 if hx > tx else -1\n",
    "        else:\n",
    "            tx += 1 if hx > tx else -1\n",
    "            ty += 1 if hy > ty else -1\n",
    "    return tx, ty"
   ]
  },
  {
   "cell_type": "code",
   "execution_count": 4,
   "metadata": {},
   "outputs": [],
   "source": [
    "hx, hy, tx, ty = 0, 0, 0, 0\n",
    "tail_positions: list[tuple[int, int]] = [(tx, ty)]\n",
    "\n",
    "for move in inp:\n",
    "    direction, count = move.split()\n",
    "    count = int(count)\n",
    "    cx, cy = DIRECTIONS[direction]\n",
    "\n",
    "    for _ in range(count):\n",
    "        hx += cx\n",
    "        hy += cy\n",
    "        tx, ty = get_new_pos(hx, hy, tx, ty)\n",
    "        tail_positions.append((tx, ty))\n",
    "\n",
    "part_1 = len(set(tail_positions))"
   ]
  },
  {
   "cell_type": "code",
   "execution_count": 5,
   "metadata": {},
   "outputs": [],
   "source": [
    "knots: list[tuple[int, int]] = [(0, 0) for _ in range(10)]\n",
    "tail_positions = []\n",
    "\n",
    "for move in inp:\n",
    "    direction, count = move.split()\n",
    "    count = int(count)\n",
    "    cx, cy = DIRECTIONS[direction]\n",
    "\n",
    "    for _ in range(count):\n",
    "        knots[0] = (knots[0][0] + cx, knots[0][1] + cy)\n",
    "\n",
    "        for i, (tx, ty) in enumerate(knots[1:], 1):\n",
    "            knots[i] = get_new_pos(*knots[i - 1], tx, ty)\n",
    "        tail_positions.append(knots[-1])\n",
    "\n",
    "part_2 = len(set(tail_positions))"
   ]
  },
  {
   "cell_type": "code",
   "execution_count": 6,
   "metadata": {},
   "outputs": [
    {
     "data": {
      "text/html": [
       "<pre style=\"white-space:pre;overflow-x:auto;line-height:normal;font-family:Menlo,'DejaVu Sans Mono',consolas,'Courier New',monospace\"><span style=\"color: #008000; text-decoration-color: #008000; font-weight: bold\">Part </span><span style=\"color: #008000; text-decoration-color: #008000; font-weight: bold\">1</span><span style=\"color: #008000; text-decoration-color: #008000; font-weight: bold\">:</span> <span style=\"color: #008080; text-decoration-color: #008080; font-weight: bold\">5878</span>\n",
       "</pre>\n"
      ],
      "text/plain": [
       "\u001b[1;32mPart \u001b[0m\u001b[1;32m1\u001b[0m\u001b[1;32m:\u001b[0m \u001b[1;36m5878\u001b[0m\n"
      ]
     },
     "metadata": {},
     "output_type": "display_data"
    },
    {
     "data": {
      "text/html": [
       "<pre style=\"white-space:pre;overflow-x:auto;line-height:normal;font-family:Menlo,'DejaVu Sans Mono',consolas,'Courier New',monospace\"><span style=\"color: #008000; text-decoration-color: #008000; font-weight: bold\">Part </span><span style=\"color: #008000; text-decoration-color: #008000; font-weight: bold\">2</span><span style=\"color: #008000; text-decoration-color: #008000; font-weight: bold\">:</span> <span style=\"color: #008080; text-decoration-color: #008080; font-weight: bold\">2405</span>\n",
       "</pre>\n"
      ],
      "text/plain": [
       "\u001b[1;32mPart \u001b[0m\u001b[1;32m2\u001b[0m\u001b[1;32m:\u001b[0m \u001b[1;36m2405\u001b[0m\n"
      ]
     },
     "metadata": {},
     "output_type": "display_data"
    }
   ],
   "source": [
    "print_part_1(part_1)\n",
    "print_part_2(part_2)"
   ]
  },
  {
   "cell_type": "code",
   "execution_count": 7,
   "metadata": {},
   "outputs": [],
   "source": [
    "# submit_part_1(part_1, DAY)\n",
    "# submit_part_2(part_2, DAY)"
   ]
  }
 ],
 "metadata": {
  "kernelspec": {
   "display_name": "venv",
   "language": "python",
   "name": "python3"
  },
  "language_info": {
   "codemirror_mode": {
    "name": "ipython",
    "version": 3
   },
   "file_extension": ".py",
   "mimetype": "text/x-python",
   "name": "python",
   "nbconvert_exporter": "python",
   "pygments_lexer": "ipython3",
   "version": "3.10.4 (tags/v3.10.4:9d38120, Mar 23 2022, 23:13:41) [MSC v.1929 64 bit (AMD64)]"
  },
  "orig_nbformat": 4,
  "vscode": {
   "interpreter": {
    "hash": "1deb42c3241d521f6003b1a68e85a16645dc710c5467eba0d538286ef971f2c2"
   }
  }
 },
 "nbformat": 4,
 "nbformat_minor": 2
}
