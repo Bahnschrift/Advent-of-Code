{
 "cells": [
  {
   "cell_type": "markdown",
   "metadata": {},
   "source": [
    "# Advent of Code 2023\n",
    "## Day 15\n",
    "*<https://adventofcode.com/2023/day/15>*"
   ]
  },
  {
   "cell_type": "code",
   "execution_count": 1,
   "metadata": {},
   "outputs": [],
   "source": [
    "import heapq\n",
    "import math\n",
    "import re\n",
    "import functools as ft\n",
    "from collections import Counter, defaultdict, deque, namedtuple\n",
    "from itertools import combinations, permutations, product\n",
    "from string import ascii_letters, ascii_lowercase, ascii_uppercase\n",
    "\n",
    "import IPython\n",
    "import z3\n",
    "from rich import inspect, pretty, print\n",
    "\n",
    "from new_helper import *\n",
    "\n",
    "pretty.install()"
   ]
  },
  {
   "cell_type": "code",
   "execution_count": 2,
   "metadata": {},
   "outputs": [],
   "source": [
    "DAY = 15\n",
    "input_str = get_aoc_input(DAY, 2023)\n",
    "part_1 = part_2 = 0"
   ]
  },
  {
   "cell_type": "code",
   "execution_count": 3,
   "metadata": {},
   "outputs": [],
   "source": [
    "inp = input_str.split(\",\")"
   ]
  },
  {
   "cell_type": "code",
   "execution_count": 4,
   "metadata": {},
   "outputs": [],
   "source": [
    "def get_hash(s: str):\n",
    "    h = 0\n",
    "    for i in s:\n",
    "        h += ord(i)\n",
    "        h *= 17\n",
    "        h %= 256\n",
    "\n",
    "    return h\n",
    "\n",
    "\n",
    "for s in inp:\n",
    "    part_1 += get_hash(s)"
   ]
  },
  {
   "cell_type": "code",
   "execution_count": 5,
   "metadata": {},
   "outputs": [],
   "source": [
    "class Lens:\n",
    "    label: str\n",
    "    focal_length: int\n",
    "\n",
    "    def __init__(self, label: str, focal_length: int):\n",
    "        self.label = label\n",
    "        self.focal_length = focal_length\n",
    "\n",
    "    def __repr__(self):\n",
    "        return f\"({self.label}={self.focal_length}))\"\n",
    "\n",
    "\n",
    "class Box:\n",
    "    n: int\n",
    "    lenses: list[Lens]\n",
    "\n",
    "    def __init__(self, n: int):\n",
    "        self.n = n\n",
    "        self.lenses = []\n",
    "\n",
    "    def contains(self, label: str):\n",
    "        return any(l.label == label for l in self.lenses)\n",
    "\n",
    "    def set(self, label: str, focal_length: int):\n",
    "        for l in self.lenses:\n",
    "            if l.label == label:\n",
    "                l.focal_length = focal_length\n",
    "                return\n",
    "\n",
    "    def add(self, label: str, focal_length: int):\n",
    "        self.lenses.append(Lens(label, focal_length))\n",
    "\n",
    "    def remove(self, label: str):\n",
    "        for i, l in enumerate(self.lenses):\n",
    "            if l.label == label:\n",
    "                self.lenses.pop(i)\n",
    "                return\n",
    "\n",
    "    def __repr__(self):\n",
    "        return f\"Box({self.n}, {self.lenses})\"\n",
    "\n",
    "    def power(self):\n",
    "        t = 0\n",
    "        for i, lens in enumerate(self.lenses, 1):\n",
    "            n = 1 + self.n\n",
    "            n *= i\n",
    "            n *= lens.focal_length\n",
    "            t += n\n",
    "\n",
    "        return t"
   ]
  },
  {
   "cell_type": "code",
   "execution_count": 6,
   "metadata": {},
   "outputs": [],
   "source": [
    "def do_step(s: str, boxes: list[Box]):\n",
    "    label, op = re.match(r\"^(\\w+)([-=]).*$\", s).groups()\n",
    "    box = boxes[get_hash(label)]\n",
    "\n",
    "    if op == \"-\":\n",
    "        if box.contains(label):\n",
    "            box.remove(label)\n",
    "\n",
    "    elif op == \"=\":\n",
    "        focal = re.findall(r\"^\\w+=(\\d+)$\", s)[0]\n",
    "        if box.contains(label):\n",
    "            box.set(label, int(focal))\n",
    "        else:\n",
    "            box.add(label, int(focal))"
   ]
  },
  {
   "cell_type": "code",
   "execution_count": 7,
   "metadata": {},
   "outputs": [],
   "source": [
    "boxes = [Box(n) for n in range(256)]\n",
    "for s in inp:\n",
    "    do_step(s, boxes)\n",
    "\n",
    "part_2  = sum(b.power() for b in boxes)"
   ]
  },
  {
   "cell_type": "code",
   "execution_count": 8,
   "metadata": {},
   "outputs": [
    {
     "data": {
      "text/html": [
       "<pre style=\"white-space:pre;overflow-x:auto;line-height:normal;font-family:Menlo,'DejaVu Sans Mono',consolas,'Courier New',monospace\"><span style=\"color: #008000; text-decoration-color: #008000; font-weight: bold\">Part </span><span style=\"color: #008000; text-decoration-color: #008000; font-weight: bold\">1</span>: <span style=\"color: #008080; text-decoration-color: #008080; font-weight: bold\">502139</span>\n",
       "</pre>\n"
      ],
      "text/plain": [
       "\u001b[1;32mPart \u001b[0m\u001b[1;32m1\u001b[0m: \u001b[1;36m502139\u001b[0m\n"
      ]
     },
     "metadata": {},
     "output_type": "display_data"
    },
    {
     "data": {
      "text/html": [
       "<pre style=\"white-space:pre;overflow-x:auto;line-height:normal;font-family:Menlo,'DejaVu Sans Mono',consolas,'Courier New',monospace\"><span style=\"color: #008000; text-decoration-color: #008000; font-weight: bold\">Part </span><span style=\"color: #008000; text-decoration-color: #008000; font-weight: bold\">2</span>: <span style=\"color: #008080; text-decoration-color: #008080; font-weight: bold\">284132</span>\n",
       "</pre>\n"
      ],
      "text/plain": [
       "\u001b[1;32mPart \u001b[0m\u001b[1;32m2\u001b[0m: \u001b[1;36m284132\u001b[0m\n"
      ]
     },
     "metadata": {},
     "output_type": "display_data"
    }
   ],
   "source": [
    "print_part_1(part_1)\n",
    "print_part_2(part_2)"
   ]
  }
 ],
 "metadata": {
  "kernelspec": {
   "display_name": "venv",
   "language": "python",
   "name": "python3"
  },
  "language_info": {
   "codemirror_mode": {
    "name": "ipython",
    "version": 3
   },
   "file_extension": ".py",
   "mimetype": "text/x-python",
   "name": "python",
   "nbconvert_exporter": "python",
   "pygments_lexer": "ipython3",
   "version": "3.12.0"
  },
  "orig_nbformat": 4,
  "vscode": {
   "interpreter": {
    "hash": "1deb42c3241d521f6003b1a68e85a16645dc710c5467eba0d538286ef971f2c2"
   }
  }
 },
 "nbformat": 4,
 "nbformat_minor": 2
}
