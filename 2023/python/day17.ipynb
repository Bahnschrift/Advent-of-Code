{
 "cells": [
  {
   "cell_type": "markdown",
   "metadata": {},
   "source": [
    "# Advent of Code 2023\n",
    "## Day 17\n",
    "*<https://adventofcode.com/2023/day/17>*"
   ]
  },
  {
   "cell_type": "code",
   "execution_count": 1,
   "metadata": {},
   "outputs": [],
   "source": [
    "import heapq\n",
    "import math\n",
    "import re\n",
    "import functools as ft\n",
    "from collections import Counter, defaultdict, deque, namedtuple\n",
    "from itertools import combinations, permutations, product\n",
    "from string import ascii_letters, ascii_lowercase, ascii_uppercase\n",
    "\n",
    "import IPython\n",
    "import z3\n",
    "from rich import inspect, pretty, print\n",
    "\n",
    "from new_helper import *\n",
    "\n",
    "pretty.install()"
   ]
  },
  {
   "cell_type": "code",
   "execution_count": 2,
   "metadata": {},
   "outputs": [],
   "source": [
    "DAY = 17\n",
    "input_str = get_aoc_input(DAY, 2023)\n",
    "part_1 = part_2 = 0"
   ]
  },
  {
   "cell_type": "code",
   "execution_count": 3,
   "metadata": {},
   "outputs": [],
   "source": [
    "inp = input_str.parse_grid().mapped_values(int)"
   ]
  },
  {
   "cell_type": "code",
   "execution_count": 4,
   "metadata": {},
   "outputs": [],
   "source": [
    "ROTS = {\n",
    "    \"R\": \"UD\",\n",
    "    \"L\": \"UD\",\n",
    "    \"U\": \"LR\",\n",
    "    \"D\": \"LR\",\n",
    "}"
   ]
  },
  {
   "cell_type": "code",
   "execution_count": 5,
   "metadata": {},
   "outputs": [],
   "source": [
    "q: list[tuple[int, int, str, int, int]] = [(0, 0, \"R\", 0, 0)]\n",
    "heapq.heapify(q)\n",
    "seen = set()\n",
    "\n",
    "while q:\n",
    "    cur, n, d, x, y = heapq.heappop(q)\n",
    "    if (x, y, n, d) in seen:\n",
    "        continue\n",
    "\n",
    "    seen.add((x, y, n, d))\n",
    "\n",
    "    if x == inp.width - 1 and y == inp.height - 1:\n",
    "        part_1 = cur\n",
    "        break\n",
    "\n",
    "    if n < 3:\n",
    "        dx, dy = DIRECTIONS[d]\n",
    "        nx, ny = x + dx, y + dy\n",
    "        if inp.in_bounds(nx, ny):\n",
    "            heapq.heappush(q, (cur + inp[nx, ny], n + 1, d, nx, ny))\n",
    "\n",
    "    for nd in ROTS[d]:\n",
    "        dx, dy = DIRECTIONS[nd]\n",
    "        nx, ny = x + dx, y + dy\n",
    "        if inp.in_bounds(nx, ny):\n",
    "            heapq.heappush(q, (cur + inp[nx, ny], 1, nd, nx, ny))"
   ]
  },
  {
   "cell_type": "code",
   "execution_count": 6,
   "metadata": {},
   "outputs": [],
   "source": [
    "q: list[tuple[int, int, str, int, int]] = [(0, 0, \"R\", 0, 0)]\n",
    "heapq.heapify(q)\n",
    "seen = set()\n",
    "\n",
    "while q:\n",
    "    cur, n, d, x, y = heapq.heappop(q)\n",
    "    if (x, y, n, d) in seen:\n",
    "        continue\n",
    "\n",
    "    seen.add((x, y, n, d))\n",
    "\n",
    "    if x == inp.width - 1 and y == inp.height - 1 and n >= 4:\n",
    "        part_2 = cur\n",
    "        break\n",
    "\n",
    "    if n < 10:\n",
    "        dx, dy = DIRECTIONS[d]\n",
    "        nx, ny = x + dx, y + dy\n",
    "        if inp.in_bounds(nx, ny):\n",
    "            heapq.heappush(q, (cur + inp[nx, ny], n + 1, d, nx, ny))\n",
    "\n",
    "    if n >= 4:\n",
    "        for nd in ROTS[d]:\n",
    "            dx, dy = DIRECTIONS[nd]\n",
    "            nx, ny = x + dx, y + dy\n",
    "            if inp.in_bounds(nx, ny):\n",
    "                heapq.heappush(q, (cur + inp[nx, ny], 1, nd, nx, ny))"
   ]
  },
  {
   "cell_type": "code",
   "execution_count": 7,
   "metadata": {},
   "outputs": [
    {
     "data": {
      "text/html": [
       "<pre style=\"white-space:pre;overflow-x:auto;line-height:normal;font-family:Menlo,'DejaVu Sans Mono',consolas,'Courier New',monospace\"><span style=\"color: #008000; text-decoration-color: #008000; font-weight: bold\">Part </span><span style=\"color: #008000; text-decoration-color: #008000; font-weight: bold\">1</span>: <span style=\"color: #008080; text-decoration-color: #008080; font-weight: bold\">843</span>\n",
       "</pre>\n"
      ],
      "text/plain": [
       "\u001b[1;32mPart \u001b[0m\u001b[1;32m1\u001b[0m: \u001b[1;36m843\u001b[0m\n"
      ]
     },
     "metadata": {},
     "output_type": "display_data"
    },
    {
     "data": {
      "text/html": [
       "<pre style=\"white-space:pre;overflow-x:auto;line-height:normal;font-family:Menlo,'DejaVu Sans Mono',consolas,'Courier New',monospace\"><span style=\"color: #008000; text-decoration-color: #008000; font-weight: bold\">Part </span><span style=\"color: #008000; text-decoration-color: #008000; font-weight: bold\">2</span>: <span style=\"color: #008080; text-decoration-color: #008080; font-weight: bold\">1017</span>\n",
       "</pre>\n"
      ],
      "text/plain": [
       "\u001b[1;32mPart \u001b[0m\u001b[1;32m2\u001b[0m: \u001b[1;36m1017\u001b[0m\n"
      ]
     },
     "metadata": {},
     "output_type": "display_data"
    }
   ],
   "source": [
    "print_part_1(part_1)\n",
    "print_part_2(part_2)"
   ]
  }
 ],
 "metadata": {
  "kernelspec": {
   "display_name": "venv",
   "language": "python",
   "name": "python3"
  },
  "language_info": {
   "codemirror_mode": {
    "name": "ipython",
    "version": 3
   },
   "file_extension": ".py",
   "mimetype": "text/x-python",
   "name": "python",
   "nbconvert_exporter": "python",
   "pygments_lexer": "ipython3",
   "version": "3.12.0"
  },
  "orig_nbformat": 4,
  "vscode": {
   "interpreter": {
    "hash": "1deb42c3241d521f6003b1a68e85a16645dc710c5467eba0d538286ef971f2c2"
   }
  }
 },
 "nbformat": 4,
 "nbformat_minor": 2
}
