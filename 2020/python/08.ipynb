{
 "cells": [
  {
   "cell_type": "markdown",
   "metadata": {},
   "source": [
    "# Advent of code 2020: Day 8"
   ]
  },
  {
   "cell_type": "markdown",
   "metadata": {},
   "source": [
    "## Import"
   ]
  },
  {
   "cell_type": "code",
   "execution_count": 1,
   "metadata": {},
   "outputs": [],
   "source": [
    "import math as M\n",
    "import collections as C\n",
    "import itertools as I\n",
    "from helper import *\n",
    "\n",
    "\n",
    "day = 8\n",
    "data = get_input_lines(day, 2020)"
   ]
  },
  {
   "cell_type": "markdown",
   "metadata": {},
   "source": [
    "## Common"
   ]
  },
  {
   "cell_type": "code",
   "execution_count": 2,
   "metadata": {},
   "outputs": [],
   "source": [
    "def run(lines):\n",
    "    k = 0\n",
    "    acc = 0\n",
    "    ran = set()\n",
    "    while True:\n",
    "        instruction, value = lines[k].split()\n",
    "        value = int(value)\n",
    "        potential_end = k == len(lines) - 1  # prevents cases where jmp moves the pointer past the final cell from reporting good end\n",
    "        if k in ran:\n",
    "            return [False, acc]\n",
    "        ran.add(k)\n",
    "        if instruction == \"acc\":\n",
    "            acc += value\n",
    "        elif instruction == \"jmp\":\n",
    "            k += value - 1\n",
    "        elif instruction == \"nop\":\n",
    "            pass\n",
    "        k += 1\n",
    "        if k == len(lines) and potential_end:\n",
    "            return [True, acc]"
   ]
  },
  {
   "cell_type": "markdown",
   "metadata": {},
   "source": [
    "## Part 1"
   ]
  },
  {
   "cell_type": "code",
   "execution_count": 3,
   "metadata": {},
   "outputs": [
    {
     "data": {
      "text/html": [
       "<pre style=\"white-space:pre;overflow-x:auto;line-height:normal;font-family:Menlo,'DejaVu Sans Mono',consolas,'Courier New',monospace\"><span style=\"color: #008080; text-decoration-color: #008080; font-weight: bold\">1941</span>\n",
       "</pre>\n"
      ],
      "text/plain": [
       "\u001b[1;36m1941\u001b[0m\n"
      ]
     },
     "metadata": {},
     "output_type": "display_data"
    }
   ],
   "source": [
    "print(run(data)[1])"
   ]
  },
  {
   "cell_type": "markdown",
   "metadata": {},
   "source": [
    "## Part 2"
   ]
  },
  {
   "cell_type": "code",
   "execution_count": 4,
   "metadata": {},
   "outputs": [
    {
     "data": {
      "text/html": [
       "<pre style=\"white-space:pre;overflow-x:auto;line-height:normal;font-family:Menlo,'DejaVu Sans Mono',consolas,'Courier New',monospace\"><span style=\"color: #008080; text-decoration-color: #008080; font-weight: bold\">2096</span>\n",
       "</pre>\n"
      ],
      "text/plain": [
       "\u001b[1;36m2096\u001b[0m\n"
      ]
     },
     "metadata": {},
     "output_type": "display_data"
    }
   ],
   "source": [
    "for x, line in enumerate(data):\n",
    "    test_data = data[:]\n",
    "    if line.split()[0] == \"nop\":\n",
    "        test_data[x] = test_data[x].replace(\"nop\", \"jmp\")\n",
    "    elif line.split()[0] == \"jmp\":\n",
    "        test_data[x] = test_data[x].replace(\"jmp\", \"nop\")\n",
    "\n",
    "    if run(test_data)[0]:\n",
    "        print(run(test_data)[1])"
   ]
  }
 ],
 "metadata": {
  "kernelspec": {
   "display_name": "Python 3.10.4 ('venv': venv)",
   "language": "python",
   "name": "python3"
  },
  "language_info": {
   "codemirror_mode": {
    "name": "ipython",
    "version": 3
   },
   "file_extension": ".py",
   "mimetype": "text/x-python",
   "name": "python",
   "nbconvert_exporter": "python",
   "pygments_lexer": "ipython3",
   "version": "3.10.4"
  },
  "orig_nbformat": 2,
  "vscode": {
   "interpreter": {
    "hash": "1deb42c3241d521f6003b1a68e85a16645dc710c5467eba0d538286ef971f2c2"
   }
  }
 },
 "nbformat": 4,
 "nbformat_minor": 2
}
