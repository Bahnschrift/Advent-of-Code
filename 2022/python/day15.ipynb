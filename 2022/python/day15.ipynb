{
 "cells": [
  {
   "cell_type": "markdown",
   "metadata": {},
   "source": [
    "# Advent of Code 2022\n",
    "## Day 15\n",
    "*<https://adventofcode.com/2022/day/15>*"
   ]
  },
  {
   "cell_type": "code",
   "execution_count": 10,
   "metadata": {},
   "outputs": [],
   "source": [
    "import IPython\n",
    "import math\n",
    "import re\n",
    "import z3\n",
    "from new_helper import *\n",
    "from itertools import product, combinations, permutations\n",
    "from collections import Counter, defaultdict\n",
    "from string import ascii_lowercase, ascii_uppercase, ascii_letters\n",
    "from rich import inspect, print, pretty\n",
    "\n",
    "pretty.install()"
   ]
  },
  {
   "cell_type": "code",
   "execution_count": 11,
   "metadata": {},
   "outputs": [],
   "source": [
    "DAY = 15\n",
    "inp = get_aoc_input(DAY, 2022).parse_lines()\n",
    "part_1 = part_2 = 0"
   ]
  },
  {
   "cell_type": "code",
   "execution_count": 13,
   "metadata": {},
   "outputs": [],
   "source": [
    "def parse_input(inp: list[str]):\n",
    "    sensor_beacons = {}\n",
    "    for line in inp:\n",
    "        sx, sy, bx, by = ints(line)\n",
    "        sensor_beacons[sx, sy] = bx, by\n",
    "    return sensor_beacons"
   ]
  },
  {
   "cell_type": "code",
   "execution_count": 14,
   "metadata": {},
   "outputs": [],
   "source": [
    "sensor_beacons = parse_input(inp)\n",
    "y_level = 2 * 10**6\n",
    "ranges = []\n",
    "\n",
    "# Find the ranges of overlap with the y level\n",
    "for (sx, sy), (bx, by) in sensor_beacons.items():\n",
    "    dist = manhattan_distance((sx, sy), (bx, by))\n",
    "    max_y = sy + dist\n",
    "    min_y = sy - dist\n",
    "\n",
    "    if min_y <= y_level <= max_y:\n",
    "        # Find the range of x values that are in range\n",
    "        min_x_at_level = sx - (dist - abs(sy - y_level))\n",
    "        max_x_at_level = sx + (dist - abs(sy - y_level))\n",
    "        ranges.append((min_x_at_level, max_x_at_level))\n",
    "\n",
    "# Part 1 is the length of the union of the ranges\n",
    "part_1 = len(set.union(*map(lambda r: set(range(r[0], r[1] + 1)), ranges)))\n",
    "part_1 -= len([1 for bx, by in set(sensor_beacons.values()) if by == y_level])"
   ]
  },
  {
   "cell_type": "code",
   "execution_count": 15,
   "metadata": {},
   "outputs": [],
   "source": [
    "def get_tuning_freq(x, y):\n",
    "    return x * 4*10**6 + y"
   ]
  },
  {
   "cell_type": "code",
   "execution_count": 16,
   "metadata": {},
   "outputs": [],
   "source": [
    "s = z3.Solver()\n",
    "x = z3.Int(\"x\")\n",
    "y = z3.Int(\"y\")\n",
    "\n",
    "s.add(x >= 0)\n",
    "s.add(x <= 4 * 10**6)\n",
    "s.add(y >= 0)\n",
    "s.add(y <= 4 * 10**6)\n",
    "\n",
    "for (sx, sy), (bx, by) in sensor_beacons.items():\n",
    "    dist = manhattan_distance((sx, sy), (bx, by))\n",
    "    s.add(z3.Abs(x - sx) + z3.Abs(y - sy) > dist)\n",
    "\n",
    "s.check()\n",
    "model = s.model()\n",
    "\n",
    "part_2 = get_tuning_freq(model[x].as_long(), model[y].as_long())"
   ]
  },
  {
   "cell_type": "code",
   "execution_count": 17,
   "metadata": {},
   "outputs": [
    {
     "data": {
      "text/html": [
       "<pre style=\"white-space:pre;overflow-x:auto;line-height:normal;font-family:Menlo,'DejaVu Sans Mono',consolas,'Courier New',monospace\"><span style=\"color: #008000; text-decoration-color: #008000; font-weight: bold\">Part </span><span style=\"color: #008000; text-decoration-color: #008000; font-weight: bold\">1</span>: <span style=\"color: #008080; text-decoration-color: #008080; font-weight: bold\">4919281</span>\n",
       "</pre>\n"
      ],
      "text/plain": [
       "\u001b[1;32mPart \u001b[0m\u001b[1;32m1\u001b[0m: \u001b[1;36m4919281\u001b[0m\n"
      ]
     },
     "metadata": {},
     "output_type": "display_data"
    },
    {
     "data": {
      "text/html": [
       "<pre style=\"white-space:pre;overflow-x:auto;line-height:normal;font-family:Menlo,'DejaVu Sans Mono',consolas,'Courier New',monospace\"><span style=\"color: #008000; text-decoration-color: #008000; font-weight: bold\">Part </span><span style=\"color: #008000; text-decoration-color: #008000; font-weight: bold\">2</span>: <span style=\"color: #008080; text-decoration-color: #008080; font-weight: bold\">12630143363767</span>\n",
       "</pre>\n"
      ],
      "text/plain": [
       "\u001b[1;32mPart \u001b[0m\u001b[1;32m2\u001b[0m: \u001b[1;36m12630143363767\u001b[0m\n"
      ]
     },
     "metadata": {},
     "output_type": "display_data"
    }
   ],
   "source": [
    "print_part_1(part_1)\n",
    "print_part_2(part_2)"
   ]
  },
  {
   "cell_type": "code",
   "execution_count": 18,
   "metadata": {},
   "outputs": [],
   "source": [
    "# submit_part_1(part_1, DAY)\n",
    "# submit_part_2(part_2, DAY)"
   ]
  }
 ],
 "metadata": {
  "kernelspec": {
   "display_name": "venv",
   "language": "python",
   "name": "python3"
  },
  "language_info": {
   "codemirror_mode": {
    "name": "ipython",
    "version": 3
   },
   "file_extension": ".py",
   "mimetype": "text/x-python",
   "name": "python",
   "nbconvert_exporter": "python",
   "pygments_lexer": "ipython3",
   "version": "3.11.1"
  },
  "orig_nbformat": 4,
  "vscode": {
   "interpreter": {
    "hash": "1deb42c3241d521f6003b1a68e85a16645dc710c5467eba0d538286ef971f2c2"
   }
  }
 },
 "nbformat": 4,
 "nbformat_minor": 2
}
