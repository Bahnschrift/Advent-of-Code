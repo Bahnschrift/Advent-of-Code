{
 "cells": [
  {
   "cell_type": "markdown",
   "metadata": {},
   "source": [
    "# Advent of Code 2023\n",
    "## Day 21\n",
    "*<https://adventofcode.com/2023/day/21>*"
   ]
  },
  {
   "cell_type": "code",
   "execution_count": 1,
   "metadata": {},
   "outputs": [],
   "source": [
    "import heapq\n",
    "import math\n",
    "import re\n",
    "import functools as ft\n",
    "from collections import Counter, defaultdict, deque, namedtuple\n",
    "from itertools import combinations, permutations, product\n",
    "from string import ascii_letters, ascii_lowercase, ascii_uppercase\n",
    "\n",
    "import IPython\n",
    "import z3\n",
    "from rich import inspect, pretty, print\n",
    "\n",
    "from new_helper import *\n",
    "\n",
    "pretty.install()"
   ]
  },
  {
   "cell_type": "code",
   "execution_count": 2,
   "metadata": {},
   "outputs": [],
   "source": [
    "DAY = 21\n",
    "input_str = get_aoc_input(DAY, 2023)\n",
    "part_1 = part_2 = 0"
   ]
  },
  {
   "cell_type": "code",
   "execution_count": 3,
   "metadata": {},
   "outputs": [],
   "source": [
    "inp = input_str.parse_grid()"
   ]
  },
  {
   "cell_type": "code",
   "execution_count": 4,
   "metadata": {},
   "outputs": [],
   "source": [
    "sx, sy = inp.find(\"S\")\n",
    "\n",
    "\n",
    "def is_garden(x: int, y: int):\n",
    "    return inp[x, y] == \".\" or inp[x, y] == \"S\"\n",
    "\n",
    "\n",
    "def num_reachable(sx: int, sy: int, N: int):\n",
    "    visited = set()\n",
    "    targets = set()\n",
    "    Q: deque[tuple[int, int, int]] = deque()\n",
    "    Q.append((0, sx, sy))\n",
    "\n",
    "    while Q:\n",
    "        d, x, y = Q.popleft()\n",
    "\n",
    "        if d % 2 == N % 2:\n",
    "            targets.add((x, y))\n",
    "\n",
    "        if d >= N:\n",
    "            continue\n",
    "\n",
    "        if (x, y) in visited:\n",
    "            continue\n",
    "\n",
    "        visited.add((x, y))\n",
    "\n",
    "        for nx, ny in inp.adjacent_4_positions(x, y):\n",
    "            if is_garden(nx, ny):\n",
    "                Q.append((d + 1, nx, ny))\n",
    "\n",
    "    return len(targets)\n",
    "\n",
    "\n",
    "part_1 = num_reachable(sx, sy, 64)"
   ]
  },
  {
   "cell_type": "markdown",
   "metadata": {},
   "source": [
    "Assumes that the borders of each grid, as well the starting row/column is completely open, and that the starting position is in the exact center."
   ]
  },
  {
   "cell_type": "code",
   "execution_count": 5,
   "metadata": {},
   "outputs": [],
   "source": [
    "N = 26501365\n",
    "\n",
    "assert inp.width == inp.height\n",
    "\n",
    "grid_size = inp.width\n",
    "assert grid_size % 2 == 1\n",
    "\n",
    "diamond_radius_grids = (N + 1) // grid_size\n",
    "diamond_radius = (diamond_radius_grids - 1) * grid_size + math.ceil(grid_size / 2)\n",
    "\n",
    "num_start_grid = 1 + sum(4 * i for i in range(2, diamond_radius_grids, 2))\n",
    "num_alt_grid = sum(4 * (i - 1) for i in range(2, diamond_radius_grids + 1, 2))\n",
    "\n",
    "start_grid_covered = num_reachable(sx, sy, 1000 + N % 2)\n",
    "alt_grid_covered = num_reachable(sx, sy, 1000 + (N + 1) % 2)\n",
    "\n",
    "inner_coverage = num_start_grid * start_grid_covered + num_alt_grid * alt_grid_covered\n",
    "part_2 += inner_coverage\n",
    "\n",
    "center_reach = N - diamond_radius\n",
    "top_center = num_reachable(sx, inp.height - 1, center_reach)\n",
    "right_center = num_reachable(0, sy, center_reach)\n",
    "bottom_center = num_reachable(sx, 0, center_reach)\n",
    "left_center = num_reachable(inp.width - 1, sy, center_reach)\n",
    "\n",
    "part_2 += top_center\n",
    "part_2 += right_center\n",
    "part_2 += bottom_center\n",
    "part_2 += left_center\n",
    "\n",
    "corner_1_reach = N - (diamond_radius + math.ceil(grid_size / 2))\n",
    "corner_2_reach = N - (diamond_radius - grid_size + math.ceil(grid_size / 2))\n",
    "top_right_corner_1 = num_reachable(0, inp.height - 1, corner_1_reach)\n",
    "top_right_corner_2 = num_reachable(0, inp.height - 1, corner_2_reach)\n",
    "bottom_right_corner_1 = num_reachable(0, 0, corner_1_reach)\n",
    "bottom_right_corner_2 = num_reachable(0, 0, corner_2_reach)\n",
    "bottom_left_corner_1 = num_reachable(inp.width - 1, 0, corner_1_reach)\n",
    "bottom_left_corner_2 = num_reachable(inp.width - 1, 0, corner_2_reach)\n",
    "top_left_corner_1 = num_reachable(inp.width - 1, inp.height - 1, corner_1_reach)\n",
    "top_left_corner_2 = num_reachable(inp.width - 1, inp.height - 1, corner_2_reach)\n",
    "\n",
    "part_2 += top_right_corner_2 * (diamond_radius_grids - 1)\n",
    "part_2 += bottom_right_corner_2 * (diamond_radius_grids - 1)\n",
    "part_2 += bottom_left_corner_2 * (diamond_radius_grids - 1)\n",
    "part_2 += top_left_corner_2 * (diamond_radius_grids - 1)\n",
    "\n",
    "if corner_1_reach >= 0:\n",
    "    part_2 += top_right_corner_1 * diamond_radius_grids\n",
    "    part_2 += bottom_right_corner_1 * diamond_radius_grids\n",
    "    part_2 += bottom_left_corner_1 * diamond_radius_grids\n",
    "    part_2 += top_left_corner_1 * diamond_radius_grids"
   ]
  },
  {
   "cell_type": "code",
   "execution_count": 6,
   "metadata": {},
   "outputs": [
    {
     "data": {
      "text/html": [
       "<pre style=\"white-space:pre;overflow-x:auto;line-height:normal;font-family:Menlo,'DejaVu Sans Mono',consolas,'Courier New',monospace\"><span style=\"color: #008000; text-decoration-color: #008000; font-weight: bold\">Part </span><span style=\"color: #008000; text-decoration-color: #008000; font-weight: bold\">1</span>: <span style=\"color: #008080; text-decoration-color: #008080; font-weight: bold\">3858</span>\n",
       "</pre>\n"
      ],
      "text/plain": [
       "\u001b[1;32mPart \u001b[0m\u001b[1;32m1\u001b[0m: \u001b[1;36m3858\u001b[0m\n"
      ]
     },
     "metadata": {},
     "output_type": "display_data"
    },
    {
     "data": {
      "text/html": [
       "<pre style=\"white-space:pre;overflow-x:auto;line-height:normal;font-family:Menlo,'DejaVu Sans Mono',consolas,'Courier New',monospace\"><span style=\"color: #008000; text-decoration-color: #008000; font-weight: bold\">Part </span><span style=\"color: #008000; text-decoration-color: #008000; font-weight: bold\">2</span>: <span style=\"color: #008080; text-decoration-color: #008080; font-weight: bold\">636350496972143</span>\n",
       "</pre>\n"
      ],
      "text/plain": [
       "\u001b[1;32mPart \u001b[0m\u001b[1;32m2\u001b[0m: \u001b[1;36m636350496972143\u001b[0m\n"
      ]
     },
     "metadata": {},
     "output_type": "display_data"
    }
   ],
   "source": [
    "print_part_1(part_1)\n",
    "print_part_2(part_2)"
   ]
  }
 ],
 "metadata": {
  "kernelspec": {
   "display_name": "venv",
   "language": "python",
   "name": "python3"
  },
  "language_info": {
   "codemirror_mode": {
    "name": "ipython",
    "version": 3
   },
   "file_extension": ".py",
   "mimetype": "text/x-python",
   "name": "python",
   "nbconvert_exporter": "python",
   "pygments_lexer": "ipython3",
   "version": "3.12.0"
  },
  "orig_nbformat": 4,
  "vscode": {
   "interpreter": {
    "hash": "1deb42c3241d521f6003b1a68e85a16645dc710c5467eba0d538286ef971f2c2"
   }
  }
 },
 "nbformat": 4,
 "nbformat_minor": 2
}
