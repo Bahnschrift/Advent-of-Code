{
 "cells": [
  {
   "cell_type": "markdown",
   "metadata": {},
   "source": [
    "# Advent of Code 2017\n",
    "## Day 7\n",
    "*<https://adventofcode.com/2017/day/7>*"
   ]
  },
  {
   "cell_type": "code",
   "execution_count": 129,
   "metadata": {},
   "outputs": [],
   "source": [
    "import heapq\n",
    "import math\n",
    "import re\n",
    "import functools as ft\n",
    "from collections import Counter, defaultdict, deque, namedtuple\n",
    "from itertools import combinations, permutations, product\n",
    "from string import ascii_letters, ascii_lowercase, ascii_uppercase\n",
    "\n",
    "import IPython\n",
    "import z3\n",
    "from rich import inspect, pretty, print\n",
    "\n",
    "from new_helper import *\n",
    "\n",
    "pretty.install()"
   ]
  },
  {
   "cell_type": "code",
   "execution_count": 130,
   "metadata": {},
   "outputs": [],
   "source": [
    "DAY = 7\n",
    "input_str = get_aoc_input(DAY, 2017)\n",
    "part_1 = part_2 = 0"
   ]
  },
  {
   "cell_type": "code",
   "execution_count": 131,
   "metadata": {},
   "outputs": [],
   "source": [
    "sample = Input(\"\"\"\\\n",
    "pbga (66)\n",
    "xhth (57)\n",
    "ebii (61)\n",
    "havc (66)\n",
    "ktlj (57)\n",
    "fwft (72) -> ktlj, cntj, xhth\n",
    "qoyq (66)\n",
    "padx (45) -> pbga, havc, qoyq\n",
    "tknk (41) -> ugml, padx, fwft\n",
    "jptl (61)\n",
    "ugml (68) -> gyxo, ebii, jptl\n",
    "gyxo (61)\n",
    "cntj (57)\n",
    "\"\"\")"
   ]
  },
  {
   "cell_type": "code",
   "execution_count": 132,
   "metadata": {},
   "outputs": [],
   "source": [
    "input_str = sample\n",
    "inp = input_str.parse_lines()"
   ]
  },
  {
   "cell_type": "code",
   "execution_count": 133,
   "metadata": {},
   "outputs": [],
   "source": [
    "class Node:\n",
    "    children: set[\"Node\"]\n",
    "\n",
    "    def __init__(self, name: str, weight: int):\n",
    "        self.children = set()\n",
    "        self.parent = None\n",
    "        self.weight = weight\n",
    "        self.name = name\n",
    "\n",
    "    @ft.cache\n",
    "    def total_weight(self):\n",
    "        return self.weight + sum(c.total_weight() for c in self.children)\n",
    "\n",
    "    @ft.cache\n",
    "    def balanced(self):\n",
    "        return all(c.balanced for c in self.children) and len(set(c.total_weight() for c in self.children)) <= 1"
   ]
  },
  {
   "cell_type": "code",
   "execution_count": 134,
   "metadata": {},
   "outputs": [],
   "source": [
    "nodes = {}\n",
    "\n",
    "for line in inp:\n",
    "    line = line.split()\n",
    "    name = line[0]\n",
    "    weight = int(line[1][1:-1])\n",
    "    nodes[name] = Node(name, weight)\n",
    "\n",
    "for line in inp:\n",
    "    line = line.split()\n",
    "    name = line[0]\n",
    "\n",
    "    node = nodes[name]\n",
    "\n",
    "    for child in line[3:]:\n",
    "        child = child.rstrip(',')\n",
    "        node.children.add(nodes[child])\n",
    "        nodes[child].parent = node"
   ]
  },
  {
   "cell_type": "code",
   "execution_count": 135,
   "metadata": {},
   "outputs": [],
   "source": [
    "for node in nodes:\n",
    "    if nodes[node].parent is None:\n",
    "        part_1 = node\n",
    "        break"
   ]
  },
  {
   "cell_type": "code",
   "execution_count": 136,
   "metadata": {},
   "outputs": [
    {
     "ename": "KeyboardInterrupt",
     "evalue": "",
     "output_type": "error",
     "traceback": [
      "\u001b[1;31m---------------------------------------------------------------------------\u001b[0m",
      "\u001b[1;31mKeyboardInterrupt\u001b[0m                         Traceback (most recent call last)",
      "\u001b[1;32mc:\\Users\\kbeck\\OneDrive\\Code\\Advent-of-Code\\2017\\python\\day07.ipynb Cell 9\u001b[0m line \u001b[0;36m4\n\u001b[0;32m      <a href='vscode-notebook-cell:/c%3A/Users/kbeck/OneDrive/Code/Advent-of-Code/2017/python/day07.ipynb#X15sZmlsZQ%3D%3D?line=1'>2</a>\u001b[0m \u001b[39mwhile\u001b[39;00m \u001b[39mnot\u001b[39;00m cur\u001b[39m.\u001b[39mbalanced():\n\u001b[0;32m      <a href='vscode-notebook-cell:/c%3A/Users/kbeck/OneDrive/Code/Advent-of-Code/2017/python/day07.ipynb#X15sZmlsZQ%3D%3D?line=2'>3</a>\u001b[0m     \u001b[39mfor\u001b[39;00m child \u001b[39min\u001b[39;00m cur\u001b[39m.\u001b[39mchildren:\n\u001b[1;32m----> <a href='vscode-notebook-cell:/c%3A/Users/kbeck/OneDrive/Code/Advent-of-Code/2017/python/day07.ipynb#X15sZmlsZQ%3D%3D?line=3'>4</a>\u001b[0m         \u001b[39mif\u001b[39;00m \u001b[39mnot\u001b[39;00m child\u001b[39m.\u001b[39mtotal_weight:\n\u001b[0;32m      <a href='vscode-notebook-cell:/c%3A/Users/kbeck/OneDrive/Code/Advent-of-Code/2017/python/day07.ipynb#X15sZmlsZQ%3D%3D?line=4'>5</a>\u001b[0m             cur \u001b[39m=\u001b[39m child\n\u001b[0;32m      <a href='vscode-notebook-cell:/c%3A/Users/kbeck/OneDrive/Code/Advent-of-Code/2017/python/day07.ipynb#X15sZmlsZQ%3D%3D?line=5'>6</a>\u001b[0m             \u001b[39mprint\u001b[39m(\u001b[39m\"\u001b[39m\u001b[39me\u001b[39m\u001b[39m\"\u001b[39m)\n",
      "\u001b[1;31mKeyboardInterrupt\u001b[0m: "
     ]
    }
   ],
   "source": [
    "cur = nodes[part_1]\n",
    "while not cur.balanced():\n",
    "    for child in cur.children:\n",
    "        if not child.total_weight:\n",
    "            cur = child\n",
    "            break"
   ]
  },
  {
   "cell_type": "code",
   "execution_count": null,
   "metadata": {},
   "outputs": [
    {
     "data": {
      "text/html": [
       "<pre style=\"white-space:pre;overflow-x:auto;line-height:normal;font-family:Menlo,'DejaVu Sans Mono',consolas,'Courier New',monospace\"><span style=\"color: #008000; text-decoration-color: #008000; font-weight: bold\">Part </span><span style=\"color: #008000; text-decoration-color: #008000; font-weight: bold\">1</span>: tknk\n",
       "</pre>\n"
      ],
      "text/plain": [
       "\u001b[1;32mPart \u001b[0m\u001b[1;32m1\u001b[0m: tknk\n"
      ]
     },
     "metadata": {},
     "output_type": "display_data"
    },
    {
     "data": {
      "text/html": [
       "<pre style=\"white-space:pre;overflow-x:auto;line-height:normal;font-family:Menlo,'DejaVu Sans Mono',consolas,'Courier New',monospace\"><span style=\"color: #008000; text-decoration-color: #008000; font-weight: bold\">Part </span><span style=\"color: #008000; text-decoration-color: #008000; font-weight: bold\">2</span>: <span style=\"color: #008080; text-decoration-color: #008080; font-weight: bold\">0</span>\n",
       "</pre>\n"
      ],
      "text/plain": [
       "\u001b[1;32mPart \u001b[0m\u001b[1;32m2\u001b[0m: \u001b[1;36m0\u001b[0m\n"
      ]
     },
     "metadata": {},
     "output_type": "display_data"
    }
   ],
   "source": [
    "print_part_1(part_1)\n",
    "print_part_2(part_2)"
   ]
  },
  {
   "cell_type": "code",
   "execution_count": null,
   "metadata": {},
   "outputs": [],
   "source": [
    "# submit_part_1(part_1, DAY, 2017)\n",
    "# submit_part_2(part_2, DAY, 2017)"
   ]
  }
 ],
 "metadata": {
  "kernelspec": {
   "display_name": "venv",
   "language": "python",
   "name": "python3"
  },
  "language_info": {
   "codemirror_mode": {
    "name": "ipython",
    "version": 3
   },
   "file_extension": ".py",
   "mimetype": "text/x-python",
   "name": "python",
   "nbconvert_exporter": "python",
   "pygments_lexer": "ipython3",
   "version": "3.11.1"
  },
  "orig_nbformat": 4,
  "vscode": {
   "interpreter": {
    "hash": "1deb42c3241d521f6003b1a68e85a16645dc710c5467eba0d538286ef971f2c2"
   }
  }
 },
 "nbformat": 4,
 "nbformat_minor": 2
}
