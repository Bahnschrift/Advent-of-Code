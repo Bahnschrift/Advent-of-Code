{
 "cells": [
  {
   "cell_type": "markdown",
   "metadata": {},
   "source": [
    "# Advent of Code 2024\n",
    "## Day 4\n",
    "*<https://adventofcode.com/2024/day/4>*"
   ]
  },
  {
   "cell_type": "code",
   "execution_count": 1,
   "metadata": {},
   "outputs": [],
   "source": [
    "import heapq\n",
    "import math\n",
    "import re\n",
    "import functools as ft\n",
    "from collections import Counter, defaultdict, deque, namedtuple\n",
    "from itertools import combinations, permutations, product\n",
    "from string import ascii_letters, ascii_lowercase, ascii_uppercase\n",
    "\n",
    "# import z3\n",
    "from rich import inspect, pretty, print\n",
    "\n",
    "from new_helper import *\n",
    "\n",
    "pretty.install()\n",
    "\n",
    "import ipykernel\n",
    "\n",
    "with open(\"kernel\", \"w+\") as f:\n",
    "    f.write(ipykernel.get_connection_file())"
   ]
  },
  {
   "cell_type": "code",
   "execution_count": 2,
   "metadata": {},
   "outputs": [],
   "source": [
    "DAY = 4\n",
    "YEAR = 2024\n",
    "input_str = get_aoc_input(DAY, 2024)\n",
    "part_1 = part_2 = 0"
   ]
  },
  {
   "cell_type": "code",
   "execution_count": 3,
   "metadata": {},
   "outputs": [],
   "source": [
    "inp = input_str.parse_grid()"
   ]
  },
  {
   "cell_type": "code",
   "execution_count": 4,
   "metadata": {},
   "outputs": [],
   "source": [
    "for row in inp.rows():\n",
    "    row = \"\".join(row)\n",
    "    part_1 += row.count(\"XMAS\")\n",
    "    part_1 += row.count(\"SAMX\")\n",
    "\n",
    "for col in inp.cols():\n",
    "    col = \"\".join(col)\n",
    "    part_1 += col.count(\"XMAS\")\n",
    "    part_1 += col.count(\"SAMX\")\n",
    "\n",
    "for sx in range(inp.width):\n",
    "    x = sx\n",
    "    y = 0\n",
    "    diag = \"\"\n",
    "    while inp.in_bounds(x, y):\n",
    "        diag += inp[x, y]\n",
    "        x += 1\n",
    "        y += 1\n",
    "\n",
    "    part_1 += diag.count(\"XMAS\")\n",
    "    part_1 += diag.count(\"SAMX\")\n",
    "\n",
    "\n",
    "for sy in range(1, inp.width):\n",
    "    x = 0\n",
    "    y = sy\n",
    "    diag = \"\"\n",
    "    while inp.in_bounds(x, y):\n",
    "        diag += inp[x, y]\n",
    "        x += 1\n",
    "        y += 1\n",
    "    part_1 += diag.count(\"XMAS\")\n",
    "    part_1 += diag.count(\"SAMX\")\n",
    "\n",
    "inp.rotate()\n",
    "\n",
    "for sx in range(inp.width):\n",
    "    x = sx\n",
    "    y = 0\n",
    "    diag = \"\"\n",
    "    while inp.in_bounds(x, y):\n",
    "        diag += inp[x, y]\n",
    "        x += 1\n",
    "        y += 1\n",
    "    part_1 += diag.count(\"XMAS\")\n",
    "    part_1 += diag.count(\"SAMX\")\n",
    "\n",
    "for sy in range(1, inp.width):\n",
    "    x = 0\n",
    "    y = sy\n",
    "    diag = \"\"\n",
    "    while inp.in_bounds(x, y):\n",
    "        diag += inp[x, y]\n",
    "        x += 1\n",
    "        y += 1\n",
    "    part_1 += diag.count(\"XMAS\")\n",
    "    part_1 += diag.count(\"SAMX\")"
   ]
  },
  {
   "cell_type": "code",
   "execution_count": null,
   "metadata": {},
   "outputs": [],
   "source": [
    "for x in range(inp.width - 2):\n",
    "    for y in range(inp.height - 2):\n",
    "        g = Grid(inp[x : x + 3, y : y + 3])\n",
    "        if g[1, 1] == \"A\":\n",
    "            if {g[0, 0], g[2, 2]} == {g[0, 2], g[2, 0]} == {\"M\", \"S\"}:\n",
    "                part_2 += 1"
   ]
  },
  {
   "cell_type": "code",
   "execution_count": 6,
   "metadata": {},
   "outputs": [
    {
     "data": {
      "text/html": [
       "<pre style=\"white-space:pre;overflow-x:auto;line-height:normal;font-family:Menlo,'DejaVu Sans Mono',consolas,'Courier New',monospace\"><span style=\"color: #008000; text-decoration-color: #008000; font-weight: bold\">Part </span><span style=\"color: #008000; text-decoration-color: #008000; font-weight: bold\">1</span>: <span style=\"color: #008080; text-decoration-color: #008080; font-weight: bold\">2562</span>\n",
       "</pre>\n"
      ],
      "text/plain": [
       "\u001b[1;32mPart \u001b[0m\u001b[1;32m1\u001b[0m: \u001b[1;36m2562\u001b[0m\n"
      ]
     },
     "metadata": {},
     "output_type": "display_data"
    },
    {
     "data": {
      "text/html": [
       "<pre style=\"white-space:pre;overflow-x:auto;line-height:normal;font-family:Menlo,'DejaVu Sans Mono',consolas,'Courier New',monospace\"><span style=\"color: #008000; text-decoration-color: #008000; font-weight: bold\">Part </span><span style=\"color: #008000; text-decoration-color: #008000; font-weight: bold\">2</span>: <span style=\"color: #008080; text-decoration-color: #008080; font-weight: bold\">1902</span>\n",
       "</pre>\n"
      ],
      "text/plain": [
       "\u001b[1;32mPart \u001b[0m\u001b[1;32m2\u001b[0m: \u001b[1;36m1902\u001b[0m\n"
      ]
     },
     "metadata": {},
     "output_type": "display_data"
    }
   ],
   "source": [
    "print_part_1(part_1)\n",
    "print_part_2(part_2)"
   ]
  }
 ],
 "metadata": {
  "kernelspec": {
   "display_name": ".venv",
   "language": "python",
   "name": "python3"
  },
  "language_info": {
   "codemirror_mode": {
    "name": "ipython",
    "version": 3
   },
   "file_extension": ".py",
   "mimetype": "text/x-python",
   "name": "python",
   "nbconvert_exporter": "python",
   "pygments_lexer": "ipython3",
   "version": "3.12.7"
  },
  "orig_nbformat": 4
 },
 "nbformat": 4,
 "nbformat_minor": 2
}
