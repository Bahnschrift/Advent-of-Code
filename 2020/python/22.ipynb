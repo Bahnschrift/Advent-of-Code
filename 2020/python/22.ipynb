{
 "cells": [
  {
   "cell_type": "markdown",
   "metadata": {},
   "source": [
    "# Advent of code 2020: Day 22"
   ]
  },
  {
   "cell_type": "markdown",
   "metadata": {},
   "source": [
    "## Import"
   ]
  },
  {
   "cell_type": "code",
   "execution_count": 1,
   "metadata": {},
   "outputs": [],
   "source": [
    "import math as M\n",
    "import collections as C\n",
    "import itertools as I\n",
    "from helper import *\n",
    "\n",
    "\n",
    "day = 22\n",
    "data = get_input_groups(day, 2020)"
   ]
  },
  {
   "cell_type": "markdown",
   "metadata": {},
   "source": [
    "## Part 1"
   ]
  },
  {
   "cell_type": "code",
   "execution_count": 2,
   "metadata": {},
   "outputs": [
    {
     "data": {
      "text/html": [
       "<pre style=\"white-space:pre;overflow-x:auto;line-height:normal;font-family:Menlo,'DejaVu Sans Mono',consolas,'Courier New',monospace\"><span style=\"color: #008080; text-decoration-color: #008080; font-weight: bold\">35299</span>\n",
       "</pre>\n"
      ],
      "text/plain": [
       "\u001b[1;36m35299\u001b[0m\n"
      ]
     },
     "metadata": {},
     "output_type": "display_data"
    }
   ],
   "source": [
    "p1, p2 = [[*map(int, x[1:])] for x in data]\n",
    "\n",
    "r = 0\n",
    "while p1 and p2:\n",
    "    r += 1\n",
    "    c1 = p1.pop(0)\n",
    "    c2 = p2.pop(0)\n",
    "    if c1 > c2:\n",
    "        p1 += [c1, c2]\n",
    "    else:\n",
    "        p2 += [c2, c1]\n",
    "        \n",
    "print(sum(x * card for x, card in enumerate(max(p1, p2, key=len)[::-1], 1)))\n",
    "\n",
    "    "
   ]
  },
  {
   "cell_type": "markdown",
   "metadata": {},
   "source": [
    "## Part 2"
   ]
  },
  {
   "cell_type": "code",
   "execution_count": 3,
   "metadata": {},
   "outputs": [
    {
     "data": {
      "text/html": [
       "<pre style=\"white-space:pre;overflow-x:auto;line-height:normal;font-family:Menlo,'DejaVu Sans Mono',consolas,'Courier New',monospace\"><span style=\"color: #008080; text-decoration-color: #008080; font-weight: bold\">33266</span>\n",
       "</pre>\n"
      ],
      "text/plain": [
       "\u001b[1;36m33266\u001b[0m\n"
      ]
     },
     "metadata": {},
     "output_type": "display_data"
    }
   ],
   "source": [
    "p = data\n",
    "p1 = [*map(int, p[0][1:])]\n",
    "p2 = [*map(int, p[1][1:])]\n",
    "\n",
    "def game(p1, p2):\n",
    "    seen = set()\n",
    "    while p1 and p2:\n",
    "        if (tuple(p1), tuple(p2)) in seen:\n",
    "            return p1, p2\n",
    "        seen.add((tuple(p1), tuple(p2)))\n",
    "\n",
    "        c1, c2 = p1.pop(0), p2.pop(0)\n",
    "        if c1 <= len(p1) and c2 <= len(p2):\n",
    "            p1_winner = len(game(p1[:c1], p2[:c2])[0]) > 0\n",
    "        else:\n",
    "            p1_winner = c1 > c2\n",
    "        if p1_winner:\n",
    "            p1 += [c1, c2]\n",
    "        else:\n",
    "            p2 += [c2, c1]\n",
    "    return p1, p2\n",
    "\n",
    "print(sum(x * card for x, card in enumerate(max(*game(p1, p2), key=len)[::-1], 1)))\n"
   ]
  }
 ],
 "metadata": {
  "kernelspec": {
   "display_name": "Python 3.10.4 ('venv': venv)",
   "language": "python",
   "name": "python3"
  },
  "language_info": {
   "codemirror_mode": {
    "name": "ipython",
    "version": 3
   },
   "file_extension": ".py",
   "mimetype": "text/x-python",
   "name": "python",
   "nbconvert_exporter": "python",
   "pygments_lexer": "ipython3",
   "version": "3.10.4"
  },
  "orig_nbformat": 2,
  "vscode": {
   "interpreter": {
    "hash": "1deb42c3241d521f6003b1a68e85a16645dc710c5467eba0d538286ef971f2c2"
   }
  }
 },
 "nbformat": 4,
 "nbformat_minor": 2
}
