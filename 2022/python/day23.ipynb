{
 "cells": [
  {
   "cell_type": "markdown",
   "metadata": {},
   "source": [
    "# Advent of Code 2022\n",
    "## Day 23\n",
    "*<https://adventofcode.com/2022/day/23>*"
   ]
  },
  {
   "cell_type": "code",
   "execution_count": 1,
   "metadata": {},
   "outputs": [],
   "source": [
    "import heapq\n",
    "import math\n",
    "import re\n",
    "from collections import Counter, defaultdict, deque, namedtuple\n",
    "from itertools import combinations, permutations, product\n",
    "from string import ascii_letters, ascii_lowercase, ascii_uppercase\n",
    "\n",
    "import IPython\n",
    "import z3\n",
    "from rich import inspect, pretty, print\n",
    "\n",
    "from new_helper import *\n",
    "\n",
    "pretty.install()"
   ]
  },
  {
   "cell_type": "code",
   "execution_count": 2,
   "metadata": {},
   "outputs": [],
   "source": [
    "DAY = 23\n",
    "inp = get_aoc_input(DAY, 2022).parse_grid()\n",
    "part_1 = part_2 = 0"
   ]
  },
  {
   "cell_type": "code",
   "execution_count": 3,
   "metadata": {},
   "outputs": [],
   "source": [
    "def step(elves: set[tuple[int, int]], orders: list[tuple[int, int]]) -> set[tuple[int, int]]:\n",
    "    moves: dict[tuple[int, int], tuple[int, int]] = {}\n",
    "\n",
    "    for elf in elves:\n",
    "        ex, ey = elf\n",
    "        adj_pos = [(ex + dx, ey + dy) for dx, dy in ADJACENT_8]\n",
    "        if not any(pos in elves for pos in adj_pos):\n",
    "            moves[elf] = (ex, ey)\n",
    "\n",
    "        else:\n",
    "            for direction in orders:\n",
    "                dx, dy = direction\n",
    "                nx, ny = ex + direction[0], ey + direction[1]\n",
    "                if not any(\n",
    "                    pos in elves\n",
    "                    for pos in (\n",
    "                        ((nx, ny + ddy) for ddy in (-1, 0, 1)) if dy == 0 else ((nx + ddx, ny) for ddx in (-1, 0, 1))\n",
    "                    )\n",
    "                ):\n",
    "                    moves[elf] = (nx, ny)\n",
    "                    break\n",
    "            else:\n",
    "                moves[elf] = (ex, ey)\n",
    "\n",
    "    final_moves: dict[tuple[int, int], tuple[int, int]] = {}\n",
    "    invalid_moves = {pos for pos in moves.values() if list(moves.values()).count(pos) > 1}\n",
    "\n",
    "    for elf, pos in moves.items():\n",
    "        if pos not in invalid_moves:\n",
    "            final_moves[elf] = pos\n",
    "        else:\n",
    "            final_moves[elf] = elf\n",
    "\n",
    "    return set(final_moves.values())"
   ]
  },
  {
   "cell_type": "code",
   "execution_count": 4,
   "metadata": {},
   "outputs": [],
   "source": [
    "elves: set[tuple[int, int]] = set()\n",
    "for pos, item in inp.items():\n",
    "    if item == \"#\":\n",
    "        elves.add(pos)\n",
    "original_elves = elves.copy()\n",
    "\n",
    "orders = [DIRECTIONS[\"N\"], DIRECTIONS[\"S\"], DIRECTIONS[\"W\"], DIRECTIONS[\"E\"]]\n",
    "for n in range(10):\n",
    "    elves = step(elves, orders)\n",
    "    orders = orders[1:] + orders[:1]\n",
    "\n",
    "final_grid = InfiniteGrid.from_points(elves, \"#\", default=\".\")\n",
    "part_1 = final_grid.width() * final_grid.height() - len(final_grid)"
   ]
  },
  {
   "cell_type": "code",
   "execution_count": 5,
   "metadata": {},
   "outputs": [],
   "source": [
    "elves = original_elves\n",
    "prev_elves = None\n",
    "orders = [DIRECTIONS[\"N\"], DIRECTIONS[\"S\"], DIRECTIONS[\"W\"], DIRECTIONS[\"E\"]]\n",
    "i = 0\n",
    "while elves != prev_elves:\n",
    "    prev_elves = elves.copy()\n",
    "    elves = step(elves, orders)\n",
    "    orders = orders[1:] + orders[:1]\n",
    "    i += 1\n",
    "\n",
    "part_2 = i"
   ]
  },
  {
   "cell_type": "code",
   "execution_count": 6,
   "metadata": {},
   "outputs": [
    {
     "data": {
      "text/html": [
       "<pre style=\"white-space:pre;overflow-x:auto;line-height:normal;font-family:Menlo,'DejaVu Sans Mono',consolas,'Courier New',monospace\"><span style=\"color: #008000; text-decoration-color: #008000; font-weight: bold\">Part </span><span style=\"color: #008000; text-decoration-color: #008000; font-weight: bold\">1</span>: <span style=\"color: #008080; text-decoration-color: #008080; font-weight: bold\">4162</span>\n",
       "</pre>\n"
      ],
      "text/plain": [
       "\u001b[1;32mPart \u001b[0m\u001b[1;32m1\u001b[0m: \u001b[1;36m4162\u001b[0m\n"
      ]
     },
     "metadata": {},
     "output_type": "display_data"
    },
    {
     "data": {
      "text/html": [
       "<pre style=\"white-space:pre;overflow-x:auto;line-height:normal;font-family:Menlo,'DejaVu Sans Mono',consolas,'Courier New',monospace\"><span style=\"color: #008000; text-decoration-color: #008000; font-weight: bold\">Part </span><span style=\"color: #008000; text-decoration-color: #008000; font-weight: bold\">2</span>: <span style=\"color: #008080; text-decoration-color: #008080; font-weight: bold\">986</span>\n",
       "</pre>\n"
      ],
      "text/plain": [
       "\u001b[1;32mPart \u001b[0m\u001b[1;32m2\u001b[0m: \u001b[1;36m986\u001b[0m\n"
      ]
     },
     "metadata": {},
     "output_type": "display_data"
    }
   ],
   "source": [
    "print_part_1(part_1)\n",
    "print_part_2(part_2)"
   ]
  },
  {
   "cell_type": "code",
   "execution_count": 7,
   "metadata": {},
   "outputs": [],
   "source": [
    "# submit_part_1(part_1, DAY, 2022)\n",
    "# submit_part_2(part_2, DAY, 2022)"
   ]
  }
 ],
 "metadata": {
  "kernelspec": {
   "display_name": "venv",
   "language": "python",
   "name": "python3"
  },
  "language_info": {
   "codemirror_mode": {
    "name": "ipython",
    "version": 3
   },
   "file_extension": ".py",
   "mimetype": "text/x-python",
   "name": "python",
   "nbconvert_exporter": "python",
   "pygments_lexer": "ipython3",
   "version": "3.11.1"
  },
  "orig_nbformat": 4,
  "vscode": {
   "interpreter": {
    "hash": "1deb42c3241d521f6003b1a68e85a16645dc710c5467eba0d538286ef971f2c2"
   }
  }
 },
 "nbformat": 4,
 "nbformat_minor": 2
}
