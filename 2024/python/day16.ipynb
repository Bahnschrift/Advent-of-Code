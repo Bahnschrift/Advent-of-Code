{
 "cells": [
  {
   "cell_type": "markdown",
   "metadata": {},
   "source": [
    "# Advent of Code 2024\n",
    "## Day 16\n",
    "*<https://adventofcode.com/2024/day/16>*"
   ]
  },
  {
   "cell_type": "code",
   "execution_count": 1,
   "metadata": {},
   "outputs": [],
   "source": [
    "import heapq\n",
    "import math\n",
    "import re\n",
    "import functools as ft\n",
    "from collections import Counter, defaultdict, deque, namedtuple\n",
    "from itertools import combinations, permutations, product\n",
    "from string import ascii_letters, ascii_lowercase, ascii_uppercase\n",
    "\n",
    "# import z3\n",
    "from rich import inspect, pretty, print\n",
    "\n",
    "from new_helper import *\n",
    "\n",
    "pretty.install()\n",
    "\n",
    "try:\n",
    "    import ipykernel\n",
    "\n",
    "    with open(\"kernel\", \"w+\") as f:\n",
    "        f.write(ipykernel.get_connection_file())\n",
    "except:\n",
    "    pass"
   ]
  },
  {
   "cell_type": "code",
   "execution_count": 2,
   "metadata": {},
   "outputs": [],
   "source": [
    "DAY = 16\n",
    "YEAR = 2024\n",
    "input_str = get_aoc_input(DAY, 2024)\n",
    "part_1 = part_2 = 0"
   ]
  },
  {
   "cell_type": "code",
   "execution_count": 3,
   "metadata": {},
   "outputs": [],
   "source": [
    "inp = input_str.parse_grid()"
   ]
  },
  {
   "cell_type": "code",
   "execution_count": 4,
   "metadata": {},
   "outputs": [],
   "source": [
    "sx, sy = inp.find(\"S\")\n",
    "ex, ey = inp.find(\"E\")\n",
    "\n",
    "\n",
    "best_score = int(1e9)\n",
    "min_score: dict[tuple[int, int, int, int], int] = defaultdict(lambda: int(1e9))\n",
    "on_best_path: set[tuple[int, int]] = set()\n",
    "\n",
    "\n",
    "def score(length: int, turns: int) -> int:\n",
    "    return length + turns * 1000\n",
    "\n",
    "\n",
    "def search(x, y, dx, dy, vis: set[tuple[int, int]], length: int, turns: int):\n",
    "    global best_score, min_score, on_best_path\n",
    "\n",
    "    if (x, y) in vis or inp[x, y] == \"#\" or min_score[(x, y, dx, dy)] < score(length, turns):\n",
    "        return\n",
    "\n",
    "    vis.add((x, y))\n",
    "    min_score[(x, y, dx, dy)] = score(length, turns)\n",
    "\n",
    "    if x == ex and y == ey:\n",
    "        if score(length, turns) == best_score:\n",
    "            on_best_path |= vis\n",
    "        elif score(length, turns) < best_score:\n",
    "            on_best_path = vis.copy()\n",
    "            best_score = score(length, turns)\n",
    "\n",
    "        vis.remove((x, y))\n",
    "        return\n",
    "\n",
    "    nx, ny = x + dx, y + dy\n",
    "    search(nx, ny, dx, dy, vis, length + 1, turns)\n",
    "    for f in (turn_left, turn_right):\n",
    "        ndx, ndy = f(dx, dy)\n",
    "        search(x + ndx, y + ndy, ndx, ndy, vis, length + 1, turns + 1)\n",
    "\n",
    "    vis.remove((x, y))\n",
    "\n",
    "\n",
    "search(sx, sy, *DIRECTIONS[\"E\"], set(), 0, 0)\n",
    "part_1 = best_score\n",
    "part_2 = len(on_best_path)"
   ]
  },
  {
   "cell_type": "code",
   "execution_count": 5,
   "metadata": {},
   "outputs": [
    {
     "data": {
      "text/html": [
       "<pre style=\"white-space:pre;overflow-x:auto;line-height:normal;font-family:Menlo,'DejaVu Sans Mono',consolas,'Courier New',monospace\"><span style=\"color: #008000; text-decoration-color: #008000; font-weight: bold\">Part </span><span style=\"color: #008000; text-decoration-color: #008000; font-weight: bold\">1</span>: <span style=\"color: #008080; text-decoration-color: #008080; font-weight: bold\">99488</span>\n",
       "</pre>\n"
      ],
      "text/plain": [
       "\u001b[1;32mPart \u001b[0m\u001b[1;32m1\u001b[0m: \u001b[1;36m99488\u001b[0m\n"
      ]
     },
     "metadata": {},
     "output_type": "display_data"
    },
    {
     "data": {
      "text/html": [
       "<pre style=\"white-space:pre;overflow-x:auto;line-height:normal;font-family:Menlo,'DejaVu Sans Mono',consolas,'Courier New',monospace\"><span style=\"color: #008000; text-decoration-color: #008000; font-weight: bold\">Part </span><span style=\"color: #008000; text-decoration-color: #008000; font-weight: bold\">2</span>: <span style=\"color: #008080; text-decoration-color: #008080; font-weight: bold\">516</span>\n",
       "</pre>\n"
      ],
      "text/plain": [
       "\u001b[1;32mPart \u001b[0m\u001b[1;32m2\u001b[0m: \u001b[1;36m516\u001b[0m\n"
      ]
     },
     "metadata": {},
     "output_type": "display_data"
    }
   ],
   "source": [
    "print_part_1(part_1)\n",
    "print_part_2(part_2)"
   ]
  }
 ],
 "metadata": {
  "kernelspec": {
   "display_name": ".venv",
   "language": "python",
   "name": "python3"
  },
  "language_info": {
   "codemirror_mode": {
    "name": "ipython",
    "version": 3
   },
   "file_extension": ".py",
   "mimetype": "text/x-python",
   "name": "python",
   "nbconvert_exporter": "python",
   "pygments_lexer": "ipython3",
   "version": "3.12.7"
  },
  "orig_nbformat": 4
 },
 "nbformat": 4,
 "nbformat_minor": 2
}
