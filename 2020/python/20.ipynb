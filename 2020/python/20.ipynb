{
 "cells": [
  {
   "cell_type": "markdown",
   "metadata": {},
   "source": [
    "# Advent of code 2020: Day 20"
   ]
  },
  {
   "cell_type": "markdown",
   "metadata": {},
   "source": [
    "## Import"
   ]
  },
  {
   "cell_type": "code",
   "execution_count": 17,
   "metadata": {},
   "outputs": [],
   "source": [
    "import math as M\n",
    "import collections as C\n",
    "import itertools as I\n",
    "from helper import *\n",
    "\n",
    "\n",
    "day = 20\n",
    "data = get_input_groups(day, 2020)"
   ]
  },
  {
   "cell_type": "code",
   "execution_count": 18,
   "metadata": {},
   "outputs": [],
   "source": [
    "def as_cols(grid: Iterable[Iterable[Any]],) -> list[list[Any]]:\n",
    "    return [list(x) for x in zip(*grid)]"
   ]
  },
  {
   "cell_type": "markdown",
   "metadata": {},
   "source": [
    "## Common"
   ]
  },
  {
   "cell_type": "code",
   "execution_count": 19,
   "metadata": {},
   "outputs": [],
   "source": [
    "tileset = data\n",
    "tiles = {}\n",
    "borders = {}  # Top Bottom Left Right, flipped\n",
    "for tile in tileset:\n",
    "    n = ints(tile[0])[0]\n",
    "    tiles[n] = tile[1:]\n",
    "    bor = [tile[1], tile[-1]]\n",
    "    tile = [\"\".join(x) for x in as_cols(tile[1:])]\n",
    "    bor += [tile[0], tile[-1]]\n",
    "    bor += [x[::-1] for x in bor]\n",
    "    borders[n] = bor"
   ]
  },
  {
   "cell_type": "markdown",
   "metadata": {},
   "source": [
    "## Part 1"
   ]
  },
  {
   "cell_type": "markdown",
   "metadata": {},
   "source": [
    "This probably shouldn't work and idk what I was thinking when I wrote it, but it does"
   ]
  },
  {
   "cell_type": "code",
   "execution_count": 20,
   "metadata": {},
   "outputs": [
    {
     "data": {
      "text/html": [
       "<pre style=\"white-space:pre;overflow-x:auto;line-height:normal;font-family:Menlo,'DejaVu Sans Mono',consolas,'Courier New',monospace\"><span style=\"color: #008080; text-decoration-color: #008080; font-weight: bold\">29584525501199</span>\n",
       "</pre>\n"
      ],
      "text/plain": [
       "\u001b[1;36m29584525501199\u001b[0m\n"
      ]
     },
     "metadata": {},
     "output_type": "display_data"
    }
   ],
   "source": [
    "size = int(M.sqrt(len(tiles)))\n",
    "m = []\n",
    "counts = C.Counter()\n",
    "\n",
    "for tile in borders:\n",
    "    for side in borders[tile]:\n",
    "        for other in [other for other in borders if other != tile]:\n",
    "            for otherside in borders[other]:\n",
    "                if otherside == side:\n",
    "                    counts[tile] += 1\n",
    "\n",
    "t = 1\n",
    "for c in counts:\n",
    "    if counts[c] == 4:\n",
    "        t *= c\n",
    "print(t)"
   ]
  },
  {
   "cell_type": "markdown",
   "metadata": {},
   "source": [
    "## Better Part 2"
   ]
  },
  {
   "cell_type": "code",
   "execution_count": 21,
   "metadata": {},
   "outputs": [],
   "source": [
    "def get_edges(tile):\n",
    "    cols = as_cols(tile)\n",
    "    return [tile[0], tile[-1][::-1], \"\".join(cols[0])[::-1], \"\".join(cols[-1])]  # Top bottom left right\n",
    "\n",
    "def get_rotations(tile):\n",
    "    rots = [tile, rotated(tile)]\n",
    "    rots += [rot[::-1] for rot in rots]\n",
    "    rots += [[x[::-1] for x in rot] for rot in rots]\n",
    "    return rots\n",
    "\n",
    "def rotated(tile):\n",
    "    return [\"\".join(e)[::-1] for e in as_cols(tile)]\n",
    "\n",
    "def simplify_edge(edge):\n",
    "    return min(edge, edge[::-1])"
   ]
  },
  {
   "cell_type": "code",
   "execution_count": 22,
   "metadata": {},
   "outputs": [],
   "source": [
    "edge_use_count = C.Counter()\n",
    "edge_to_tiles = {}\n",
    "rotations = {}\n",
    "for number, tile in tiles.items():\n",
    "    rotations[number] = get_rotations(tile)\n",
    "    for edge in get_edges(tile):\n",
    "        edge = simplify_edge(edge)\n",
    "        edge_use_count[edge] += 1\n",
    "        if edge in edge_to_tiles:\n",
    "            edge_to_tiles[edge].add(number)\n",
    "        else:\n",
    "            edge_to_tiles[edge] = {number}\n",
    "    "
   ]
  },
  {
   "cell_type": "code",
   "execution_count": 23,
   "metadata": {},
   "outputs": [],
   "source": [
    "corners = []\n",
    "for c in counts:\n",
    "    if counts[c] == 4:\n",
    "        corners += [c]"
   ]
  },
  {
   "cell_type": "markdown",
   "metadata": {},
   "source": [
    "Top row"
   ]
  },
  {
   "cell_type": "code",
   "execution_count": 24,
   "metadata": {},
   "outputs": [],
   "source": [
    "used = {corners[0]}\n",
    "arrangement_tiles = [[tiles[corners[0]]]]\n",
    "arrangement_numbers = [[corners[0]]]\n",
    "\n",
    "for x in range(1, size):\n",
    "    last_tile = arrangement_tiles[0][x-1]\n",
    "    last_number = arrangement_numbers[0][x-1]\n",
    "    right_edge = get_edges(last_tile)[3]\n",
    "    next_number = [n for n in edge_to_tiles[simplify_edge(right_edge)] if n not in used][0]\n",
    "    \n",
    "    for rot in rotations[next_number]:\n",
    "        left_edge = get_edges(rot)[2][::-1]\n",
    "        if left_edge == right_edge:\n",
    "            arrangement_tiles[0] += [rot]\n",
    "            arrangement_numbers[0] += [next_number]\n",
    "            used.add(next_number)\n",
    "            break"
   ]
  },
  {
   "cell_type": "markdown",
   "metadata": {},
   "source": [
    "Rest of the rows"
   ]
  },
  {
   "cell_type": "code",
   "execution_count": 25,
   "metadata": {},
   "outputs": [],
   "source": [
    "for y in range(1, size):\n",
    "    row_tiles = []\n",
    "    row_numbers = []\n",
    "    for x in range(size):\n",
    "        above_tile = arrangement_tiles[y-1][x]\n",
    "        above_number = arrangement_numbers[y-1][x]\n",
    "        bottom_edge = get_edges(above_tile)[1]\n",
    "        next_number = [n for n in edge_to_tiles[simplify_edge(bottom_edge)] if n not in used][0]\n",
    "        \n",
    "        for rot in rotations[next_number]:\n",
    "            top_edge = get_edges(rot)[0][::-1]\n",
    "            if bottom_edge == top_edge:\n",
    "                row_tiles += [rot]\n",
    "                row_numbers += [next_number]\n",
    "                used.add(next_number)\n",
    "                break\n",
    "    arrangement_tiles += [row_tiles]\n",
    "    arrangement_numbers += [row_numbers]"
   ]
  },
  {
   "cell_type": "markdown",
   "metadata": {},
   "source": [
    "Find the sea monsters"
   ]
  },
  {
   "cell_type": "code",
   "execution_count": 26,
   "metadata": {},
   "outputs": [
    {
     "data": {
      "text/html": [
       "<pre style=\"white-space:pre;overflow-x:auto;line-height:normal;font-family:Menlo,'DejaVu Sans Mono',consolas,'Courier New',monospace\"><span style=\"color: #008080; text-decoration-color: #008080; font-weight: bold\">1665</span>\n",
       "</pre>\n"
      ],
      "text/plain": [
       "\u001b[1;36m1665\u001b[0m\n"
      ]
     },
     "metadata": {},
     "output_type": "display_data"
    }
   ],
   "source": [
    "arrangement_string_lines = []\n",
    "for tile_row in arrangement_tiles:\n",
    "    arrangement_string_lines += [\"\".join(tile[y][1:-1] for tile in tile_row) for y in range(1, len(tile_row[0]) - 1)]\n",
    "\n",
    "arrangement_rotations = get_rotations(arrangement_string_lines)\n",
    "monster = \"\"\"\\\n",
    "                  #\n",
    "#    ##    ##    ###\n",
    " #  #  #  #  #  #\"\"\".split('\\n')\n",
    "\n",
    "def find_monsters(arrangement_string_lines):\n",
    "    c = 0\n",
    "    for y, row in enumerate(arrangement_string_lines):\n",
    "        for x, cell in enumerate(row):\n",
    "            found = True\n",
    "            for my, mrow in enumerate(monster):\n",
    "                for mx, mcell in enumerate(mrow):\n",
    "                    if mcell != \"#\":\n",
    "                        continue\n",
    "                    ny, nx = y + my, x + mx\n",
    "                    if not(ny < len(arrangement_string_lines) and nx < len(row)) or arrangement_string_lines[y + my][x + mx] != \"#\":\n",
    "                        found = False\n",
    "                        break\n",
    "                else:\n",
    "                    continue\n",
    "                break\n",
    "            if found:\n",
    "                c += 1\n",
    "    return c\n",
    "\n",
    "for rot in arrangement_rotations:\n",
    "    if find_monsters(rot):\n",
    "        print(\"\".join(rot).count(\"#\") - \"\".join(monster).count(\"#\") * find_monsters(rot))\n",
    "        break"
   ]
  },
  {
   "cell_type": "markdown",
   "metadata": {},
   "source": [
    "## Old Part 2 Shennanigans\n",
    "_This all deserves to be deleted, but I'll let it live for now_"
   ]
  },
  {
   "cell_type": "code",
   "execution_count": 27,
   "metadata": {},
   "outputs": [],
   "source": [
    "corners = []\n",
    "for c in counts:\n",
    "    if counts[c] == 4:\n",
    "        corners += [c]\n",
    "\n",
    "links = {}\n",
    "for tile in borders:\n",
    "    for side in borders[tile]:\n",
    "        for other in [other for other in borders if other != tile]:\n",
    "            for otherside in borders[other]:\n",
    "                if otherside == side:\n",
    "                    if tile in links:\n",
    "                        links[tile][side] = other\n",
    "                    else:\n",
    "                        links[tile] = {side: other}\n",
    "# print(links)"
   ]
  },
  {
   "cell_type": "code",
   "execution_count": 28,
   "metadata": {},
   "outputs": [],
   "source": [
    "def get_adjacents(links: dict, side: int):\n",
    "    a = set()\n",
    "    for other in links[side]:\n",
    "        a.add(links[side][other])\n",
    "    return a\n",
    "    "
   ]
  },
  {
   "cell_type": "code",
   "execution_count": 29,
   "metadata": {},
   "outputs": [],
   "source": [
    "arrangement = [[None,] * size for x in range(size)]\n",
    "used = set()\n",
    "\n",
    "dirs = [(1, 0), (0, 1), (-1, 0), (0, -1)]\n",
    "\n",
    "def valid(x, y):\n",
    "    return 0 <= x < size and 0 <= y < size and arrangement[y][x] != None\n",
    "\n",
    "arrangement[0][0] = corners[0]\n",
    "for y in range(size):\n",
    "    for x in range(size):\n",
    "        if x == y == 0:\n",
    "            continue\n",
    "        adjacent = set()\n",
    "        for di in dirs:\n",
    "            nx, ny = x + di[0], y + di[1]\n",
    "            if valid(nx, ny):\n",
    "                adjacent.add(arrangement[ny][nx])\n",
    "        \n",
    "        for possible in [possible for possible in links if possible not in used]:\n",
    "            if all(k in get_adjacents(links, possible) for k in adjacent):\n",
    "                pass"
   ]
  },
  {
   "cell_type": "markdown",
   "metadata": {},
   "source": [
    "Literally started generating images and a graph layout to use with yEd... gave up and went back to coding it. Might make a visualization later"
   ]
  },
  {
   "cell_type": "code",
   "execution_count": 30,
   "metadata": {},
   "outputs": [],
   "source": [
    "do_stupid_things = False"
   ]
  },
  {
   "cell_type": "code",
   "execution_count": 31,
   "metadata": {},
   "outputs": [],
   "source": [
    "if do_stupid_things:\n",
    "    import pyyed\n",
    "\n",
    "    yed = pyyed.Graph()\n",
    "\n",
    "    nodes = set()\n",
    "    for number in tiles:\n",
    "        number = str(number)\n",
    "        if number not in nodes:\n",
    "            nodes.add(number)\n",
    "            yed.add_node(number)\n",
    "        for adjacent in get_adjacents(links, int(number)):\n",
    "            adjacent = str(adjacent)\n",
    "            if adjacent not in nodes:\n",
    "                nodes.add(adjacent)\n",
    "                yed.add_node(adjacent)\n",
    "            yed.add_edge(number, adjacent)\n",
    "            \n",
    "    yed.write_graph(\"full.graphml\", pretty_print=True)\n"
   ]
  },
  {
   "cell_type": "code",
   "execution_count": 32,
   "metadata": {},
   "outputs": [],
   "source": [
    "if do_stupid_things:\n",
    "    from PIL import Image\n",
    "\n",
    "    for number in tiles:\n",
    "        fname = f\"20_tiles/{number}.png\"\n",
    "        out = Image.new(\"RGB\", (10, 10))\n",
    "        r = []\n",
    "        for y, row in enumerate(tiles[number]):\n",
    "            # print(len(row))\n",
    "            for x, c in enumerate(row):\n",
    "                if c == \"#\":\n",
    "                    r.append((0, 0, 0))\n",
    "                else:\n",
    "                    r.append((255, 255, 255))\n",
    "        # print(len(r))\n",
    "        out.putdata(r)\n",
    "        out.save(fname)"
   ]
  }
 ],
 "metadata": {
  "kernelspec": {
   "display_name": "Python 3.10.4 ('venv': venv)",
   "language": "python",
   "name": "python3"
  },
  "language_info": {
   "codemirror_mode": {
    "name": "ipython",
    "version": 3
   },
   "file_extension": ".py",
   "mimetype": "text/x-python",
   "name": "python",
   "nbconvert_exporter": "python",
   "pygments_lexer": "ipython3",
   "version": "3.10.4"
  },
  "orig_nbformat": 2,
  "vscode": {
   "interpreter": {
    "hash": "1deb42c3241d521f6003b1a68e85a16645dc710c5467eba0d538286ef971f2c2"
   }
  }
 },
 "nbformat": 4,
 "nbformat_minor": 2
}
