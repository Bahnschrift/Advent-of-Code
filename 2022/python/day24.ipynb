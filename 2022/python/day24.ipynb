{
 "cells": [
  {
   "cell_type": "markdown",
   "metadata": {},
   "source": [
    "# Advent of Code 2022\n",
    "## Day 24\n",
    "*<https://adventofcode.com/2022/day/24>*"
   ]
  },
  {
   "cell_type": "code",
   "execution_count": 1,
   "metadata": {},
   "outputs": [],
   "source": [
    "import heapq\n",
    "import math\n",
    "import re\n",
    "from collections import Counter, defaultdict, deque, namedtuple\n",
    "from itertools import combinations, permutations, product\n",
    "from string import ascii_letters, ascii_lowercase, ascii_uppercase\n",
    "\n",
    "import IPython\n",
    "import z3\n",
    "from rich import inspect, pretty, print\n",
    "\n",
    "from new_helper import *\n",
    "\n",
    "pretty.install()"
   ]
  },
  {
   "cell_type": "code",
   "execution_count": 2,
   "metadata": {},
   "outputs": [],
   "source": [
    "DAY = 24\n",
    "inp = get_aoc_input(DAY, 2022).parse_grid()\n",
    "part_1 = part_2 = 0"
   ]
  },
  {
   "cell_type": "code",
   "execution_count": 3,
   "metadata": {},
   "outputs": [],
   "source": [
    "INNER_WIDTH = inp.width - 2\n",
    "INNER_HEIGHT = inp.height - 2\n",
    "\n",
    "blizzards: set[tuple[int, int, int, int]] = set()\n",
    "\n",
    "for pos, item in inp.items():\n",
    "    if item == \">\":\n",
    "        blizzards.add((*pos, 1, 0))\n",
    "    elif item == \"<\":\n",
    "        blizzards.add((*pos, -1, 0))\n",
    "    elif item == \"^\":\n",
    "        blizzards.add((*pos, 0, -1))\n",
    "    elif item == \"v\":\n",
    "        blizzards.add((*pos, 0, 1))"
   ]
  },
  {
   "cell_type": "code",
   "execution_count": 4,
   "metadata": {},
   "outputs": [],
   "source": [
    "ALL_BLIZZARDS = [blizzards]\n",
    "\n",
    "\n",
    "def step(blizzards: set[tuple[int, int, int, int]]):\n",
    "    new_blizzards = set()\n",
    "    for x, y, dx, dy in blizzards:\n",
    "        nx, ny = x + dx, y + dy\n",
    "        if nx == 0:\n",
    "            nx = INNER_WIDTH\n",
    "        elif nx == INNER_WIDTH + 1:\n",
    "            nx = 1\n",
    "        elif ny == 0:\n",
    "            ny = INNER_HEIGHT\n",
    "        elif ny == INNER_HEIGHT + 1:\n",
    "            ny = 1\n",
    "        new_blizzards.add((nx, ny, dx, dy))\n",
    "    return new_blizzards\n",
    "\n",
    "\n",
    "def get_turn(n: int):\n",
    "    while len(ALL_BLIZZARDS) <= n:\n",
    "        ALL_BLIZZARDS.append(step(ALL_BLIZZARDS[-1]))\n",
    "    return ALL_BLIZZARDS[n]"
   ]
  },
  {
   "cell_type": "code",
   "execution_count": 5,
   "metadata": {},
   "outputs": [],
   "source": [
    "# This function takes ~50 seconds to run. Maybe A* would be faster?\n",
    "def turns(sx, sy, ex, ey, n):\n",
    "    Q: deque[tuple[int, int, int]] = deque()\n",
    "    Q.append((sx, sy, n))\n",
    "    seen = set()\n",
    "\n",
    "    while Q:\n",
    "        x, y, n = Q.popleft()\n",
    "        if x == ex and y == ey:\n",
    "            return n\n",
    "\n",
    "        if (x, y, n) in seen:\n",
    "            continue\n",
    "        seen.add((x, y, n))\n",
    "\n",
    "        next_state = [(bx, by) for bx, by, _, _ in get_turn(n + 1)]\n",
    "        for dx, dy in ADJACENT_5:\n",
    "            nx, ny = x + dx, y + dy\n",
    "            if (nx, ny) not in next_state and inp.in_bounds(nx, ny) and inp[nx, ny] != \"#\":\n",
    "                Q.append((nx, ny, n + 1))"
   ]
  },
  {
   "cell_type": "code",
   "execution_count": 6,
   "metadata": {},
   "outputs": [],
   "source": [
    "part_1 = turns(1, 0, INNER_WIDTH, INNER_HEIGHT + 1, 0)"
   ]
  },
  {
   "cell_type": "code",
   "execution_count": 7,
   "metadata": {},
   "outputs": [],
   "source": [
    "part_2 = turns(INNER_WIDTH, INNER_HEIGHT + 1, 1, 0, part_1)\n",
    "part_2 = turns(1, 0, INNER_WIDTH, INNER_HEIGHT + 1, part_2)"
   ]
  },
  {
   "cell_type": "code",
   "execution_count": 8,
   "metadata": {},
   "outputs": [
    {
     "data": {
      "text/html": [
       "<pre style=\"white-space:pre;overflow-x:auto;line-height:normal;font-family:Menlo,'DejaVu Sans Mono',consolas,'Courier New',monospace\"><span style=\"color: #008000; text-decoration-color: #008000; font-weight: bold\">Part </span><span style=\"color: #008000; text-decoration-color: #008000; font-weight: bold\">1</span>: <span style=\"color: #008080; text-decoration-color: #008080; font-weight: bold\">228</span>\n",
       "</pre>\n"
      ],
      "text/plain": [
       "\u001b[1;32mPart \u001b[0m\u001b[1;32m1\u001b[0m: \u001b[1;36m228\u001b[0m\n"
      ]
     },
     "metadata": {},
     "output_type": "display_data"
    },
    {
     "data": {
      "text/html": [
       "<pre style=\"white-space:pre;overflow-x:auto;line-height:normal;font-family:Menlo,'DejaVu Sans Mono',consolas,'Courier New',monospace\"><span style=\"color: #008000; text-decoration-color: #008000; font-weight: bold\">Part </span><span style=\"color: #008000; text-decoration-color: #008000; font-weight: bold\">2</span>: <span style=\"color: #008080; text-decoration-color: #008080; font-weight: bold\">723</span>\n",
       "</pre>\n"
      ],
      "text/plain": [
       "\u001b[1;32mPart \u001b[0m\u001b[1;32m2\u001b[0m: \u001b[1;36m723\u001b[0m\n"
      ]
     },
     "metadata": {},
     "output_type": "display_data"
    }
   ],
   "source": [
    "print_part_1(part_1)\n",
    "print_part_2(part_2)"
   ]
  },
  {
   "cell_type": "code",
   "execution_count": 9,
   "metadata": {},
   "outputs": [],
   "source": [
    "# submit_part_1(part_1, DAY, 2022)\n",
    "# submit_part_2(part_2, DAY, 2022)"
   ]
  }
 ],
 "metadata": {
  "kernelspec": {
   "display_name": "venvpypy",
   "language": "python",
   "name": "python3"
  },
  "language_info": {
   "codemirror_mode": {
    "name": "ipython",
    "version": 3
   },
   "file_extension": ".py",
   "mimetype": "text/x-python",
   "name": "python",
   "nbconvert_exporter": "python",
   "pygments_lexer": "ipython3",
   "version": "3.9.10"
  },
  "orig_nbformat": 4,
  "vscode": {
   "interpreter": {
    "hash": "dcdb201d40c1f5bcc55e8c4c327316f64e51525fe96c1fc3b9b0e5c20beebe82"
   }
  }
 },
 "nbformat": 4,
 "nbformat_minor": 2
}
