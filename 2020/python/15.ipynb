{
 "cells": [
  {
   "cell_type": "markdown",
   "metadata": {},
   "source": [
    "# Advent of code 2020: Day 15"
   ]
  },
  {
   "cell_type": "markdown",
   "metadata": {},
   "source": [
    "## Import"
   ]
  },
  {
   "cell_type": "code",
   "execution_count": 1,
   "metadata": {},
   "outputs": [],
   "source": [
    "import math as M\n",
    "import collections as C\n",
    "import itertools as I\n",
    "from helper import *\n",
    "\n",
    "\n",
    "day = 15\n",
    "data = get_input(day, 2020).split(\",\")"
   ]
  },
  {
   "cell_type": "markdown",
   "metadata": {},
   "source": [
    "## Part 1"
   ]
  },
  {
   "cell_type": "code",
   "execution_count": 2,
   "metadata": {},
   "outputs": [
    {
     "data": {
      "text/html": [
       "<pre style=\"white-space:pre;overflow-x:auto;line-height:normal;font-family:Menlo,'DejaVu Sans Mono',consolas,'Courier New',monospace\"><span style=\"color: #008080; text-decoration-color: #008080; font-weight: bold\">412</span>\n",
       "</pre>\n"
      ],
      "text/plain": [
       "\u001b[1;36m412\u001b[0m\n"
      ]
     },
     "metadata": {},
     "output_type": "display_data"
    }
   ],
   "source": [
    "data = [*map(int, data)]\n",
    "spoken = {n:[x] for x,n in enumerate(data)}\n",
    "i = 0\n",
    "n = data[-1]\n",
    "for x in range(len(data), 2020):\n",
    "    if n not in spoken or len(spoken[n]) == 1:\n",
    "        n = 0\n",
    "    else:\n",
    "        n = spoken[n][-1] - spoken[n][-2]\n",
    "    \n",
    "    if n in spoken:\n",
    "        spoken[n] += [x]\n",
    "    else:\n",
    "        spoken[n] = [x]\n",
    "print(n)\n"
   ]
  },
  {
   "cell_type": "markdown",
   "metadata": {},
   "source": [
    "## Part 2"
   ]
  },
  {
   "cell_type": "code",
   "execution_count": 3,
   "metadata": {},
   "outputs": [
    {
     "data": {
      "text/html": [
       "<pre style=\"white-space:pre;overflow-x:auto;line-height:normal;font-family:Menlo,'DejaVu Sans Mono',consolas,'Courier New',monospace\"><span style=\"color: #008080; text-decoration-color: #008080; font-weight: bold\">243</span>\n",
       "</pre>\n"
      ],
      "text/plain": [
       "\u001b[1;36m243\u001b[0m\n"
      ]
     },
     "metadata": {},
     "output_type": "display_data"
    }
   ],
   "source": [
    "data = [*map(int, data)]\n",
    "spoken = {n:[x] for x,n in enumerate(data)}\n",
    "n = data[-1]\n",
    "for x in range(len(data), 30000000):\n",
    "    if n not in spoken or len(spoken[n]) == 1:\n",
    "        n = 0\n",
    "    else:\n",
    "        n = spoken[n][-1] - spoken[n][-2]\n",
    "    if n in spoken:\n",
    "        spoken[n] += [x]\n",
    "    else:\n",
    "        spoken[n] = [x]\n",
    "print(str(n))"
   ]
  }
 ],
 "metadata": {
  "kernelspec": {
   "display_name": "Python 3.10.4 ('venv': venv)",
   "language": "python",
   "name": "python3"
  },
  "language_info": {
   "codemirror_mode": {
    "name": "ipython",
    "version": 3
   },
   "file_extension": ".py",
   "mimetype": "text/x-python",
   "name": "python",
   "nbconvert_exporter": "python",
   "pygments_lexer": "ipython3",
   "version": "3.10.4"
  },
  "orig_nbformat": 2,
  "vscode": {
   "interpreter": {
    "hash": "1deb42c3241d521f6003b1a68e85a16645dc710c5467eba0d538286ef971f2c2"
   }
  }
 },
 "nbformat": 4,
 "nbformat_minor": 2
}
