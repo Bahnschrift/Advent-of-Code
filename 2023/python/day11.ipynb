{
 "cells": [
  {
   "cell_type": "markdown",
   "metadata": {},
   "source": [
    "# Advent of Code 2023\n",
    "## Day 11\n",
    "*<https://adventofcode.com/2023/day/11>*"
   ]
  },
  {
   "cell_type": "code",
   "execution_count": 1,
   "metadata": {},
   "outputs": [],
   "source": [
    "import heapq\n",
    "import math\n",
    "import re\n",
    "import functools as ft\n",
    "from collections import Counter, defaultdict, deque, namedtuple\n",
    "from itertools import combinations, permutations, product\n",
    "from string import ascii_letters, ascii_lowercase, ascii_uppercase\n",
    "\n",
    "import IPython\n",
    "import z3\n",
    "from rich import inspect, pretty, print\n",
    "\n",
    "from new_helper import *\n",
    "\n",
    "pretty.install()"
   ]
  },
  {
   "cell_type": "code",
   "execution_count": 2,
   "metadata": {},
   "outputs": [],
   "source": [
    "DAY = 11\n",
    "input_str = get_aoc_input(DAY, 2023)\n",
    "part_1 = part_2 = 0"
   ]
  },
  {
   "cell_type": "code",
   "execution_count": 3,
   "metadata": {},
   "outputs": [],
   "source": [
    "inp = input_str.parse_grid()"
   ]
  },
  {
   "cell_type": "code",
   "execution_count": 4,
   "metadata": {},
   "outputs": [],
   "source": [
    "exp = inp.copy()\n",
    "\n",
    "for y in range(inp.height - 1, -1, -1):\n",
    "    r = inp.row(y)\n",
    "    if \"#\" not in r:\n",
    "        exp.insert_row(y, inp.row(y))\n",
    "\n",
    "for x in range(inp.width - 1, -1, -1):\n",
    "    c = inp.col(x)\n",
    "    if \"#\" not in c:\n",
    "        exp.insert_col(x, [\".\"] * exp.height)\n",
    "\n",
    "galaxies = set()\n",
    "for (x, y), v in exp.items():\n",
    "    if v == \"#\":\n",
    "        galaxies.add((x, y))\n",
    "\n",
    "for ((x1, y1), (x2, y2)) in combinations(galaxies, 2):\n",
    "    part_1 += manhattan_distance((x1, y1), (x2, y2))"
   ]
  },
  {
   "cell_type": "code",
   "execution_count": 5,
   "metadata": {},
   "outputs": [],
   "source": [
    "y_mods = {y: 0 for y in range(exp.height)}\n",
    "x_mods = {x: 0 for x in range(exp.width)}\n",
    "\n",
    "for y in range(inp.height):\n",
    "    r = inp.row(y)\n",
    "    if \"#\" not in r:\n",
    "        for y2 in range(y + 1, inp.height):\n",
    "            y_mods[y2] += 1000000 - 1\n",
    "\n",
    "for x in range(inp.width):\n",
    "    c = inp.col(x)\n",
    "    if \"#\" not in c:\n",
    "        for x2 in range(x + 1, inp.width):\n",
    "            x_mods[x2] += 1000000 - 1\n",
    "\n",
    "galaxies = set()\n",
    "for (x, y), v in inp.items():\n",
    "    if v == \"#\":\n",
    "        galaxies.add((x + x_mods[x], y + y_mods[y]))\n",
    "\n",
    "for (x1, y1), (x2, y2) in combinations(galaxies, 2):\n",
    "    part_2 += manhattan_distance((x1, y1), (x2, y2))"
   ]
  },
  {
   "cell_type": "code",
   "execution_count": 6,
   "metadata": {},
   "outputs": [
    {
     "data": {
      "text/html": [
       "<pre style=\"white-space:pre;overflow-x:auto;line-height:normal;font-family:Menlo,'DejaVu Sans Mono',consolas,'Courier New',monospace\"><span style=\"color: #008000; text-decoration-color: #008000; font-weight: bold\">Part </span><span style=\"color: #008000; text-decoration-color: #008000; font-weight: bold\">1</span>: <span style=\"color: #008080; text-decoration-color: #008080; font-weight: bold\">9648398</span>\n",
       "</pre>\n"
      ],
      "text/plain": [
       "\u001b[1;32mPart \u001b[0m\u001b[1;32m1\u001b[0m: \u001b[1;36m9648398\u001b[0m\n"
      ]
     },
     "metadata": {},
     "output_type": "display_data"
    },
    {
     "data": {
      "text/html": [
       "<pre style=\"white-space:pre;overflow-x:auto;line-height:normal;font-family:Menlo,'DejaVu Sans Mono',consolas,'Courier New',monospace\"><span style=\"color: #008000; text-decoration-color: #008000; font-weight: bold\">Part </span><span style=\"color: #008000; text-decoration-color: #008000; font-weight: bold\">2</span>: <span style=\"color: #008080; text-decoration-color: #008080; font-weight: bold\">618800410814</span>\n",
       "</pre>\n"
      ],
      "text/plain": [
       "\u001b[1;32mPart \u001b[0m\u001b[1;32m2\u001b[0m: \u001b[1;36m618800410814\u001b[0m\n"
      ]
     },
     "metadata": {},
     "output_type": "display_data"
    }
   ],
   "source": [
    "print_part_1(part_1)\n",
    "print_part_2(part_2)"
   ]
  }
 ],
 "metadata": {
  "kernelspec": {
   "display_name": "venv",
   "language": "python",
   "name": "python3"
  },
  "language_info": {
   "codemirror_mode": {
    "name": "ipython",
    "version": 3
   },
   "file_extension": ".py",
   "mimetype": "text/x-python",
   "name": "python",
   "nbconvert_exporter": "python",
   "pygments_lexer": "ipython3",
   "version": "3.12.1"
  },
  "orig_nbformat": 4,
  "vscode": {
   "interpreter": {
    "hash": "1deb42c3241d521f6003b1a68e85a16645dc710c5467eba0d538286ef971f2c2"
   }
  }
 },
 "nbformat": 4,
 "nbformat_minor": 2
}
