{
 "cells": [
  {
   "cell_type": "markdown",
   "metadata": {},
   "source": [
    "# Advent of Code 2023\n",
    "## Day 22\n",
    "*<https://adventofcode.com/2023/day/22>*"
   ]
  },
  {
   "cell_type": "code",
   "execution_count": 1,
   "metadata": {},
   "outputs": [],
   "source": [
    "import heapq\n",
    "import math\n",
    "import re\n",
    "import functools as ft\n",
    "from collections import Counter, defaultdict, deque, namedtuple\n",
    "from itertools import combinations, permutations, product\n",
    "from string import ascii_letters, ascii_lowercase, ascii_uppercase\n",
    "\n",
    "import IPython\n",
    "import z3\n",
    "from rich import inspect, pretty, print\n",
    "\n",
    "from new_helper import *\n",
    "\n",
    "pretty.install()"
   ]
  },
  {
   "cell_type": "code",
   "execution_count": 2,
   "metadata": {},
   "outputs": [],
   "source": [
    "DAY = 22\n",
    "input_str = get_aoc_input(DAY, 2023)\n",
    "part_1 = part_2 = 0"
   ]
  },
  {
   "cell_type": "code",
   "execution_count": 3,
   "metadata": {},
   "outputs": [],
   "source": [
    "inp = input_str.parse_lines()"
   ]
  },
  {
   "cell_type": "code",
   "execution_count": 4,
   "metadata": {},
   "outputs": [],
   "source": [
    "from typing import NamedTuple\n",
    "\n",
    "\n",
    "class Brick(NamedTuple):\n",
    "    x: range\n",
    "    y: range\n",
    "    z: range\n",
    "\n",
    "\n",
    "bricks: list[Brick] = []\n",
    "\n",
    "for line in inp:\n",
    "    x1, y1, z1, x2, y2, z2 = ints(line)\n",
    "    bricks.append(Brick(range(x1, x2 + 1), range(y1, y2 + 1), range(z1, z2 + 1)))"
   ]
  },
  {
   "cell_type": "markdown",
   "metadata": {},
   "source": [
    "The key observation is that if we sort the bricks by the lowest points, then after dropping the bricks we have the guarantee that if `i < j`, then `bricks[j]` is not (even by extension) a support of `bricks[i]`, since at some point `bricks[j]` was positioned above (or on the same level as) `bricks[i]`."
   ]
  },
  {
   "cell_type": "code",
   "execution_count": 5,
   "metadata": {},
   "outputs": [],
   "source": [
    "bricks.sort(key=lambda b: b.z.start)"
   ]
  },
  {
   "cell_type": "code",
   "execution_count": 6,
   "metadata": {},
   "outputs": [],
   "source": [
    "def shift_down(b, n: int):\n",
    "    return Brick(b.x, b.y, range(b.z.start - n, b.z.stop - n))"
   ]
  },
  {
   "cell_type": "code",
   "execution_count": 7,
   "metadata": {},
   "outputs": [],
   "source": [
    "def overlaps(b1: Brick, b2: Brick) -> bool:\n",
    "    return (\n",
    "        max(b1.x.start, b2.x.start) < min(b1.x.stop, b2.x.stop)\n",
    "        and max(b1.y.start, b2.y.start) < min(b1.y.stop, b2.y.stop)\n",
    "        and max(b1.z.start, b2.z.start) < min(b1.z.stop, b2.z.stop)\n",
    "    )"
   ]
  },
  {
   "cell_type": "code",
   "execution_count": 8,
   "metadata": {},
   "outputs": [],
   "source": [
    "def get_shift(bricks: list[Brick], i: int, supports_of: dict[int, set[int]]) -> int:\n",
    "    b = bricks[i]\n",
    "    max_disallowed = 1\n",
    "\n",
    "    for j, b2 in enumerate(bricks[:i]):\n",
    "        if b2.z.stop > b.z.start:\n",
    "            continue\n",
    "\n",
    "        if b2.z.stop < max_disallowed:\n",
    "            continue\n",
    "\n",
    "        shift_by = b.z.start - b2.z.stop + 1\n",
    "        assert shift_by > 0\n",
    "\n",
    "        if overlaps(b2, shift_down(b, shift_by)):\n",
    "            if b2.z.stop == max_disallowed:\n",
    "                supports_of[i].add(j)\n",
    "            else:\n",
    "                supports_of[i] = {j}\n",
    "                max_disallowed = b2.z.stop\n",
    "\n",
    "    return b.z.start - max_disallowed"
   ]
  },
  {
   "cell_type": "code",
   "execution_count": 9,
   "metadata": {},
   "outputs": [],
   "source": [
    "supports_of: dict[int, set[int]] = defaultdict(set[int])\n",
    "for i, b in enumerate(bricks):\n",
    "    bricks[i] = shift_down(b, get_shift(bricks, i, supports_of))\n",
    "\n",
    "is_supporting: dict[int, set[int]] = defaultdict(set[int])\n",
    "for k, v in supports_of.items():\n",
    "    for i in v:\n",
    "        is_supporting[i].add(k)"
   ]
  },
  {
   "cell_type": "code",
   "execution_count": 10,
   "metadata": {},
   "outputs": [],
   "source": [
    "for i in range(len(bricks)):\n",
    "    for j in is_supporting[i]:\n",
    "        if supports_of[j] == {i}:\n",
    "            break\n",
    "    else:\n",
    "        part_1 += 1"
   ]
  },
  {
   "cell_type": "code",
   "execution_count": 11,
   "metadata": {},
   "outputs": [],
   "source": [
    "for i in range(len(bricks)):\n",
    "    dropped = set()\n",
    "    Q = deque([i])\n",
    "\n",
    "    while Q:\n",
    "        j = Q.popleft()\n",
    "        if j in dropped:\n",
    "            continue\n",
    "\n",
    "        dropped.add(j)\n",
    "\n",
    "        for k in is_supporting[j]:\n",
    "            if len(supports_of[k] - dropped) == 0:\n",
    "                Q.append(k)\n",
    "\n",
    "    part_2 += len(dropped) - 1"
   ]
  },
  {
   "cell_type": "code",
   "execution_count": 12,
   "metadata": {},
   "outputs": [
    {
     "data": {
      "text/html": [
       "<pre style=\"white-space:pre;overflow-x:auto;line-height:normal;font-family:Menlo,'DejaVu Sans Mono',consolas,'Courier New',monospace\"><span style=\"color: #008000; text-decoration-color: #008000; font-weight: bold\">Part </span><span style=\"color: #008000; text-decoration-color: #008000; font-weight: bold\">1</span>: <span style=\"color: #008080; text-decoration-color: #008080; font-weight: bold\">454</span>\n",
       "</pre>\n"
      ],
      "text/plain": [
       "\u001b[1;32mPart \u001b[0m\u001b[1;32m1\u001b[0m: \u001b[1;36m454\u001b[0m\n"
      ]
     },
     "metadata": {},
     "output_type": "display_data"
    },
    {
     "data": {
      "text/html": [
       "<pre style=\"white-space:pre;overflow-x:auto;line-height:normal;font-family:Menlo,'DejaVu Sans Mono',consolas,'Courier New',monospace\"><span style=\"color: #008000; text-decoration-color: #008000; font-weight: bold\">Part </span><span style=\"color: #008000; text-decoration-color: #008000; font-weight: bold\">2</span>: <span style=\"color: #008080; text-decoration-color: #008080; font-weight: bold\">74287</span>\n",
       "</pre>\n"
      ],
      "text/plain": [
       "\u001b[1;32mPart \u001b[0m\u001b[1;32m2\u001b[0m: \u001b[1;36m74287\u001b[0m\n"
      ]
     },
     "metadata": {},
     "output_type": "display_data"
    }
   ],
   "source": [
    "print_part_1(part_1)\n",
    "print_part_2(part_2)"
   ]
  }
 ],
 "metadata": {
  "kernelspec": {
   "display_name": "venv",
   "language": "python",
   "name": "python3"
  },
  "language_info": {
   "codemirror_mode": {
    "name": "ipython",
    "version": 3
   },
   "file_extension": ".py",
   "mimetype": "text/x-python",
   "name": "python",
   "nbconvert_exporter": "python",
   "pygments_lexer": "ipython3",
   "version": "3.10.13"
  },
  "orig_nbformat": 4,
  "vscode": {
   "interpreter": {
    "hash": "1deb42c3241d521f6003b1a68e85a16645dc710c5467eba0d538286ef971f2c2"
   }
  }
 },
 "nbformat": 4,
 "nbformat_minor": 2
}
