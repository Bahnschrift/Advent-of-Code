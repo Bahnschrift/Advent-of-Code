{
 "cells": [
  {
   "cell_type": "markdown",
   "metadata": {},
   "source": [
    "# Advent of code 2020: Day 25"
   ]
  },
  {
   "cell_type": "markdown",
   "metadata": {},
   "source": [
    "## Import"
   ]
  },
  {
   "cell_type": "code",
   "execution_count": 1,
   "metadata": {},
   "outputs": [],
   "source": [
    "import math as M\n",
    "import collections as C\n",
    "from helper import *\n",
    "import itertools as I\n",
    "\n",
    "\n",
    "day = 25\n",
    "data = get_input_lines(day, 2020)"
   ]
  },
  {
   "cell_type": "markdown",
   "metadata": {},
   "source": [
    "## Part 1"
   ]
  },
  {
   "cell_type": "code",
   "execution_count": 2,
   "metadata": {},
   "outputs": [],
   "source": [
    "\n",
    "def loop(subject, loop_size):\n",
    "    val = 1\n",
    "    for _ in range(loop_size):\n",
    "        val *= subject\n",
    "        val %= 20201227\n",
    "    return val"
   ]
  },
  {
   "cell_type": "code",
   "execution_count": 3,
   "metadata": {},
   "outputs": [
    {
     "data": {
      "text/html": [
       "<pre style=\"white-space:pre;overflow-x:auto;line-height:normal;font-family:Menlo,'DejaVu Sans Mono',consolas,'Courier New',monospace\"><span style=\"color: #008080; text-decoration-color: #008080; font-weight: bold\">3286137</span> <span style=\"color: #008080; text-decoration-color: #008080; font-weight: bold\">3286137</span>\n",
       "</pre>\n"
      ],
      "text/plain": [
       "\u001b[1;36m3286137\u001b[0m \u001b[1;36m3286137\u001b[0m\n"
      ]
     },
     "metadata": {},
     "output_type": "display_data"
    }
   ],
   "source": [
    "card_key, door_key = [*map(int, data)]\n",
    "\n",
    "val = 1\n",
    "card_size = 0\n",
    "while val != card_key:\n",
    "    val *= 7\n",
    "    val %= 20201227\n",
    "    card_size += 1\n",
    "\n",
    "val = 1\n",
    "door_size = 0\n",
    "while val != door_key:\n",
    "    val *= 7\n",
    "    val %= 20201227\n",
    "    door_size += 1\n",
    "\n",
    "\n",
    "print(loop(card_key, door_size), loop(door_key, card_size))"
   ]
  },
  {
   "cell_type": "markdown",
   "metadata": {},
   "source": [
    "## Part 2"
   ]
  },
  {
   "cell_type": "markdown",
   "metadata": {},
   "source": [
    "Thank you [Eric](https://github.com/topaz) for [Advent of Code 2020](https://adventofcode.com/2020)!"
   ]
  }
 ],
 "metadata": {
  "kernelspec": {
   "display_name": "Python 3.10.4 ('venv': venv)",
   "language": "python",
   "name": "python3"
  },
  "language_info": {
   "codemirror_mode": {
    "name": "ipython",
    "version": 3
   },
   "file_extension": ".py",
   "mimetype": "text/x-python",
   "name": "python",
   "nbconvert_exporter": "python",
   "pygments_lexer": "ipython3",
   "version": "3.10.4"
  },
  "orig_nbformat": 2,
  "vscode": {
   "interpreter": {
    "hash": "1deb42c3241d521f6003b1a68e85a16645dc710c5467eba0d538286ef971f2c2"
   }
  }
 },
 "nbformat": 4,
 "nbformat_minor": 2
}
