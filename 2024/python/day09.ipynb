{
 "cells": [
  {
   "cell_type": "markdown",
   "metadata": {},
   "source": [
    "# Advent of Code 2024\n",
    "## Day 9\n",
    "*<https://adventofcode.com/2024/day/9>*"
   ]
  },
  {
   "cell_type": "code",
   "execution_count": 1,
   "metadata": {},
   "outputs": [],
   "source": [
    "import heapq\n",
    "import math\n",
    "import re\n",
    "import functools as ft\n",
    "from collections import Counter, defaultdict, deque, namedtuple\n",
    "from itertools import combinations, permutations, product\n",
    "from string import ascii_letters, ascii_lowercase, ascii_uppercase\n",
    "\n",
    "# import z3\n",
    "from rich import inspect, pretty, print\n",
    "\n",
    "from new_helper import *\n",
    "\n",
    "pretty.install()\n",
    "\n",
    "try:\n",
    "    import ipykernel\n",
    "\n",
    "    with open(\"kernel\", \"w+\") as f:\n",
    "        f.write(ipykernel.get_connection_file())\n",
    "except:\n",
    "    pass"
   ]
  },
  {
   "cell_type": "code",
   "execution_count": 2,
   "metadata": {},
   "outputs": [],
   "source": [
    "DAY = 9\n",
    "YEAR = 2024\n",
    "input_str = get_aoc_input(DAY, 2024)\n",
    "part_1 = part_2 = 0"
   ]
  },
  {
   "cell_type": "code",
   "execution_count": 3,
   "metadata": {},
   "outputs": [],
   "source": [
    "inp = input_str.parse_digits()"
   ]
  },
  {
   "cell_type": "code",
   "execution_count": null,
   "metadata": {},
   "outputs": [],
   "source": [
    "s = []\n",
    "c = 0\n",
    "blank = False\n",
    "for a in inp:\n",
    "    if not blank:\n",
    "        s.extend([c] * a)\n",
    "        c += 1\n",
    "    else:\n",
    "        s.extend([None] * a)\n",
    "\n",
    "    blank = not blank"
   ]
  },
  {
   "cell_type": "code",
   "execution_count": null,
   "metadata": {},
   "outputs": [],
   "source": [
    "i = 0\n",
    "j = len(s) - 1\n",
    "while i < j:\n",
    "    while s[i] is not None and i < j:\n",
    "        i += 1\n",
    "\n",
    "    while s[j] is None and i < j:\n",
    "        j -= 1\n",
    "\n",
    "    if i >= j:\n",
    "        break\n",
    "\n",
    "    s[i], s[j] = s[j], s[i]"
   ]
  },
  {
   "cell_type": "code",
   "execution_count": 12,
   "metadata": {},
   "outputs": [],
   "source": [
    "for i, v in enumerate(s):\n",
    "    if v is None:\n",
    "        break\n",
    "    part_1 += i * v"
   ]
  },
  {
   "cell_type": "code",
   "execution_count": 7,
   "metadata": {},
   "outputs": [],
   "source": [
    "s = []\n",
    "c = 0\n",
    "blank = False\n",
    "for a in inp:\n",
    "    if not blank:\n",
    "        s.extend([c] * a)\n",
    "        c += 1\n",
    "    else:\n",
    "        s.extend([None] * a)\n",
    "\n",
    "    blank = not blank"
   ]
  },
  {
   "cell_type": "code",
   "execution_count": 8,
   "metadata": {},
   "outputs": [],
   "source": [
    "s_comp = []\n",
    "\n",
    "for a in s:\n",
    "    if len(s_comp) > 0 and s_comp[-1][0] == a:\n",
    "        s_comp[-1][1] += 1\n",
    "    else:\n",
    "        s_comp.append([a, 1])"
   ]
  },
  {
   "cell_type": "code",
   "execution_count": null,
   "metadata": {},
   "outputs": [],
   "source": [
    "for ii in range(c - 1, -1, -1):\n",
    "    for i, (a, x) in enumerate(s_comp):\n",
    "        if a == ii:\n",
    "            for j in range(i):\n",
    "                if s_comp[j][0] is None and s_comp[j][1] >= x:\n",
    "                    s_comp[i][0] = None\n",
    "\n",
    "                    s_comp[j][1] -= x\n",
    "                    if s_comp[j][1] == 0:\n",
    "                        del s_comp[j]\n",
    "                        i -= 1\n",
    "\n",
    "                    s_comp.insert(j, [a, x])\n",
    "                    i += 1\n",
    "\n",
    "                    if i < len(s_comp) - 1 and s_comp[i + 1][0] is None:\n",
    "                        s_comp[i][1] += s_comp[i + 1][1]\n",
    "                        del s_comp[i + 1]\n",
    "\n",
    "                    if i > 0 and s_comp[i - 1][0] is None:\n",
    "                        s_comp[i][1] += s_comp[i - 1][1]\n",
    "                        del s_comp[i - 1]\n",
    "\n",
    "                    break\n",
    "\n",
    "            break"
   ]
  },
  {
   "cell_type": "code",
   "execution_count": 10,
   "metadata": {},
   "outputs": [],
   "source": [
    "i = 0\n",
    "for a, x in s_comp:\n",
    "    for k in range(x):\n",
    "        if a is not None:\n",
    "            part_2 += a * i\n",
    "        i += 1"
   ]
  },
  {
   "cell_type": "code",
   "execution_count": 11,
   "metadata": {},
   "outputs": [
    {
     "data": {
      "text/html": [
       "<pre style=\"white-space:pre;overflow-x:auto;line-height:normal;font-family:Menlo,'DejaVu Sans Mono',consolas,'Courier New',monospace\"><span style=\"color: #008000; text-decoration-color: #008000; font-weight: bold\">Part </span><span style=\"color: #008000; text-decoration-color: #008000; font-weight: bold\">1</span>: <span style=\"color: #008080; text-decoration-color: #008080; font-weight: bold\">6385338159127</span>\n",
       "</pre>\n"
      ],
      "text/plain": [
       "\u001b[1;32mPart \u001b[0m\u001b[1;32m1\u001b[0m: \u001b[1;36m6385338159127\u001b[0m\n"
      ]
     },
     "metadata": {},
     "output_type": "display_data"
    },
    {
     "data": {
      "text/html": [
       "<pre style=\"white-space:pre;overflow-x:auto;line-height:normal;font-family:Menlo,'DejaVu Sans Mono',consolas,'Courier New',monospace\"><span style=\"color: #008000; text-decoration-color: #008000; font-weight: bold\">Part </span><span style=\"color: #008000; text-decoration-color: #008000; font-weight: bold\">2</span>: <span style=\"color: #008080; text-decoration-color: #008080; font-weight: bold\">6415163624282</span>\n",
       "</pre>\n"
      ],
      "text/plain": [
       "\u001b[1;32mPart \u001b[0m\u001b[1;32m2\u001b[0m: \u001b[1;36m6415163624282\u001b[0m\n"
      ]
     },
     "metadata": {},
     "output_type": "display_data"
    }
   ],
   "source": [
    "print_part_1(part_1)\n",
    "print_part_2(part_2)"
   ]
  }
 ],
 "metadata": {
  "kernelspec": {
   "display_name": ".venv-pypy",
   "language": "python",
   "name": "python3"
  },
  "language_info": {
   "codemirror_mode": {
    "name": "ipython",
    "version": 3
   },
   "file_extension": ".py",
   "mimetype": "text/x-python",
   "name": "python",
   "nbconvert_exporter": "python",
   "pygments_lexer": "ipython3",
   "version": "3.10.14"
  },
  "orig_nbformat": 4
 },
 "nbformat": 4,
 "nbformat_minor": 2
}
