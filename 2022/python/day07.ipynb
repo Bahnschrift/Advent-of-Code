{
 "cells": [
  {
   "cell_type": "markdown",
   "metadata": {},
   "source": [
    "# Advent of Code 2022\n",
    "## Day 7\n",
    "*<https://adventofcode.com/2022/day/7>*"
   ]
  },
  {
   "cell_type": "code",
   "execution_count": 1,
   "metadata": {},
   "outputs": [],
   "source": [
    "import IPython\n",
    "import math\n",
    "import re\n",
    "from helper import *\n",
    "from itertools import product, combinations, permutations\n",
    "from collections import Counter, defaultdict\n",
    "from string import ascii_lowercase, ascii_uppercase, ascii_letters\n",
    "from rich import inspect, print, pretty\n",
    "pretty.install()"
   ]
  },
  {
   "cell_type": "code",
   "execution_count": 2,
   "metadata": {},
   "outputs": [],
   "source": [
    "DAY = 7\n",
    "inp = get_input_lines(DAY)\n",
    "part_1 = part_2 = 0"
   ]
  },
  {
   "cell_type": "code",
   "execution_count": 3,
   "metadata": {},
   "outputs": [],
   "source": [
    "class File:\n",
    "    def __init__(self, name, size):\n",
    "        self.name = name\n",
    "        self.size = size\n",
    "\n",
    "    def get_size(self):\n",
    "        return self.size\n",
    "\n",
    "\n",
    "class Directory:\n",
    "    def __init__(self, name, parent):\n",
    "        self.name = name\n",
    "        self.parent = parent\n",
    "        self.files: list[File] = []\n",
    "        self.directories: list[Directory] = []\n",
    "\n",
    "    def get_size(self):\n",
    "        return sum(f.get_size() for f in self.files + self.directories)\n",
    "\n",
    "    def add_file(self, file: File):\n",
    "        self.files.append(file)\n",
    "\n",
    "    def add_directory(self, directory):\n",
    "        self.directories.append(directory)\n",
    "\n",
    "    def get_child_dir(self, name: str):\n",
    "        for d in self.directories:\n",
    "            if d.name == name:\n",
    "                return d\n",
    "        assert False\n",
    "\n",
    "    def get_all_subdirs(self):\n",
    "        yield self\n",
    "        for d in self.directories:\n",
    "            yield from d.get_all_subdirs()\n",
    "\n",
    "    def get_smallest_greater_than(self, size) -> int:\n",
    "        return min(\n",
    "            [self.get_size()] + [d.get_smallest_greater_than(size) for d in self.directories],\n",
    "            key=lambda n: n if n > size else math.inf,\n",
    "        )\n"
   ]
  },
  {
   "cell_type": "code",
   "execution_count": 4,
   "metadata": {},
   "outputs": [],
   "source": [
    "root = Directory(\"/\", None)\n",
    "cwd = root\n",
    "\n",
    "i = 0\n",
    "while i < len(inp):\n",
    "    assert cwd is not None\n",
    "    line = inp[i]\n",
    "    parts = line.split()\n",
    "    if line.startswith(\"$\"):\n",
    "        if parts[1] == \"cd\":\n",
    "            if parts[2] == \"/\":\n",
    "                cwd = root\n",
    "            elif parts[2] == \"..\":\n",
    "                cwd = cwd.parent\n",
    "            else:\n",
    "                cwd = cwd.get_child_dir(parts[2])\n",
    "            i += 1\n",
    "\n",
    "        elif parts[1] == \"ls\":\n",
    "            i += 1\n",
    "            while i < len(inp) and not inp[i].startswith(\"$\"):\n",
    "                line = inp[i]\n",
    "                parts = line.split()\n",
    "\n",
    "                if parts[0] == \"dir\":\n",
    "                    cwd.add_directory(Directory(parts[1], cwd))\n",
    "                else:\n",
    "                    cwd.add_file(File(parts[1], int(parts[0])))\n",
    "                i += 1"
   ]
  },
  {
   "cell_type": "code",
   "execution_count": 5,
   "metadata": {},
   "outputs": [],
   "source": [
    "part_1 = sum(s for d in root.get_all_subdirs() if (s := d.get_size()) <= 100000)"
   ]
  },
  {
   "cell_type": "code",
   "execution_count": 6,
   "metadata": {},
   "outputs": [],
   "source": [
    "def get_unused_space(dir):\n",
    "    return 70000000 - dir.get_size()\n",
    "\n",
    "\n",
    "required_space = 30000000 - get_unused_space(root)\n",
    "part_2 = root.get_smallest_greater_than(required_space)\n"
   ]
  },
  {
   "cell_type": "code",
   "execution_count": 7,
   "metadata": {},
   "outputs": [
    {
     "data": {
      "text/html": [
       "<pre style=\"white-space:pre;overflow-x:auto;line-height:normal;font-family:Menlo,'DejaVu Sans Mono',consolas,'Courier New',monospace\"><span style=\"color: #008000; text-decoration-color: #008000; font-weight: bold\">Part </span><span style=\"color: #008000; text-decoration-color: #008000; font-weight: bold\">1</span><span style=\"color: #008000; text-decoration-color: #008000; font-weight: bold\">:</span> <span style=\"color: #008080; text-decoration-color: #008080; font-weight: bold\">1648397</span>\n",
       "</pre>\n"
      ],
      "text/plain": [
       "\u001b[1;32mPart \u001b[0m\u001b[1;32m1\u001b[0m\u001b[1;32m:\u001b[0m \u001b[1;36m1648397\u001b[0m\n"
      ]
     },
     "metadata": {},
     "output_type": "display_data"
    },
    {
     "data": {
      "text/html": [
       "<pre style=\"white-space:pre;overflow-x:auto;line-height:normal;font-family:Menlo,'DejaVu Sans Mono',consolas,'Courier New',monospace\"><span style=\"color: #008000; text-decoration-color: #008000; font-weight: bold\">Part </span><span style=\"color: #008000; text-decoration-color: #008000; font-weight: bold\">2</span><span style=\"color: #008000; text-decoration-color: #008000; font-weight: bold\">:</span> <span style=\"color: #008080; text-decoration-color: #008080; font-weight: bold\">1815525</span>\n",
       "</pre>\n"
      ],
      "text/plain": [
       "\u001b[1;32mPart \u001b[0m\u001b[1;32m2\u001b[0m\u001b[1;32m:\u001b[0m \u001b[1;36m1815525\u001b[0m\n"
      ]
     },
     "metadata": {},
     "output_type": "display_data"
    }
   ],
   "source": [
    "print_part_1(part_1)\n",
    "print_part_2(part_2)"
   ]
  },
  {
   "cell_type": "code",
   "execution_count": 8,
   "metadata": {},
   "outputs": [],
   "source": [
    "# submit_part_1(part_1, DAY)\n",
    "# submit_part_2(part_2, DAY)"
   ]
  }
 ],
 "metadata": {
  "kernelspec": {
   "display_name": "Python 3.10.4 ('venv': venv)",
   "language": "python",
   "name": "python3"
  },
  "language_info": {
   "codemirror_mode": {
    "name": "ipython",
    "version": 3
   },
   "file_extension": ".py",
   "mimetype": "text/x-python",
   "name": "python",
   "nbconvert_exporter": "python",
   "pygments_lexer": "ipython3",
   "version": "3.10.4"
  },
  "orig_nbformat": 4,
  "vscode": {
   "interpreter": {
    "hash": "1deb42c3241d521f6003b1a68e85a16645dc710c5467eba0d538286ef971f2c2"
   }
  }
 },
 "nbformat": 4,
 "nbformat_minor": 2
}
