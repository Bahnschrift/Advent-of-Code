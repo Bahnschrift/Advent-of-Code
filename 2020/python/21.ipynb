{
 "cells": [
  {
   "cell_type": "markdown",
   "metadata": {},
   "source": [
    "# Advent of code 2020: Day 21"
   ]
  },
  {
   "cell_type": "markdown",
   "metadata": {},
   "source": [
    "## Import"
   ]
  },
  {
   "cell_type": "code",
   "execution_count": 1,
   "metadata": {},
   "outputs": [],
   "source": [
    "import math as M\n",
    "import collections as C\n",
    "import itertools as I\n",
    "from helper import *\n",
    "import re\n",
    "\n",
    "\n",
    "day = 21\n",
    "data = get_input_lines(day, 2020)"
   ]
  },
  {
   "cell_type": "markdown",
   "metadata": {},
   "source": [
    "## Part 1"
   ]
  },
  {
   "cell_type": "code",
   "execution_count": 2,
   "metadata": {},
   "outputs": [
    {
     "data": {
      "text/html": [
       "<pre style=\"white-space:pre;overflow-x:auto;line-height:normal;font-family:Menlo,'DejaVu Sans Mono',consolas,'Courier New',monospace\"><span style=\"color: #008080; text-decoration-color: #008080; font-weight: bold\">2078</span>\n",
       "</pre>\n"
      ],
      "text/plain": [
       "\u001b[1;36m2078\u001b[0m\n"
      ]
     },
     "metadata": {},
     "output_type": "display_data"
    }
   ],
   "source": [
    "allergen_to_codes = {}\n",
    "all_codes = set()\n",
    "for line in data:\n",
    "    codes, allergens = line[:-1].split(\" (contains \", 1)\n",
    "    allergens = allergens.split(\", \")\n",
    "    codes = codes.split()\n",
    "    all_codes |= set(codes)\n",
    "    for allergen in allergens:\n",
    "        if allergen in allergen_to_codes:\n",
    "            allergen_to_codes[allergen] &= set(codes)\n",
    "        else:\n",
    "            allergen_to_codes[allergen] = set(codes)\n",
    "\n",
    "confirmed = all_codes - set.union(*[set(x) for x in allergen_to_codes.values()])\n",
    "print(sum(sum(code in confirmed for code in line.split(\" (\")[0].split(\" \")) for line in data))"
   ]
  },
  {
   "cell_type": "markdown",
   "metadata": {},
   "source": [
    "## Part 2"
   ]
  },
  {
   "cell_type": "code",
   "execution_count": 3,
   "metadata": {},
   "outputs": [
    {
     "data": {
      "text/html": [
       "<pre style=\"white-space:pre;overflow-x:auto;line-height:normal;font-family:Menlo,'DejaVu Sans Mono',consolas,'Courier New',monospace\">lmcqt,kcddk,npxrdnd,cfb,ldkt,fqpt,jtfmtpd,tsch\n",
       "</pre>\n"
      ],
      "text/plain": [
       "lmcqt,kcddk,npxrdnd,cfb,ldkt,fqpt,jtfmtpd,tsch\n"
      ]
     },
     "metadata": {},
     "output_type": "display_data"
    }
   ],
   "source": [
    "for key in sorted(allergen_to_codes, key=lambda key: len(allergen_to_codes[key])):\n",
    "    if len(allergen_to_codes[key]) >= 1:\n",
    "        allergen = next(iter(allergen_to_codes[key]))\n",
    "        for other in [x for x in allergen_to_codes if x != key]:\n",
    "            allergen_to_codes[other].discard(allergen)\n",
    "\n",
    "print(*[next(iter(allergen_to_codes[x])) for x in sorted(allergen_to_codes)], sep=\",\")"
   ]
  }
 ],
 "metadata": {
  "kernelspec": {
   "display_name": "Python 3.10.4 ('venv': venv)",
   "language": "python",
   "name": "python3"
  },
  "language_info": {
   "codemirror_mode": {
    "name": "ipython",
    "version": 3
   },
   "file_extension": ".py",
   "mimetype": "text/x-python",
   "name": "python",
   "nbconvert_exporter": "python",
   "pygments_lexer": "ipython3",
   "version": "3.10.4"
  },
  "orig_nbformat": 2,
  "vscode": {
   "interpreter": {
    "hash": "1deb42c3241d521f6003b1a68e85a16645dc710c5467eba0d538286ef971f2c2"
   }
  }
 },
 "nbformat": 4,
 "nbformat_minor": 2
}
