{
 "cells": [
  {
   "cell_type": "markdown",
   "metadata": {},
   "source": [
    "# Advent of code 2020: Day 7"
   ]
  },
  {
   "cell_type": "markdown",
   "metadata": {},
   "source": [
    "## Import"
   ]
  },
  {
   "cell_type": "code",
   "execution_count": 1,
   "metadata": {},
   "outputs": [],
   "source": [
    "import math as M\n",
    "import collections as C\n",
    "import itertools as I\n",
    "from helper import *\n",
    "\n",
    "\n",
    "day = 7\n",
    "data = get_input_lines(day, 2020)"
   ]
  },
  {
   "cell_type": "markdown",
   "metadata": {},
   "source": [
    "## Common\n",
    "Create a dictionary linking bags and their contents, and another for the opposite"
   ]
  },
  {
   "cell_type": "code",
   "execution_count": 2,
   "metadata": {},
   "outputs": [],
   "source": [
    "contents_of = {}\n",
    "containing = {}\n",
    "all_colours = set()\n",
    "sub_colours = set()\n",
    "grandparents = set()\n",
    "grandchildren = set()\n",
    "\n",
    "for line in data:\n",
    "    parent, children = line[:-1].split(\" bags contain \")\n",
    "    all_colours.add(parent)\n",
    "    children = children.replace(\"bags\", \"\").replace(\"bag\", \"\").split(\", \")\n",
    "    contents_of[parent] = {}\n",
    "    for child in children:\n",
    "        child = child.split()\n",
    "        colour = \" \".join(child[1:])\n",
    "        if child != [\"no\", \"other\"]:\n",
    "            sub_colours.add(colour)\n",
    "            count = int(child[0])\n",
    "            contents_of[parent][colour] = count \n",
    "            if colour in containing:\n",
    "                containing[colour].add(parent)\n",
    "            else:\n",
    "                containing[colour] = {parent}\n",
    "        else:\n",
    "            grandchildren.add(parent)\n",
    "\n",
    "grandparents = all_colours - sub_colours\n",
    "for grandparent in grandparents:\n",
    "    containing[grandparent] = []"
   ]
  },
  {
   "cell_type": "markdown",
   "metadata": {},
   "source": [
    "## Part 1"
   ]
  },
  {
   "cell_type": "code",
   "execution_count": 3,
   "metadata": {},
   "outputs": [
    {
     "data": {
      "text/html": [
       "<pre style=\"white-space:pre;overflow-x:auto;line-height:normal;font-family:Menlo,'DejaVu Sans Mono',consolas,'Courier New',monospace\"><span style=\"color: #008080; text-decoration-color: #008080; font-weight: bold\">259</span>\n",
       "</pre>\n"
      ],
      "text/plain": [
       "\u001b[1;36m259\u001b[0m\n"
      ]
     },
     "metadata": {},
     "output_type": "display_data"
    }
   ],
   "source": [
    "parents = set()\n",
    "def get_parents(colour):\n",
    "    for parent in containing[colour]:\n",
    "        parents.add(parent)\n",
    "        get_parents(parent)\n",
    "get_parents(\"shiny gold\")\n",
    "\n",
    "print(len(parents))\n"
   ]
  },
  {
   "cell_type": "markdown",
   "metadata": {},
   "source": [
    "## Part 2"
   ]
  },
  {
   "cell_type": "code",
   "execution_count": 4,
   "metadata": {},
   "outputs": [
    {
     "data": {
      "text/html": [
       "<pre style=\"white-space:pre;overflow-x:auto;line-height:normal;font-family:Menlo,'DejaVu Sans Mono',consolas,'Courier New',monospace\"><span style=\"color: #008080; text-decoration-color: #008080; font-weight: bold\">45018</span>\n",
       "</pre>\n"
      ],
      "text/plain": [
       "\u001b[1;36m45018\u001b[0m\n"
      ]
     },
     "metadata": {},
     "output_type": "display_data"
    }
   ],
   "source": [
    "def get_children(colour, weight):\n",
    "    t = 1\n",
    "    for bag in contents_of[colour]:\n",
    "        t += get_children(bag, contents_of[colour][bag])\n",
    "    return t * weight\n",
    "\n",
    "print(get_children(\"shiny gold\", 1) - 1)\n"
   ]
  },
  {
   "cell_type": "markdown",
   "metadata": {},
   "source": [
    "## And now for some unnecessary bits and pieces\n",
    "\n",
    "### Bad graphing"
   ]
  },
  {
   "cell_type": "code",
   "execution_count": 5,
   "metadata": {},
   "outputs": [],
   "source": [
    "# from graphviz import Digraph, Graph\n",
    "# import pyyed\n",
    "\n",
    "# graphed_children = set()\n",
    "# graphed_parents = set()\n",
    "\n",
    "\n",
    "# node_height = \"0\"\n",
    "# node_width = \"0\"\n",
    "# node_colour = \"#000000\"\n",
    "# label_size = \"0\"\n",
    "# yed = pyyed.Graph()\n",
    "# yed.add_node(\"shiny gold\", shape_fill=\"#F9CB68\", height=node_height, width=node_width)\n",
    "\n",
    "\n",
    "# def graph_children(colour): \n",
    "#     if not(colour in yed.nodes):\n",
    "#             yed.add_node(colour, shape_fill=node_colour, height=node_height, width=node_width, font_size=label_size)\n",
    "#     for bag in contents_of[colour]:\n",
    "#         if not(bag in yed.nodes):\n",
    "#             yed.add_node(bag, shape_fill=node_colour, height=node_height, width=node_width, font_size=label_size)\n",
    "#         yed.add_edge(colour, bag, arrowhead=\"none\")\n",
    "        \n",
    "#         if bag not in graphed_children:\n",
    "#             graph_children(bag)\n",
    "#     graphed_children.add(colour)\n",
    "\n",
    "# def graph_parents(colour):\n",
    "#     if not(colour in yed.nodes):\n",
    "#         yed.add_node(colour, shape_fill=node_colour, height=node_height, width=node_width, font_size=label_size)\n",
    "        \n",
    "#     for parent in containing[colour]:\n",
    "#         if not(parent in yed.nodes):\n",
    "#             yed.add_node(parent, shape_fill=node_colour, height=node_height, width=node_width, font_size=label_size)\n",
    "#         yed.add_edge(parent, colour, arrowhead=\"none\")\n",
    "        \n",
    "#         if parent not in graphed_parents:\n",
    "#             graph_parents(parent)\n",
    "#     graphed_parents.add(colour)\n",
    "\n",
    "# for grandparent in grandparents:\n",
    "#     graph_children(grandparent)\n",
    "    \n",
    "# # graph_children(\"shiny gold\")\n",
    "# # graph_parents(\"shiny gold\")\n",
    "\n",
    "# yed.write_graph(\"full.graphml\", pretty_print=True)"
   ]
  }
 ],
 "metadata": {
  "kernelspec": {
   "display_name": "Python 3.10.4 ('venv': venv)",
   "language": "python",
   "name": "python3"
  },
  "language_info": {
   "codemirror_mode": {
    "name": "ipython",
    "version": 3
   },
   "file_extension": ".py",
   "mimetype": "text/x-python",
   "name": "python",
   "nbconvert_exporter": "python",
   "pygments_lexer": "ipython3",
   "version": "3.10.4"
  },
  "orig_nbformat": 2,
  "vscode": {
   "interpreter": {
    "hash": "1deb42c3241d521f6003b1a68e85a16645dc710c5467eba0d538286ef971f2c2"
   }
  }
 },
 "nbformat": 4,
 "nbformat_minor": 2
}
