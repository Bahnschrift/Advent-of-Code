{
 "cells": [
  {
   "cell_type": "markdown",
   "metadata": {},
   "source": [
    "# Advent of Code 2023\n",
    "## Day 24\n",
    "*<https://adventofcode.com/2023/day/24>*"
   ]
  },
  {
   "cell_type": "code",
   "execution_count": 15,
   "metadata": {},
   "outputs": [],
   "source": [
    "import heapq\n",
    "import math\n",
    "import re\n",
    "import functools as ft\n",
    "from collections import Counter, defaultdict, deque, namedtuple\n",
    "from itertools import combinations, permutations, product\n",
    "from string import ascii_letters, ascii_lowercase, ascii_uppercase\n",
    "\n",
    "import IPython\n",
    "import z3\n",
    "from rich import inspect, pretty, print\n",
    "\n",
    "from new_helper import *\n",
    "\n",
    "pretty.install()"
   ]
  },
  {
   "cell_type": "code",
   "execution_count": 16,
   "metadata": {},
   "outputs": [],
   "source": [
    "DAY = 24\n",
    "input_str = get_aoc_input(DAY, 2023)\n",
    "part_1 = part_2 = 0"
   ]
  },
  {
   "cell_type": "code",
   "execution_count": 17,
   "metadata": {},
   "outputs": [],
   "source": [
    "inp = input_str.parse_lines()"
   ]
  },
  {
   "cell_type": "code",
   "execution_count": 18,
   "metadata": {},
   "outputs": [],
   "source": [
    "from typing import NamedTuple\n",
    "\n",
    "\n",
    "class Hailstone(NamedTuple):\n",
    "    x: int\n",
    "    y: int\n",
    "    z: int\n",
    "    vx: int\n",
    "    vy: int\n",
    "    vz: int\n",
    "\n",
    "\n",
    "hailstones: list[Hailstone] = []\n",
    "for line in inp:\n",
    "    x, y, z, vx, vy, vz = ints(line)\n",
    "    hailstones.append(Hailstone(x, y, z, vx, vy, vz))"
   ]
  },
  {
   "cell_type": "code",
   "execution_count": 19,
   "metadata": {},
   "outputs": [],
   "source": [
    "MIN = 200000000000000\n",
    "MAX = 400000000000000\n",
    "\n",
    "from fractions import Fraction as Frac\n",
    "\n",
    "\n",
    "def intersection(a: Hailstone, b: Hailstone) -> tuple[Frac, Frac]:\n",
    "    return (\n",
    "        Frac(((a.y - b.y) * b.vx + b.x * b.vy) * a.vx - a.vy * a.x * b.vx, a.vx * b.vy - a.vy * b.vx),\n",
    "        Frac(((b.x - a.x) * b.vy - b.vx * b.y) * a.vy + a.vx * a.y * b.vy, a.vx * b.vy - a.vy * b.vx),\n",
    "    )\n",
    "\n",
    "\n",
    "for a, b in combinations(hailstones, 2):\n",
    "    try:\n",
    "        x, y = intersection(a, b)\n",
    "    except ZeroDivisionError:\n",
    "        continue\n",
    "\n",
    "    if (\n",
    "        MIN <= x <= MAX\n",
    "        and MIN <= y <= MAX\n",
    "        and (a.vx >= 0) == (x >= a.x)\n",
    "        and (a.vy >= 0) == (y >= a.y)\n",
    "        and (b.vx >= 0) == (x >= b.x)\n",
    "        and (b.vy >= 0) == (y >= b.y)\n",
    "    ):\n",
    "        part_1 += 1"
   ]
  },
  {
   "cell_type": "code",
   "execution_count": 20,
   "metadata": {},
   "outputs": [],
   "source": [
    "solver = z3.Solver()\n",
    "\n",
    "rx = z3.Int(\"rx\")\n",
    "ry = z3.Int(\"ry\")\n",
    "rz = z3.Int(\"rz\")\n",
    "\n",
    "rvx = z3.Int(\"rvx\")\n",
    "rvy = z3.Int(\"rvy\")\n",
    "rvz = z3.Int(\"rvz\")\n",
    "\n",
    "for n, h in enumerate(hailstones):\n",
    "    i = z3.Int(f\"t{n}\")  # Apparently collisions only happen at integer times\n",
    "\n",
    "    solver.add(rx + rvx * i == h.x + h.vx * i)\n",
    "    solver.add(ry + rvy * i == h.y + h.vy * i)\n",
    "    solver.add(rz + rvz * i == h.z + h.vz * i)\n",
    "\n",
    "assert solver.check() == z3.sat\n",
    "part_2 = solver.model().eval(rx + ry + rz)"
   ]
  },
  {
   "cell_type": "code",
   "execution_count": 21,
   "metadata": {},
   "outputs": [
    {
     "data": {
      "text/html": [
       "<pre style=\"white-space:pre;overflow-x:auto;line-height:normal;font-family:Menlo,'DejaVu Sans Mono',consolas,'Courier New',monospace\"><span style=\"color: #008000; text-decoration-color: #008000; font-weight: bold\">Part </span><span style=\"color: #008000; text-decoration-color: #008000; font-weight: bold\">1</span>: <span style=\"color: #008080; text-decoration-color: #008080; font-weight: bold\">20963</span>\n",
       "</pre>\n"
      ],
      "text/plain": [
       "\u001b[1;32mPart \u001b[0m\u001b[1;32m1\u001b[0m: \u001b[1;36m20963\u001b[0m\n"
      ]
     },
     "metadata": {},
     "output_type": "display_data"
    },
    {
     "data": {
      "text/html": [
       "<pre style=\"white-space:pre;overflow-x:auto;line-height:normal;font-family:Menlo,'DejaVu Sans Mono',consolas,'Courier New',monospace\"><span style=\"color: #008000; text-decoration-color: #008000; font-weight: bold\">Part </span><span style=\"color: #008000; text-decoration-color: #008000; font-weight: bold\">2</span>: <span style=\"color: #008080; text-decoration-color: #008080; font-weight: bold\">999782576459892</span>\n",
       "</pre>\n"
      ],
      "text/plain": [
       "\u001b[1;32mPart \u001b[0m\u001b[1;32m2\u001b[0m: \u001b[1;36m999782576459892\u001b[0m\n"
      ]
     },
     "metadata": {},
     "output_type": "display_data"
    }
   ],
   "source": [
    "print_part_1(part_1)\n",
    "print_part_2(part_2)"
   ]
  }
 ],
 "metadata": {
  "kernelspec": {
   "display_name": "venv",
   "language": "python",
   "name": "python3"
  },
  "language_info": {
   "codemirror_mode": {
    "name": "ipython",
    "version": 3
   },
   "file_extension": ".py",
   "mimetype": "text/x-python",
   "name": "python",
   "nbconvert_exporter": "python",
   "pygments_lexer": "ipython3",
   "version": "3.12.0"
  },
  "orig_nbformat": 4,
  "vscode": {
   "interpreter": {
    "hash": "1deb42c3241d521f6003b1a68e85a16645dc710c5467eba0d538286ef971f2c2"
   }
  }
 },
 "nbformat": 4,
 "nbformat_minor": 2
}
