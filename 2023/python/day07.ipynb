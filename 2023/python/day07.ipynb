{
 "cells": [
  {
   "cell_type": "markdown",
   "metadata": {},
   "source": [
    "# Advent of Code 2023\n",
    "## Day 7\n",
    "*<https://adventofcode.com/2023/day/7>*"
   ]
  },
  {
   "cell_type": "code",
   "execution_count": 1,
   "metadata": {},
   "outputs": [],
   "source": [
    "import heapq\n",
    "import math\n",
    "import re\n",
    "from collections import Counter, defaultdict, deque, namedtuple\n",
    "from itertools import combinations, permutations, product\n",
    "from string import ascii_letters, ascii_lowercase, ascii_uppercase\n",
    "\n",
    "import IPython\n",
    "import z3\n",
    "from rich import inspect, pretty, print\n",
    "\n",
    "from new_helper import *\n",
    "\n",
    "pretty.install()"
   ]
  },
  {
   "cell_type": "code",
   "execution_count": 2,
   "metadata": {},
   "outputs": [],
   "source": [
    "DAY = 7\n",
    "input_str = get_aoc_input(DAY, 2023)\n",
    "part_1 = part_2 = 0"
   ]
  },
  {
   "cell_type": "code",
   "execution_count": 3,
   "metadata": {},
   "outputs": [],
   "source": [
    "inp = input_str.parse_lines()"
   ]
  },
  {
   "cell_type": "code",
   "execution_count": 4,
   "metadata": {},
   "outputs": [],
   "source": [
    "import enum\n",
    "\n",
    "\n",
    "class Hand(enum.Enum):\n",
    "    FIVE = 7\n",
    "    FOUR = 6\n",
    "    FULL_HOUSE = 5\n",
    "    THREE = 4\n",
    "    TWO_PAIR = 3\n",
    "    ONE_PAIR = 2\n",
    "    HIGH = 1"
   ]
  },
  {
   "cell_type": "code",
   "execution_count": 5,
   "metadata": {},
   "outputs": [],
   "source": [
    "def get_hand_value(cards):\n",
    "    if len(set(cards)) == 1:\n",
    "        return Hand.FIVE\n",
    "    c = Counter(cards)\n",
    "    if any(v == 4 for v in c.values()):\n",
    "        return Hand.FOUR\n",
    "    elif any(v == 3 for v in c.values()):\n",
    "        if any(v == 2 for v in c.values()):\n",
    "            return Hand.FULL_HOUSE\n",
    "        return Hand.THREE\n",
    "    elif list(c.values()).count(2) == 2:\n",
    "        return Hand.TWO_PAIR\n",
    "    elif list(c.values()).count(2) == 1:\n",
    "        return Hand.ONE_PAIR\n",
    "    else:\n",
    "        return Hand.HIGH\n",
    "\n",
    "def card_to_num(c):\n",
    "    if c.isdigit():\n",
    "        return int(c)\n",
    "    else:\n",
    "        return \"TJQKA\".index(c) + 10 + 1\n",
    "\n",
    "def compare_card(c1, c2):\n",
    "    return card_to_num(c1) - card_to_num(c2)\n",
    "\n",
    "def compare_hands(h1, h2):\n",
    "    v1, v2 = get_hand_value(h1), get_hand_value(h2)\n",
    "    if v1 != v2:\n",
    "        return v1.value - v2.value\n",
    "\n",
    "    for c1, c2 in zip(h1, h2):\n",
    "        if c1 != c2:\n",
    "            return compare_card(c1, c2)\n",
    "\n",
    "    return 0\n",
    "\n",
    "def compare_plays(p1, p2):\n",
    "    return compare_hands(p1[0], p2[0])"
   ]
  },
  {
   "cell_type": "code",
   "execution_count": 6,
   "metadata": {},
   "outputs": [],
   "source": [
    "import functools as ft\n",
    "\n",
    "plays = [tuple(l.split()) for l in inp]\n",
    "plays.sort(key=ft.cmp_to_key(compare_plays))\n",
    "part_1 = sum([int(b) * i for i, (_, b) in enumerate(plays, 1)])"
   ]
  },
  {
   "cell_type": "code",
   "execution_count": 7,
   "metadata": {},
   "outputs": [
    {
     "data": {
      "text/html": [
       "<pre style=\"white-space:pre;overflow-x:auto;line-height:normal;font-family:Menlo,'DejaVu Sans Mono',consolas,'Courier New',monospace\">Hand.FOUR\n",
       "</pre>\n"
      ],
      "text/plain": [
       "Hand.FOUR\n"
      ]
     },
     "metadata": {},
     "output_type": "display_data"
    }
   ],
   "source": [
    "def get_hand_value_J(cards):\n",
    "    if set(cards) == {\"J\"}:\n",
    "        return Hand.FIVE\n",
    "\n",
    "    new = []\n",
    "    without_js = list(filter(lambda c: c != \"J\", cards))\n",
    "    for c in cards:\n",
    "        if c == \"J\":\n",
    "            new.append(max(without_js, key=without_js.count))\n",
    "        else:\n",
    "            new.append(c)\n",
    "\n",
    "    return get_hand_value(new)\n",
    "\n",
    "\n",
    "def card_to_num(c):\n",
    "    if c.isdigit():\n",
    "        return int(c)\n",
    "    elif c == \"J\":\n",
    "        return 1\n",
    "    else:\n",
    "        return \"TQKA\".index(c) + 10 + 1\n",
    "\n",
    "\n",
    "def compare_card(c1, c2):\n",
    "    return card_to_num(c1) - card_to_num(c2)\n",
    "\n",
    "\n",
    "def compare_hands(h1, h2):\n",
    "    v1, v2 = get_hand_value_J(h1), get_hand_value_J(h2)\n",
    "    if v1 != v2:\n",
    "        return v1.value - v2.value\n",
    "\n",
    "    for c1, c2 in zip(h1, h2):\n",
    "        if c1 != c2:\n",
    "            return compare_card(c1, c2)\n",
    "\n",
    "    return 0\n",
    "\n",
    "\n",
    "def compare_plays(p1, p2):\n",
    "    return compare_hands(p1[0], p2[0])\n",
    "\n",
    "\n",
    "print(get_hand_value_J(\"JJ556\"))"
   ]
  },
  {
   "cell_type": "code",
   "execution_count": 8,
   "metadata": {},
   "outputs": [],
   "source": [
    "plays.sort(key=ft.cmp_to_key(compare_plays))\n",
    "part_2 = sum([int(b) * i for i, (_, b) in enumerate(plays, 1)])"
   ]
  },
  {
   "cell_type": "code",
   "execution_count": 9,
   "metadata": {},
   "outputs": [
    {
     "data": {
      "text/html": [
       "<pre style=\"white-space:pre;overflow-x:auto;line-height:normal;font-family:Menlo,'DejaVu Sans Mono',consolas,'Courier New',monospace\"><span style=\"color: #008000; text-decoration-color: #008000; font-weight: bold\">Part </span><span style=\"color: #008000; text-decoration-color: #008000; font-weight: bold\">1</span>: <span style=\"color: #008080; text-decoration-color: #008080; font-weight: bold\">250370104</span>\n",
       "</pre>\n"
      ],
      "text/plain": [
       "\u001b[1;32mPart \u001b[0m\u001b[1;32m1\u001b[0m: \u001b[1;36m250370104\u001b[0m\n"
      ]
     },
     "metadata": {},
     "output_type": "display_data"
    },
    {
     "data": {
      "text/html": [
       "<pre style=\"white-space:pre;overflow-x:auto;line-height:normal;font-family:Menlo,'DejaVu Sans Mono',consolas,'Courier New',monospace\"><span style=\"color: #008000; text-decoration-color: #008000; font-weight: bold\">Part </span><span style=\"color: #008000; text-decoration-color: #008000; font-weight: bold\">2</span>: <span style=\"color: #008080; text-decoration-color: #008080; font-weight: bold\">251735672</span>\n",
       "</pre>\n"
      ],
      "text/plain": [
       "\u001b[1;32mPart \u001b[0m\u001b[1;32m2\u001b[0m: \u001b[1;36m251735672\u001b[0m\n"
      ]
     },
     "metadata": {},
     "output_type": "display_data"
    }
   ],
   "source": [
    "print_part_1(part_1)\n",
    "print_part_2(part_2)"
   ]
  }
 ],
 "metadata": {
  "kernelspec": {
   "display_name": "venv",
   "language": "python",
   "name": "python3"
  },
  "language_info": {
   "codemirror_mode": {
    "name": "ipython",
    "version": 3
   },
   "file_extension": ".py",
   "mimetype": "text/x-python",
   "name": "python",
   "nbconvert_exporter": "python",
   "pygments_lexer": "ipython3",
   "version": "3.12.1"
  },
  "orig_nbformat": 4,
  "vscode": {
   "interpreter": {
    "hash": "1deb42c3241d521f6003b1a68e85a16645dc710c5467eba0d538286ef971f2c2"
   }
  }
 },
 "nbformat": 4,
 "nbformat_minor": 2
}
