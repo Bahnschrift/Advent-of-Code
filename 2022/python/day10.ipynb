{
 "cells": [
  {
   "cell_type": "markdown",
   "metadata": {},
   "source": [
    "# Advent of Code 2022\n",
    "## Day 10\n",
    "*<https://adventofcode.com/2022/day/10>*"
   ]
  },
  {
   "cell_type": "code",
   "execution_count": 1,
   "metadata": {},
   "outputs": [],
   "source": [
    "import IPython\n",
    "import math\n",
    "import re\n",
    "from helper import *\n",
    "from itertools import product, combinations, permutations\n",
    "from collections import Counter, defaultdict\n",
    "from string import ascii_lowercase, ascii_uppercase, ascii_letters\n",
    "from rich import inspect, print, pretty\n",
    "\n",
    "pretty.install()"
   ]
  },
  {
   "cell_type": "code",
   "execution_count": 2,
   "metadata": {},
   "outputs": [],
   "source": [
    "DAY = 10\n",
    "inp = get_input_lines(DAY)\n",
    "part_1 = part_2 = 0"
   ]
  },
  {
   "cell_type": "code",
   "execution_count": 3,
   "metadata": {},
   "outputs": [],
   "source": [
    "part_1_positions = [20, 60, 100, 140, 180, 220]\n",
    "strengths = []\n",
    "\n",
    "WIDTH = 40\n",
    "HEIGHT = 6\n",
    "screen = [\" \"] * WIDTH * HEIGHT\n",
    "\n",
    "X = 1\n",
    "cycle = 0\n",
    "for line in inp:\n",
    "    cycle += 1\n",
    "    if cycle in part_1_positions:\n",
    "        strengths.append(cycle * X)\n",
    "    if abs((cycle - 1) % WIDTH - X) <= 1:\n",
    "        screen[cycle - 1] = \"#\"\n",
    "\n",
    "    if line.startswith(\"addx\"):\n",
    "        cycle += 1\n",
    "        if cycle in part_1_positions:\n",
    "            strengths.append(cycle * X)\n",
    "\n",
    "        if abs((cycle - 1) % WIDTH - X) <= 1:\n",
    "            screen[cycle - 1] = \"#\"\n",
    "\n",
    "        v = int(line.split()[1])\n",
    "        X += v\n",
    "\n",
    "part_1 = sum(strengths)\n",
    "part_2 = \"\\n\" + \"\\n\".join(\n",
    "    \"\".join(screen[i : i + WIDTH]).replace(\" \", \"  \").replace(\"#\", \"##\") for i in range(0, WIDTH * HEIGHT, WIDTH)\n",
    ")"
   ]
  },
  {
   "cell_type": "code",
   "execution_count": 4,
   "metadata": {},
   "outputs": [
    {
     "data": {
      "text/html": [
       "<pre style=\"white-space:pre;overflow-x:auto;line-height:normal;font-family:Menlo,'DejaVu Sans Mono',consolas,'Courier New',monospace\"><span style=\"color: #008000; text-decoration-color: #008000; font-weight: bold\">Part </span><span style=\"color: #008000; text-decoration-color: #008000; font-weight: bold\">1</span><span style=\"color: #008000; text-decoration-color: #008000; font-weight: bold\">:</span> <span style=\"color: #008080; text-decoration-color: #008080; font-weight: bold\">15360</span>\n",
       "</pre>\n"
      ],
      "text/plain": [
       "\u001b[1;32mPart \u001b[0m\u001b[1;32m1\u001b[0m\u001b[1;32m:\u001b[0m \u001b[1;36m15360\u001b[0m\n"
      ]
     },
     "metadata": {},
     "output_type": "display_data"
    },
    {
     "data": {
      "text/html": [
       "<pre style=\"white-space:pre;overflow-x:auto;line-height:normal;font-family:Menlo,'DejaVu Sans Mono',consolas,'Courier New',monospace\"><span style=\"color: #008000; text-decoration-color: #008000; font-weight: bold\">Part </span><span style=\"color: #008000; text-decoration-color: #008000; font-weight: bold\">2</span><span style=\"color: #008000; text-decoration-color: #008000; font-weight: bold\">:</span> \n",
       "######    ##    ##  ##        ##    ##      ####    ####    ########    ####    \n",
       "##    ##  ##    ##  ##        ##    ##        ##  ##    ##        ##  ##    ##  \n",
       "##    ##  ########  ##        ########        ##  ##            ##    ##    ##  \n",
       "######    ##    ##  ##        ##    ##        ##  ##  ####    ##      ########  \n",
       "##        ##    ##  ##        ##    ##  ##    ##  ##    ##  ##        ##    ##  \n",
       "##        ##    ##  ########  ##    ##    ####      ######  ########  ##    ##  \n",
       "</pre>\n"
      ],
      "text/plain": [
       "\u001b[1;32mPart \u001b[0m\u001b[1;32m2\u001b[0m\u001b[1;32m:\u001b[0m \n",
       "######    ##    ##  ##        ##    ##      ####    ####    ########    ####    \n",
       "##    ##  ##    ##  ##        ##    ##        ##  ##    ##        ##  ##    ##  \n",
       "##    ##  ########  ##        ########        ##  ##            ##    ##    ##  \n",
       "######    ##    ##  ##        ##    ##        ##  ##  ####    ##      ########  \n",
       "##        ##    ##  ##        ##    ##  ##    ##  ##    ##  ##        ##    ##  \n",
       "##        ##    ##  ########  ##    ##    ####      ######  ########  ##    ##  \n"
      ]
     },
     "metadata": {},
     "output_type": "display_data"
    }
   ],
   "source": [
    "print_part_1(part_1)\n",
    "print_part_2(part_2)"
   ]
  },
  {
   "cell_type": "code",
   "execution_count": 5,
   "metadata": {},
   "outputs": [],
   "source": [
    "# submit_part_1(part_1, DAY)\n",
    "# submit_part_2(part_2, DAY)"
   ]
  }
 ],
 "metadata": {
  "kernelspec": {
   "display_name": "venv",
   "language": "python",
   "name": "python3"
  },
  "language_info": {
   "codemirror_mode": {
    "name": "ipython",
    "version": 3
   },
   "file_extension": ".py",
   "mimetype": "text/x-python",
   "name": "python",
   "nbconvert_exporter": "python",
   "pygments_lexer": "ipython3",
   "version": "3.10.4 (tags/v3.10.4:9d38120, Mar 23 2022, 23:13:41) [MSC v.1929 64 bit (AMD64)]"
  },
  "orig_nbformat": 4,
  "vscode": {
   "interpreter": {
    "hash": "1deb42c3241d521f6003b1a68e85a16645dc710c5467eba0d538286ef971f2c2"
   }
  }
 },
 "nbformat": 4,
 "nbformat_minor": 2
}
