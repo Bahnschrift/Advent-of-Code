{
 "cells": [
  {
   "cell_type": "markdown",
   "metadata": {
    "pycharm": {
     "name": "#%% md\n"
    }
   },
   "source": [
    "# Advent of Code 2021\n",
    "## Day 22\n",
    "*<https://adventofcode.com/2021/day/22>*"
   ]
  },
  {
   "cell_type": "code",
   "execution_count": 51,
   "metadata": {
    "pycharm": {
     "name": "#%%\n"
    }
   },
   "outputs": [],
   "source": [
    "import IPython\n",
    "import math\n",
    "import re\n",
    "from helper import *\n",
    "from itertools import product, combinations, permutations\n",
    "from collections import Counter, defaultdict\n",
    "from rich import inspect, print, pretty\n",
    "pretty.install()"
   ]
  },
  {
   "cell_type": "code",
   "execution_count": 52,
   "metadata": {
    "collapsed": false,
    "pycharm": {
     "name": "#%%\n"
    }
   },
   "outputs": [],
   "source": [
    "DAY = 22\n",
    "inp = get_input_lines(DAY, 2021)\n",
    "part_1 = 0\n",
    "part_2 = 0"
   ]
  },
  {
   "cell_type": "code",
   "execution_count": 53,
   "id": "379cd878",
   "metadata": {},
   "outputs": [],
   "source": [
    "# inp = \"\"\"on x=-20..26,y=-36..17,z=-47..7\n",
    "# on x=-20..33,y=-21..23,z=-26..28\n",
    "# on x=-22..28,y=-29..23,z=-38..16\n",
    "# on x=-46..7,y=-6..46,z=-50..-1\n",
    "# on x=-49..1,y=-3..46,z=-24..28\n",
    "# on x=2..47,y=-22..22,z=-23..27\n",
    "# on x=-27..23,y=-28..26,z=-21..29\n",
    "# on x=-39..5,y=-6..47,z=-3..44\n",
    "# on x=-30..21,y=-8..43,z=-13..34\n",
    "# on x=-22..26,y=-27..20,z=-29..19\n",
    "# off x=-48..-32,y=26..41,z=-47..-37\n",
    "# on x=-12..35,y=6..50,z=-50..-2\n",
    "# off x=-48..-32,y=-32..-16,z=-15..-5\n",
    "# on x=-18..26,y=-33..15,z=-7..46\n",
    "# off x=-40..-22,y=-38..-28,z=23..41\n",
    "# on x=-16..35,y=-41..10,z=-47..6\n",
    "# off x=-32..-23,y=11..30,z=-14..3\n",
    "# on x=-49..-5,y=-3..45,z=-29..18\n",
    "# off x=18..30,y=-20..-8,z=-3..13\n",
    "# on x=-41..9,y=-7..43,z=-33..15\n",
    "# on x=-54112..-39298,y=-85059..-49293,z=-27449..7877\n",
    "# on x=967..23432,y=45373..81175,z=27513..53682\"\"\".split(\"\\n\")"
   ]
  },
  {
   "cell_type": "code",
   "execution_count": 54,
   "metadata": {
    "pycharm": {
     "name": "#%%\n"
    }
   },
   "outputs": [],
   "source": [
    "on = set()"
   ]
  },
  {
   "cell_type": "code",
   "execution_count": 55,
   "metadata": {},
   "outputs": [],
   "source": [
    "for line in inp:\n",
    "    on_off = line.split()[0] == \"on\"\n",
    "    x1, x2, y1, y2, z1, z2 = ints(line)\n",
    "    if x1 > 50 and x2 > 50 or x1 < -50 and x2 < -50 or y1 > 50 and y2 > 50 or y1 < -50 and y2 < -50 or z1 > 50 and z2 > 50 or z1 < -50 and z2 < -50:\n",
    "        continue\n",
    "    for c in (\"x1\", \"x2\", \"y1\", \"y2\", \"z1\", \"z2\"):\n",
    "        if eval(c) < -50:\n",
    "            exec(f\"{c} = -50\")\n",
    "        if eval(c) > 50:\n",
    "            exec(f\"{c} = 50\")\n",
    "    for x in range(x1, x2 + 1):\n",
    "        for y in range(y1, y2 + 1):\n",
    "            for z in range(z1, z2 + 1):\n",
    "                if on_off:\n",
    "                    on.add((x, y, z))\n",
    "                else:\n",
    "                    on.discard((x, y, z))\n",
    "                \n",
    "part_1 = len(on)"
   ]
  },
  {
   "cell_type": "code",
   "execution_count": 56,
   "id": "739f7217",
   "metadata": {},
   "outputs": [],
   "source": [
    "cubes = Counter()\n",
    "for line in inp:\n",
    "    on_off = line.split()[0] == \"on\"\n",
    "    x1, x2, y1, y2, z1, z2 = ints(line)\n",
    "    \n",
    "    new = Counter()\n",
    "    for ex1, ex2, ey1, ey2, ez1, ez2 in cubes:\n",
    "        esign = cubes[(ex1, ex2, ey1, ey2, ez1, ez2)]\n",
    "        ix1, ix2, iy1, iy2, iz1, iz2 = max(ex1, x1), min(ex2, x2), max(ey1, y1), min(ey2, y2), max(ez1, z1), min(ez2, z2)\n",
    "        if ix1 <= ix2 and iy1 <= iy2 and iz1 <= iz2:\n",
    "            new[(ix1, ix2, iy1, iy2, iz1, iz2)] -= esign\n",
    "    \n",
    "    if on_off:\n",
    "        new[(x1, x2, y1, y2, z1, z2)] += 1\n",
    "    cubes.update(new)\n",
    "\n",
    "part_2 = sum((x2 - x1 + 1) * (y2 - y1 + 1) * (z2 - z1 + 1) * sign for (x1, x2, y1, y2, z1, z2), sign in cubes.items())\n",
    "    "
   ]
  },
  {
   "cell_type": "code",
   "execution_count": 57,
   "metadata": {
    "pycharm": {
     "name": "#%%\n"
    }
   },
   "outputs": [
    {
     "data": {
      "text/html": [
       "<pre style=\"white-space:pre;overflow-x:auto;line-height:normal;font-family:Menlo,'DejaVu Sans Mono',consolas,'Courier New',monospace\"><span style=\"color: #008000; text-decoration-color: #008000; font-weight: bold\">Part </span><span style=\"color: #008000; text-decoration-color: #008000; font-weight: bold\">1</span><span style=\"color: #008000; text-decoration-color: #008000; font-weight: bold\">:</span> <span style=\"color: #008080; text-decoration-color: #008080; font-weight: bold\">650099</span>\n",
       "</pre>\n"
      ],
      "text/plain": [
       "\u001b[1;32mPart \u001b[0m\u001b[1;32m1\u001b[0m\u001b[1;32m:\u001b[0m \u001b[1;36m650099\u001b[0m\n"
      ]
     },
     "metadata": {},
     "output_type": "display_data"
    },
    {
     "data": {
      "text/html": [
       "<pre style=\"white-space:pre;overflow-x:auto;line-height:normal;font-family:Menlo,'DejaVu Sans Mono',consolas,'Courier New',monospace\"><span style=\"color: #008000; text-decoration-color: #008000; font-weight: bold\">Part </span><span style=\"color: #008000; text-decoration-color: #008000; font-weight: bold\">2</span><span style=\"color: #008000; text-decoration-color: #008000; font-weight: bold\">:</span> <span style=\"color: #008080; text-decoration-color: #008080; font-weight: bold\">1254011191104293</span>\n",
       "</pre>\n"
      ],
      "text/plain": [
       "\u001b[1;32mPart \u001b[0m\u001b[1;32m2\u001b[0m\u001b[1;32m:\u001b[0m \u001b[1;36m1254011191104293\u001b[0m\n"
      ]
     },
     "metadata": {},
     "output_type": "display_data"
    }
   ],
   "source": [
    "print_part_1(part_1)\n",
    "print_part_2(part_2)"
   ]
  }
 ],
 "metadata": {
  "kernelspec": {
   "display_name": "Python 3 (ipykernel)",
   "language": "python",
   "name": "python3"
  },
  "language_info": {
   "codemirror_mode": {
    "name": "ipython",
    "version": 3
   },
   "file_extension": ".py",
   "mimetype": "text/x-python",
   "name": "python",
   "nbconvert_exporter": "python",
   "pygments_lexer": "ipython3",
   "version": "3.8.12"
  }
 },
 "nbformat": 4,
 "nbformat_minor": 22
}
