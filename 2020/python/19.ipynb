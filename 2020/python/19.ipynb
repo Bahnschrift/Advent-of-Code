{
 "cells": [
  {
   "cell_type": "markdown",
   "metadata": {},
   "source": [
    "# Advent of code 2020: Day 19\n",
    "_This could probably be one line, might shorten in later_"
   ]
  },
  {
   "cell_type": "markdown",
   "metadata": {},
   "source": [
    "## Import"
   ]
  },
  {
   "cell_type": "code",
   "execution_count": 1,
   "metadata": {},
   "outputs": [],
   "source": [
    "import math as M\n",
    "import collections as C\n",
    "import itertools as I\n",
    "from helper import *\n",
    "import re\n",
    "\n",
    "\n",
    "day = 19\n",
    "data = get_input_groups(day, 2020)"
   ]
  },
  {
   "cell_type": "markdown",
   "metadata": {},
   "source": [
    "## Common"
   ]
  },
  {
   "cell_type": "code",
   "execution_count": 2,
   "metadata": {},
   "outputs": [],
   "source": [
    "rules = {}\n",
    "r, lines = data\n",
    "rules = {a: b for a, b in [row.split(\": \") for row in r]}"
   ]
  },
  {
   "cell_type": "code",
   "execution_count": 3,
   "metadata": {},
   "outputs": [],
   "source": [
    "def solve(rules: dict) -> dict:\n",
    "    solved = {}\n",
    "    while \"0\" not in solved:\n",
    "        for n in rules:\n",
    "            rule = rules[n]\n",
    "            if rule[0] == '\"':\n",
    "                solved[n] = rule[1]\n",
    "                continue            \n",
    "            sets = rule.split(' ')\n",
    "            if any(subset not in solved and subset != \"|\" for subset in sets): continue\n",
    "            solved[n] = f'({\"\".join(\"|\" if subset == \"|\" else solved[subset] for subset in sets)})'\n",
    "    return solved"
   ]
  },
  {
   "cell_type": "markdown",
   "metadata": {},
   "source": [
    "## Part 1"
   ]
  },
  {
   "cell_type": "code",
   "execution_count": 4,
   "metadata": {},
   "outputs": [
    {
     "data": {
      "text/html": [
       "<pre style=\"white-space:pre;overflow-x:auto;line-height:normal;font-family:Menlo,'DejaVu Sans Mono',consolas,'Courier New',monospace\"><span style=\"color: #008080; text-decoration-color: #008080; font-weight: bold\">241</span>\n",
       "</pre>\n"
      ],
      "text/plain": [
       "\u001b[1;36m241\u001b[0m\n"
      ]
     },
     "metadata": {},
     "output_type": "display_data"
    }
   ],
   "source": [
    "print(sum([1 for line in lines if re.fullmatch(solve(rules)[\"0\"], line)]))"
   ]
  },
  {
   "cell_type": "markdown",
   "metadata": {},
   "source": [
    "## Part 2"
   ]
  },
  {
   "cell_type": "code",
   "execution_count": 5,
   "metadata": {},
   "outputs": [],
   "source": [
    "solved = solve(rules)\n",
    "new_rules = {a: b for a, b in rules.items()}\n",
    "new_rules[\"8\"] = \"42 | 42 8\"\n",
    "new_rules[\"11\"] = \"42 31 | 42 11 31\""
   ]
  },
  {
   "cell_type": "code",
   "execution_count": 6,
   "metadata": {},
   "outputs": [
    {
     "data": {
      "text/html": [
       "<pre style=\"white-space:pre;overflow-x:auto;line-height:normal;font-family:Menlo,'DejaVu Sans Mono',consolas,'Courier New',monospace\"><span style=\"color: #008080; text-decoration-color: #008080; font-weight: bold\">424</span>\n",
       "</pre>\n"
      ],
      "text/plain": [
       "\u001b[1;36m424\u001b[0m\n"
      ]
     },
     "metadata": {},
     "output_type": "display_data"
    }
   ],
   "source": [
    "checked = set()\n",
    "while True:\n",
    "    a = False\n",
    "    for n in new_rules:\n",
    "        rule = new_rules[n]\n",
    "        if rule[0] == '\"':\n",
    "            solved[n] = rule[1]\n",
    "            continue\n",
    "\n",
    "        sets = rule.split(\" \")\n",
    "        if any(subset not in solved and subset != \"|\" for subset in sets):\n",
    "            continue\n",
    "\n",
    "        solved[n] = f'({\"\".join(\"|\" if subset == \"|\" else solved[subset] for subset in sets)})'\n",
    "\n",
    "    for line in lines:\n",
    "        if re.fullmatch(solved[\"0\"], line) and line not in checked:\n",
    "            checked.add(line)\n",
    "            a = True\n",
    "\n",
    "    if not (a):\n",
    "        print(len(checked))\n",
    "        break"
   ]
  }
 ],
 "metadata": {
  "kernelspec": {
   "display_name": "Python 3.10.4 ('venv': venv)",
   "language": "python",
   "name": "python3"
  },
  "language_info": {
   "codemirror_mode": {
    "name": "ipython",
    "version": 3
   },
   "file_extension": ".py",
   "mimetype": "text/x-python",
   "name": "python",
   "nbconvert_exporter": "python",
   "pygments_lexer": "ipython3",
   "version": "3.10.4"
  },
  "orig_nbformat": 2,
  "vscode": {
   "interpreter": {
    "hash": "1deb42c3241d521f6003b1a68e85a16645dc710c5467eba0d538286ef971f2c2"
   }
  }
 },
 "nbformat": 4,
 "nbformat_minor": 2
}
