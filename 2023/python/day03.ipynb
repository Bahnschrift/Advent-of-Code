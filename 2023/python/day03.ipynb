{
 "cells": [
  {
   "cell_type": "markdown",
   "metadata": {},
   "source": [
    "# Advent of Code 2023\n",
    "## Day 3\n",
    "*<https://adventofcode.com/2023/day/3>*"
   ]
  },
  {
   "cell_type": "code",
   "execution_count": 1,
   "metadata": {},
   "outputs": [],
   "source": [
    "import heapq\n",
    "import math\n",
    "import re\n",
    "from collections import Counter, defaultdict, deque, namedtuple\n",
    "from itertools import combinations, permutations, product\n",
    "from string import ascii_letters, ascii_lowercase, ascii_uppercase\n",
    "\n",
    "import IPython\n",
    "import z3\n",
    "from rich import inspect, pretty, print\n",
    "\n",
    "from new_helper import *\n",
    "\n",
    "pretty.install()"
   ]
  },
  {
   "cell_type": "code",
   "execution_count": 2,
   "metadata": {},
   "outputs": [],
   "source": [
    "DAY = 3\n",
    "input_str = get_aoc_input(DAY, 2023)\n",
    "part_1 = part_2 = 0"
   ]
  },
  {
   "cell_type": "code",
   "execution_count": 3,
   "metadata": {},
   "outputs": [],
   "source": [
    "inp = input_str.parse_grid()"
   ]
  },
  {
   "cell_type": "code",
   "execution_count": 4,
   "metadata": {},
   "outputs": [],
   "source": [
    "def is_sym(c):\n",
    "    return not c.isdigit() and c != \".\""
   ]
  },
  {
   "cell_type": "code",
   "execution_count": 5,
   "metadata": {},
   "outputs": [],
   "source": [
    "gears = defaultdict(set[int])\n",
    "\n",
    "for y, l in enumerate(inp[:, :]):\n",
    "    line = \"\".join(l)\n",
    "    for match in re.finditer(r\"\\d+\", line):\n",
    "        s, e = match.span()\n",
    "        m = False\n",
    "        for x in range(s, e):\n",
    "            for (sx, sy), c in inp.adjacent_8_items(x, y):\n",
    "                if not m and is_sym(c):\n",
    "                    m = True\n",
    "                    part_1 += int(match.group())\n",
    "                if c == \"*\":\n",
    "                    gears[(sx, sy)].add(int(match.group()))\n",
    "\n",
    "part_2 = sum(math.prod(v) for v in gears.values() if len(v) == 2)"
   ]
  },
  {
   "cell_type": "code",
   "execution_count": 6,
   "metadata": {},
   "outputs": [
    {
     "data": {
      "text/html": [
       "<pre style=\"white-space:pre;overflow-x:auto;line-height:normal;font-family:Menlo,'DejaVu Sans Mono',consolas,'Courier New',monospace\"><span style=\"color: #008000; text-decoration-color: #008000; font-weight: bold\">Part </span><span style=\"color: #008000; text-decoration-color: #008000; font-weight: bold\">1</span>: <span style=\"color: #008080; text-decoration-color: #008080; font-weight: bold\">530495</span>\n",
       "</pre>\n"
      ],
      "text/plain": [
       "\u001b[1;32mPart \u001b[0m\u001b[1;32m1\u001b[0m: \u001b[1;36m530495\u001b[0m\n"
      ]
     },
     "metadata": {},
     "output_type": "display_data"
    },
    {
     "data": {
      "text/html": [
       "<pre style=\"white-space:pre;overflow-x:auto;line-height:normal;font-family:Menlo,'DejaVu Sans Mono',consolas,'Courier New',monospace\"><span style=\"color: #008000; text-decoration-color: #008000; font-weight: bold\">Part </span><span style=\"color: #008000; text-decoration-color: #008000; font-weight: bold\">2</span>: <span style=\"color: #008080; text-decoration-color: #008080; font-weight: bold\">80253814</span>\n",
       "</pre>\n"
      ],
      "text/plain": [
       "\u001b[1;32mPart \u001b[0m\u001b[1;32m2\u001b[0m: \u001b[1;36m80253814\u001b[0m\n"
      ]
     },
     "metadata": {},
     "output_type": "display_data"
    }
   ],
   "source": [
    "print_part_1(part_1)\n",
    "print_part_2(part_2)"
   ]
  }
 ],
 "metadata": {
  "kernelspec": {
   "display_name": "venv",
   "language": "python",
   "name": "python3"
  },
  "language_info": {
   "codemirror_mode": {
    "name": "ipython",
    "version": 3
   },
   "file_extension": ".py",
   "mimetype": "text/x-python",
   "name": "python",
   "nbconvert_exporter": "python",
   "pygments_lexer": "ipython3",
   "version": "3.11.1"
  },
  "orig_nbformat": 4,
  "vscode": {
   "interpreter": {
    "hash": "1deb42c3241d521f6003b1a68e85a16645dc710c5467eba0d538286ef971f2c2"
   }
  }
 },
 "nbformat": 4,
 "nbformat_minor": 2
}
