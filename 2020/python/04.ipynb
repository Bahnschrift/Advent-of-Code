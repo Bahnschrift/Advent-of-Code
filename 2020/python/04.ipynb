{
 "cells": [
  {
   "cell_type": "markdown",
   "metadata": {},
   "source": [
    "# Advent of code 2020: Day 4"
   ]
  },
  {
   "cell_type": "markdown",
   "metadata": {},
   "source": [
    "## Import"
   ]
  },
  {
   "cell_type": "code",
   "execution_count": 1,
   "metadata": {},
   "outputs": [],
   "source": [
    "import math as M\n",
    "import collections as C\n",
    "import itertools as I\n",
    "from helper import *\n",
    "\n",
    "\n",
    "day = 4\n",
    "data = get_input_groups(day, 2020)"
   ]
  },
  {
   "cell_type": "markdown",
   "metadata": {},
   "source": [
    "## Part 1"
   ]
  },
  {
   "cell_type": "code",
   "execution_count": 2,
   "metadata": {
    "tags": []
   },
   "outputs": [
    {
     "data": {
      "text/html": [
       "<pre style=\"white-space:pre;overflow-x:auto;line-height:normal;font-family:Menlo,'DejaVu Sans Mono',consolas,'Courier New',monospace\"><span style=\"color: #008080; text-decoration-color: #008080; font-weight: bold\">170</span>\n",
       "</pre>\n"
      ],
      "text/plain": [
       "\u001b[1;36m170\u001b[0m\n"
      ]
     },
     "metadata": {},
     "output_type": "display_data"
    }
   ],
   "source": [
    "print(\n",
    "    sum(\n",
    "        map(\n",
    "            lambda entry: len(entry) == 8 or (len(entry) == 7 and \"cid\" not in entry),\n",
    "            map(\n",
    "                lambda entry: {e.split(\":\")[0]: e.split(\":\")[1] for e in entry.split(\" \")},\n",
    "                map(lambda entry: \" \".join(entry), data),\n",
    "            ),\n",
    "        )\n",
    "    )\n",
    ")"
   ]
  },
  {
   "cell_type": "markdown",
   "metadata": {},
   "source": [
    "## Part 2"
   ]
  },
  {
   "cell_type": "code",
   "execution_count": 3,
   "metadata": {},
   "outputs": [
    {
     "data": {
      "text/html": [
       "<pre style=\"white-space:pre;overflow-x:auto;line-height:normal;font-family:Menlo,'DejaVu Sans Mono',consolas,'Courier New',monospace\"><span style=\"color: #008080; text-decoration-color: #008080; font-weight: bold\">103</span>\n",
       "</pre>\n"
      ],
      "text/plain": [
       "\u001b[1;36m103\u001b[0m\n"
      ]
     },
     "metadata": {},
     "output_type": "display_data"
    }
   ],
   "source": [
    "valid = (\n",
    "    lambda entry: (len(entry) == 8 or (len(entry) == 7 and \"cid\" not in entry))\n",
    "    and (1920 <= int(entry[\"byr\"]) <= 2002)\n",
    "    and (2010 <= int(entry[\"iyr\"]) <= 2020)\n",
    "    and (2020 <= int(entry[\"eyr\"]) <= 2030)\n",
    "    and (\n",
    "        entry[\"hgt\"][-2:] == \"cm\"\n",
    "        and 150 <= int(entry[\"hgt\"][:-2]) <= 193\n",
    "        or entry[\"hgt\"][-2:] == \"in\"\n",
    "        and 59 <= int(entry[\"hgt\"][:-2]) <= 76\n",
    "    )\n",
    "    and (\n",
    "        entry[\"hcl\"][0] == \"#\"\n",
    "        and len(entry[\"hcl\"][1:]) == 6\n",
    "        and all([x in \"1234567890abcdefABCDEF\" for x in entry[\"hcl\"][1:]])\n",
    "    )\n",
    "    and (entry[\"ecl\"] in (\"amb\", \"blu\", \"brn\", \"gry\", \"grn\", \"hzl\", \"oth\"))\n",
    "    and (len(entry[\"pid\"]) == len([x for x in entry[\"pid\"] if x.isdigit()]) == 9)\n",
    ")\n",
    "\n",
    "print(\n",
    "    sum(\n",
    "        map(\n",
    "            valid,\n",
    "            map(\n",
    "                lambda entry: {e.split(\":\")[0]: e.split(\":\")[1] for e in entry.split(\" \")},\n",
    "                map(lambda entry: \" \".join(entry), data),\n",
    "            ),\n",
    "        )\n",
    "    )\n",
    ")"
   ]
  }
 ],
 "metadata": {
  "kernelspec": {
   "display_name": "Python 3.10.4 ('venv': venv)",
   "language": "python",
   "name": "python3"
  },
  "language_info": {
   "codemirror_mode": {
    "name": "ipython",
    "version": 3
   },
   "file_extension": ".py",
   "mimetype": "text/x-python",
   "name": "python",
   "nbconvert_exporter": "python",
   "pygments_lexer": "ipython3",
   "version": "3.10.4"
  },
  "orig_nbformat": 2,
  "vscode": {
   "interpreter": {
    "hash": "1deb42c3241d521f6003b1a68e85a16645dc710c5467eba0d538286ef971f2c2"
   }
  }
 },
 "nbformat": 4,
 "nbformat_minor": 2
}
