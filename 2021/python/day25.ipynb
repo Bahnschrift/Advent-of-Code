{
 "cells": [
  {
   "cell_type": "markdown",
   "id": "cacbf6ff",
   "metadata": {
    "pycharm": {
     "name": "#%% md\n"
    }
   },
   "source": [
    "# Advent of Code 2021\n",
    "## Day 25\n",
    "*<https://adventofcode.com/2021/day/25>*"
   ]
  },
  {
   "cell_type": "code",
   "execution_count": 19,
   "id": "49bafa7b",
   "metadata": {
    "pycharm": {
     "name": "#%%\n"
    }
   },
   "outputs": [],
   "source": [
    "import IPython\n",
    "import math\n",
    "import re\n",
    "from helper import *\n",
    "from itertools import product, combinations, permutations\n",
    "from collections import Counter, defaultdict\n",
    "from rich import inspect, print, pretty\n",
    "pretty.install()"
   ]
  },
  {
   "cell_type": "code",
   "execution_count": 20,
   "id": "90b040ab",
   "metadata": {
    "collapsed": false,
    "pycharm": {
     "name": "#%%\n"
    }
   },
   "outputs": [],
   "source": [
    "DAY = 25\n",
    "inp = get_input_lines(DAY, 2021)\n",
    "part_1 = 0"
   ]
  },
  {
   "cell_type": "code",
   "execution_count": 21,
   "id": "90f08a0c",
   "metadata": {
    "pycharm": {
     "name": "#%%\n"
    }
   },
   "outputs": [],
   "source": [
    "grid = Grid(inp)"
   ]
  },
  {
   "cell_type": "code",
   "execution_count": 22,
   "id": "cb750dcb",
   "metadata": {},
   "outputs": [],
   "source": [
    "def step(grid: Grid[str]):\n",
    "    new = grid.of_val_width_height(\".\", grid.width, grid.height)\n",
    "    assert new.width == grid.width and new.height == grid.height\n",
    "    for pos in grid.positions():\n",
    "        x, y = pos\n",
    "        if grid[pos] == \".\":\n",
    "            continue\n",
    "        \n",
    "        if grid[pos] == \">\":\n",
    "            nx = (x + 1) % grid.width\n",
    "            if grid[nx, y] == \".\":\n",
    "                new[nx, y] = \">\"\n",
    "            else:\n",
    "                new[pos] = \">\"\n",
    "                \n",
    "        elif grid[pos] == \"v\":\n",
    "            ny = (pos[1] + 1) % grid.height\n",
    "            if grid[x, ny] == \">\":\n",
    "                nx = (x + 1)  % grid.width\n",
    "                if grid[nx, ny] == \".\":\n",
    "                    new[x, ny] = \"v\"\n",
    "                else:\n",
    "                    new[pos] = \"v\"\n",
    "            elif grid[x, ny] == \".\":\n",
    "                nx = (x - 1)  % grid.width\n",
    "                if grid[nx, ny] != \">\":\n",
    "                    new[x, ny] = \"v\"\n",
    "                else:\n",
    "                    new[pos] = \"v\"\n",
    "            else:\n",
    "                new[pos] = \"v\"\n",
    "            \n",
    "    return new"
   ]
  },
  {
   "cell_type": "code",
   "execution_count": 23,
   "id": "124fbf3d",
   "metadata": {},
   "outputs": [
    {
     "data": {
      "text/html": [
       "<pre style=\"white-space:pre;overflow-x:auto;line-height:normal;font-family:Menlo,'DejaVu Sans Mono',consolas,'Courier New',monospace\">v&gt;&gt;vvvvvvvvvvvvv vv  vv                                                                     \n",
       "&gt;&gt;&gt;&gt;&gt;&gt;&gt;&gt;&gt;&gt;&gt;&gt;&gt;&gt;&gt;&gt;&gt;&gt;&gt;&gt;&gt;&gt;&gt;&gt;&gt;&gt;&gt;&gt;&gt;v&gt;&gt;&gt;&gt;&gt;vv&gt;vvvvvvvvv\n",
       "vv&gt;&gt;vvvvvvvvvvvv vvv vv                                                                      \n",
       "&gt;&gt;&gt;&gt;&gt;&gt;&gt;&gt;&gt;&gt;&gt;&gt;&gt;&gt;&gt;&gt;&gt;&gt;&gt;&gt;&gt;&gt;&gt;&gt;&gt;&gt;&gt;&gt;&gt;v&gt;&gt;&gt;&gt;&gt;vv&gt;vvvvvvvv\n",
       "vvv&gt;&gt;vvvvvvvvvvv vvv vv                                                                      \n",
       "&gt;&gt;&gt;&gt;&gt;&gt;&gt;&gt;&gt;&gt;&gt;&gt;&gt;&gt;&gt;&gt;&gt;&gt;&gt;&gt;&gt;&gt;&gt;&gt;&gt;&gt;&gt;&gt;v&gt;&gt;&gt;&gt;&gt;vv&gt;vvvvvvv\n",
       "vvvv&gt;&gt;vvvvvvvvvvvvvvvvv                                                                      \n",
       "&gt;&gt;&gt;&gt;&gt;&gt;&gt;&gt;&gt;&gt;&gt;&gt;&gt;&gt;&gt;&gt;&gt;&gt;&gt;&gt;&gt;&gt;&gt;&gt;v&gt;&gt;&gt;&gt;&gt;vv&gt;vvvvvv\n",
       "vvvvv&gt;&gt;vvvvvvvvvvvvvvvv    v                                                                 \n",
       "&gt;&gt;&gt;&gt;&gt;&gt;&gt;&gt;&gt;&gt;&gt;&gt;&gt;&gt;v       &gt;&gt;&gt;&gt;&gt;&gt;&gt;v&gt;&gt;&gt;vv&gt;vvvvv\n",
       "vvvvvv&gt;&gt;vvvvvvvvvvvvvvv  vvv v                                                               \n",
       "&gt;&gt;&gt;&gt;&gt;&gt;&gt;&gt;&gt;&gt;&gt;&gt;&gt;&gt;&gt;v     &gt;&gt;&gt;&gt;&gt;&gt;&gt;&gt;&gt;&gt;&gt;&gt;vvv&gt;vvvv\n",
       "vvvvvvv&gt;&gt;vvvvvvvvvvvvvv  vvv v                                                               \n",
       "&gt;&gt;&gt;&gt;&gt;&gt;&gt;&gt;&gt;&gt;&gt;&gt;&gt;&gt;&gt;v      &gt;&gt;&gt;&gt;&gt;&gt;&gt;&gt;&gt;&gt;&gt;vvv&gt;vvv\n",
       "vvvvvvvv&gt;&gt;vvvvvvvvvv\n",
       "</pre>\n"
      ],
      "text/plain": [
       "v>>vvvvvvvvvvvvv vv  vv                                                                     \n",
       ">>>>>>>>>>>>>>>>>>>>>>>>>>>>>v>>>>>vv>vvvvvvvvv\n",
       "vv>>vvvvvvvvvvvv vvv vv                                                                      \n",
       ">>>>>>>>>>>>>>>>>>>>>>>>>>>>>v>>>>>vv>vvvvvvvv\n",
       "vvv>>vvvvvvvvvvv vvv vv                                                                      \n",
       ">>>>>>>>>>>>>>>>>>>>>>>>>>>>v>>>>>vv>vvvvvvv\n",
       "vvvv>>vvvvvvvvvvvvvvvvv                                                                      \n",
       ">>>>>>>>>>>>>>>>>>>>>>>>v>>>>>vv>vvvvvv\n",
       "vvvvv>>vvvvvvvvvvvvvvvv    v                                                                 \n",
       ">>>>>>>>>>>>>>v       >>>>>>>v>>>vv>vvvvv\n",
       "vvvvvv>>vvvvvvvvvvvvvvv  vvv v                                                               \n",
       ">>>>>>>>>>>>>>>v     >>>>>>>>>>>>vvv>vvvv\n",
       "vvvvvvv>>vvvvvvvvvvvvvv  vvv v                                                               \n",
       ">>>>>>>>>>>>>>>v      >>>>>>>>>>>vvv>vvv\n",
       "vvvvvvvv>>vvvvvvvvvv\n"
      ]
     },
     "metadata": {},
     "output_type": "display_data"
    }
   ],
   "source": [
    "prev = None\n",
    "i = 0\n",
    "while prev is None or grid != prev:\n",
    "    prev = grid\n",
    "    grid = step(grid)\n",
    "    i += 1\n",
    "part_1 = i\n",
    "\n",
    "open(\"test.txt\", \"w+\").write(grid.str_aligned_l(sep=\"\").replace(\".\", \" \"))"
   ]
  },
  {
   "cell_type": "code",
   "execution_count": 24,
   "id": "c648850c",
   "metadata": {
    "pycharm": {
     "name": "#%%\n"
    }
   },
   "outputs": [
    {
     "data": {
      "text/html": [
       "<pre style=\"white-space:pre;overflow-x:auto;line-height:normal;font-family:Menlo,'DejaVu Sans Mono',consolas,'Courier New',monospace\"><span style=\"color: #008000; text-decoration-color: #008000; font-weight: bold\">Part </span><span style=\"color: #008000; text-decoration-color: #008000; font-weight: bold\">1</span><span style=\"color: #008000; text-decoration-color: #008000; font-weight: bold\">:</span> <span style=\"color: #008080; text-decoration-color: #008080; font-weight: bold\">571</span>\n",
       "</pre>\n"
      ],
      "text/plain": [
       "\u001b[1;32mPart \u001b[0m\u001b[1;32m1\u001b[0m\u001b[1;32m:\u001b[0m \u001b[1;36m571\u001b[0m\n"
      ]
     },
     "metadata": {},
     "output_type": "display_data"
    }
   ],
   "source": [
    "print_part_1(part_1)"
   ]
  }
 ],
 "metadata": {
  "kernelspec": {
   "display_name": "Python 3 (ipykernel)",
   "language": "python",
   "name": "python3"
  },
  "language_info": {
   "codemirror_mode": {
    "name": "ipython",
    "version": 3
   },
   "file_extension": ".py",
   "mimetype": "text/x-python",
   "name": "python",
   "nbconvert_exporter": "python",
   "pygments_lexer": "ipython3",
   "version": "3.8.12"
  }
 },
 "nbformat": 4,
 "nbformat_minor": 25
}
