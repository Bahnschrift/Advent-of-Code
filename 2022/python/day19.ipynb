{
 "cells": [
  {
   "cell_type": "markdown",
   "metadata": {},
   "source": [
    "# Advent of Code 2022\n",
    "## Day 19\n",
    "*<https://adventofcode.com/2022/day/19>*"
   ]
  },
  {
   "cell_type": "code",
   "execution_count": 1,
   "metadata": {},
   "outputs": [],
   "source": [
    "import IPython\n",
    "import math\n",
    "import re\n",
    "from new_helper import *\n",
    "from itertools import product, combinations, permutations\n",
    "from collections import Counter, defaultdict, deque\n",
    "from string import ascii_lowercase, ascii_uppercase, ascii_letters\n",
    "from rich import inspect, print, pretty\n",
    "\n",
    "pretty.install()"
   ]
  },
  {
   "cell_type": "code",
   "execution_count": 2,
   "metadata": {},
   "outputs": [],
   "source": [
    "DAY = 19\n",
    "inp = get_aoc_input(DAY, 2022)\n",
    "part_1 = part_2 = 0"
   ]
  },
  {
   "cell_type": "code",
   "execution_count": 3,
   "metadata": {},
   "outputs": [],
   "source": [
    "inp = inp.parse_lines()"
   ]
  },
  {
   "cell_type": "code",
   "execution_count": 4,
   "metadata": {},
   "outputs": [],
   "source": [
    "class Blueprint:\n",
    "    def __init__(\n",
    "        self,\n",
    "        n: int,\n",
    "        ore_cost_ore: int,\n",
    "        clay_cost_ore: int,\n",
    "        obsidian_cost_ore: int,\n",
    "        obsidian_cost_clay: int,\n",
    "        geode_cost_ore: int,\n",
    "        geode_cost_obsidian: int,\n",
    "    ):\n",
    "        self.n = n\n",
    "        self.ore_cost_ore = ore_cost_ore\n",
    "        self.clay_cost_ore = clay_cost_ore\n",
    "        self.obsidian_cost_ore = obsidian_cost_ore\n",
    "        self.obsidian_cost_clay = obsidian_cost_clay\n",
    "        self.geode_cost_ore = geode_cost_ore\n",
    "        self.geode_cost_obsidian = geode_cost_obsidian\n",
    "\n",
    "    def __repr__(self) -> str:\n",
    "        return (\n",
    "            f\"Blueprint {self.n} = \"\n",
    "            + f\"(ORE: {self.ore_cost_ore} ore), \"\n",
    "            + f\"(CLAY: {self.clay_cost_ore} ore), \"\n",
    "            + f\"(OBSDIAN: {self.obsidian_cost_ore} ore, {self.obsidian_cost_clay} clay), \"\n",
    "            + f\"(GEODE: {self.geode_cost_ore} ore, {self.geode_cost_obsidian} obsidian)\"\n",
    "        )"
   ]
  },
  {
   "cell_type": "code",
   "execution_count": 5,
   "metadata": {},
   "outputs": [],
   "source": [
    "def parse_blueprint(line: str) -> Blueprint:\n",
    "    n, ore_cost, clay_cost, obsidian_cost_1, obsidian_cost_2, geode_cost_1, geode_cost_2 = ints(line)\n",
    "    return Blueprint(n, ore_cost, clay_cost, obsidian_cost_1, obsidian_cost_2, geode_cost_1, geode_cost_2)"
   ]
  },
  {
   "cell_type": "code",
   "execution_count": 6,
   "metadata": {},
   "outputs": [],
   "source": [
    "def eval_blueprint(B: Blueprint, max_time: int) -> int:\n",
    "    best_geodes = 0\n",
    "    queue: deque[tuple[int, ...]] = deque([(0, 0, 0, 0, 1, 0, 0, 0, 0)])\n",
    "    visited = set()\n",
    "\n",
    "    ore_cap = max(B.ore_cost_ore, B.clay_cost_ore, B.obsidian_cost_ore, B.geode_cost_ore)\n",
    "\n",
    "    while queue:\n",
    "        ore, clay, obsidian, geodes, ore_tick, clay_tick, obsidian_tick, geode_tick, tick = queue.popleft()\n",
    "\n",
    "        if tick == max_time:\n",
    "            best_geodes = max(best_geodes, geodes)\n",
    "            continue\n",
    "\n",
    "        ore_tick = min(ore_tick, ore_cap)\n",
    "        clay_tick = min(clay_tick, B.obsidian_cost_clay)\n",
    "        obsidian_tick = min(obsidian_tick, B.geode_cost_obsidian)\n",
    "\n",
    "        time_left = max_time - tick\n",
    "        ore = min(ore, time_left * ore_cap - ore_tick * (time_left - 1))\n",
    "        clay = min(clay, time_left * B.obsidian_cost_clay - clay_tick * (time_left - 1))\n",
    "        obsidian = min(obsidian, time_left * B.geode_cost_obsidian - obsidian_tick * (time_left - 1))\n",
    "\n",
    "        state = (ore, clay, obsidian, geodes, ore_tick, clay_tick, obsidian_tick, geode_tick, tick)\n",
    "        if state in visited:\n",
    "            continue\n",
    "        visited.add(state)\n",
    "\n",
    "        queue.append(\n",
    "            (\n",
    "                ore + ore_tick,\n",
    "                clay + clay_tick,\n",
    "                obsidian + obsidian_tick,\n",
    "                geodes + geode_tick,\n",
    "                ore_tick,\n",
    "                clay_tick,\n",
    "                obsidian_tick,\n",
    "                geode_tick,\n",
    "                tick + 1,\n",
    "            )\n",
    "        )\n",
    "\n",
    "        if ore >= B.ore_cost_ore:\n",
    "            queue.append(\n",
    "                (\n",
    "                    ore + ore_tick - B.ore_cost_ore,\n",
    "                    clay + clay_tick,\n",
    "                    obsidian + obsidian_tick,\n",
    "                    geodes + geode_tick,\n",
    "                    ore_tick + 1,\n",
    "                    clay_tick,\n",
    "                    obsidian_tick,\n",
    "                    geode_tick,\n",
    "                    tick + 1,\n",
    "                )\n",
    "            )\n",
    "\n",
    "        if ore >= B.clay_cost_ore:\n",
    "            queue.append(\n",
    "                (\n",
    "                    ore + ore_tick - B.clay_cost_ore,\n",
    "                    clay + clay_tick,\n",
    "                    obsidian + obsidian_tick,\n",
    "                    geodes + geode_tick,\n",
    "                    ore_tick,\n",
    "                    clay_tick + 1,\n",
    "                    obsidian_tick,\n",
    "                    geode_tick,\n",
    "                    tick + 1,\n",
    "                )\n",
    "            )\n",
    "\n",
    "        if ore >= B.obsidian_cost_ore and clay >= B.obsidian_cost_clay:\n",
    "            queue.append(\n",
    "                (\n",
    "                    ore + ore_tick - B.obsidian_cost_ore,\n",
    "                    clay + clay_tick - B.obsidian_cost_clay,\n",
    "                    obsidian + obsidian_tick,\n",
    "                    geodes + geode_tick,\n",
    "                    ore_tick,\n",
    "                    clay_tick,\n",
    "                    obsidian_tick + 1,\n",
    "                    geode_tick,\n",
    "                    tick + 1,\n",
    "                )\n",
    "            )\n",
    "\n",
    "        if ore >= B.geode_cost_ore and obsidian >= B.geode_cost_obsidian:\n",
    "            queue.append(\n",
    "                (\n",
    "                    ore + ore_tick - B.geode_cost_ore,\n",
    "                    clay + clay_tick,\n",
    "                    obsidian + obsidian_tick - B.geode_cost_obsidian,\n",
    "                    geodes + geode_tick,\n",
    "                    ore_tick,\n",
    "                    clay_tick,\n",
    "                    obsidian_tick,\n",
    "                    geode_tick + 1,\n",
    "                    tick + 1,\n",
    "                )\n",
    "            )\n",
    "\n",
    "    return best_geodes"
   ]
  },
  {
   "cell_type": "code",
   "execution_count": 7,
   "metadata": {},
   "outputs": [],
   "source": [
    "blueprints = list(map(parse_blueprint, inp))\n",
    "part_1 = sum(n * eval_blueprint(blueprint, 24) for n, blueprint in enumerate(blueprints, 1))\n",
    "part_2 = math.prod(eval_blueprint(blueprint, 32) for blueprint in blueprints[:3])"
   ]
  },
  {
   "cell_type": "code",
   "execution_count": 8,
   "metadata": {},
   "outputs": [
    {
     "data": {
      "text/html": [
       "<pre style=\"white-space:pre;overflow-x:auto;line-height:normal;font-family:Menlo,'DejaVu Sans Mono',consolas,'Courier New',monospace\"><span style=\"color: #008000; text-decoration-color: #008000; font-weight: bold\">Part </span><span style=\"color: #008000; text-decoration-color: #008000; font-weight: bold\">1</span>: <span style=\"color: #008080; text-decoration-color: #008080; font-weight: bold\">1418</span>\n",
       "</pre>\n"
      ],
      "text/plain": [
       "\u001b[1;32mPart \u001b[0m\u001b[1;32m1\u001b[0m: \u001b[1;36m1418\u001b[0m\n"
      ]
     },
     "metadata": {},
     "output_type": "display_data"
    },
    {
     "data": {
      "text/html": [
       "<pre style=\"white-space:pre;overflow-x:auto;line-height:normal;font-family:Menlo,'DejaVu Sans Mono',consolas,'Courier New',monospace\"><span style=\"color: #008000; text-decoration-color: #008000; font-weight: bold\">Part </span><span style=\"color: #008000; text-decoration-color: #008000; font-weight: bold\">2</span>: <span style=\"color: #008080; text-decoration-color: #008080; font-weight: bold\">4114</span>\n",
       "</pre>\n"
      ],
      "text/plain": [
       "\u001b[1;32mPart \u001b[0m\u001b[1;32m2\u001b[0m: \u001b[1;36m4114\u001b[0m\n"
      ]
     },
     "metadata": {},
     "output_type": "display_data"
    }
   ],
   "source": [
    "print_part_1(part_1)\n",
    "print_part_2(part_2)"
   ]
  },
  {
   "cell_type": "code",
   "execution_count": 9,
   "metadata": {},
   "outputs": [],
   "source": [
    "# submit_part_1(part_1, DAY, 2022)\n",
    "# submit_part_2(part_2, DAY, 2022)"
   ]
  }
 ],
 "metadata": {
  "kernelspec": {
   "display_name": "venv",
   "language": "python",
   "name": "python3"
  },
  "language_info": {
   "codemirror_mode": {
    "name": "ipython",
    "version": 3
   },
   "file_extension": ".py",
   "mimetype": "text/x-python",
   "name": "python",
   "nbconvert_exporter": "python",
   "pygments_lexer": "ipython3",
   "version": "3.11.1"
  },
  "orig_nbformat": 4,
  "vscode": {
   "interpreter": {
    "hash": "1deb42c3241d521f6003b1a68e85a16645dc710c5467eba0d538286ef971f2c2"
   }
  }
 },
 "nbformat": 4,
 "nbformat_minor": 2
}
