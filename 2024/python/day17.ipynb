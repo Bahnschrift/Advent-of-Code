{
 "cells": [
  {
   "cell_type": "markdown",
   "metadata": {},
   "source": [
    "# Advent of Code 2024\n",
    "## Day 17\n",
    "*<https://adventofcode.com/2024/day/17>*"
   ]
  },
  {
   "cell_type": "code",
   "execution_count": 1,
   "metadata": {},
   "outputs": [],
   "source": [
    "import heapq\n",
    "import math\n",
    "import re\n",
    "import functools as ft\n",
    "from collections import Counter, defaultdict, deque, namedtuple\n",
    "from itertools import combinations, permutations, product\n",
    "from string import ascii_letters, ascii_lowercase, ascii_uppercase\n",
    "\n",
    "# import z3\n",
    "from rich import inspect, pretty, print\n",
    "\n",
    "from new_helper import *\n",
    "\n",
    "pretty.install()\n",
    "\n",
    "try:\n",
    "    import ipykernel\n",
    "\n",
    "    with open(\"kernel\", \"w+\") as f:\n",
    "        f.write(ipykernel.get_connection_file())\n",
    "except:\n",
    "    pass"
   ]
  },
  {
   "cell_type": "code",
   "execution_count": 2,
   "metadata": {},
   "outputs": [],
   "source": [
    "DAY = 17\n",
    "YEAR = 2024\n",
    "input_str = get_aoc_input(DAY, 2024)\n",
    "part_1 = \"\"\n",
    "part_2 = 0"
   ]
  },
  {
   "cell_type": "code",
   "execution_count": 3,
   "metadata": {},
   "outputs": [],
   "source": [
    "inp = input_str.parse_groups()"
   ]
  },
  {
   "cell_type": "code",
   "execution_count": 4,
   "metadata": {},
   "outputs": [],
   "source": [
    "def combo(n, a, b, c):\n",
    "    if n <= 3:\n",
    "        return n\n",
    "    elif n == 4:\n",
    "        return a\n",
    "    elif n == 5:\n",
    "        return b\n",
    "    elif n == 6:\n",
    "        return c\n",
    "    else:\n",
    "        raise ValueError(f\"Invalid combo operand {n}\")\n",
    "\n",
    "\n",
    "def run(ins: list[int], a: int, b: int, c: int) -> list[int]:\n",
    "    ip = 0\n",
    "    out = []\n",
    "\n",
    "    while ip < len(ins):\n",
    "        op = ins[ip]\n",
    "        n = ins[ip + 1]\n",
    "        ip += 2\n",
    "\n",
    "        match op:\n",
    "            case 0:  # adv\n",
    "                a //= 2 ** combo(n, a, b, c)\n",
    "            case 1:  # bxl\n",
    "                b ^= n\n",
    "            case 2:  # bst\n",
    "                b = combo(n, a, b, c) % 8\n",
    "            case 3:  # jnz\n",
    "                if a != 0:\n",
    "                    ip = n\n",
    "            case 4:  # bxc\n",
    "                b ^= c\n",
    "            case 5:  # out\n",
    "                out.append(combo(n, a, b, c) % 8)\n",
    "            case 6:  # bdv\n",
    "                b = a // 2 ** combo(n, a, b, c)\n",
    "            case 7:  # cdv\n",
    "                c = a // 2 ** combo(n, a, b, c)\n",
    "            case _:\n",
    "                raise ValueError(f\"Invalid operator {op}\")\n",
    "\n",
    "    return out"
   ]
  },
  {
   "cell_type": "code",
   "execution_count": 5,
   "metadata": {},
   "outputs": [],
   "source": [
    "a, b, c = ints(\"\".join(inp[0]))\n",
    "ins = ints(inp[1][0])\n",
    "part_1 = \",\".join(map(str, run(ins, a, b, c)))"
   ]
  },
  {
   "cell_type": "code",
   "execution_count": 6,
   "metadata": {},
   "outputs": [],
   "source": [
    "# for i in range(0, 20):\n",
    "#     print((i, bin(i), run(ins, i, b, c)))"
   ]
  },
  {
   "cell_type": "code",
   "execution_count": 7,
   "metadata": {},
   "outputs": [],
   "source": [
    "Q = deque()\n",
    "Q.append((1, 0))\n",
    "\n",
    "part_2 = 99999999999999999999\n",
    "while Q:\n",
    "    l, a = Q.pop()\n",
    "    for i in range(8):\n",
    "        na = a << 3 | i\n",
    "        if (out := run(ins, na, b, c)) == ins[-l:]:\n",
    "            if l == len(ins):\n",
    "                part_2 = min(part_2, na)\n",
    "\n",
    "            Q.append((l + 1, na))"
   ]
  },
  {
   "cell_type": "code",
   "execution_count": 8,
   "metadata": {},
   "outputs": [
    {
     "data": {
      "text/html": [
       "<pre style=\"white-space:pre;overflow-x:auto;line-height:normal;font-family:Menlo,'DejaVu Sans Mono',consolas,'Courier New',monospace\"><span style=\"color: #008000; text-decoration-color: #008000; font-weight: bold\">Part </span><span style=\"color: #008000; text-decoration-color: #008000; font-weight: bold\">1</span>: <span style=\"color: #008080; text-decoration-color: #008080; font-weight: bold\">2</span>,<span style=\"color: #008080; text-decoration-color: #008080; font-weight: bold\">0</span>,<span style=\"color: #008080; text-decoration-color: #008080; font-weight: bold\">7</span>,<span style=\"color: #008080; text-decoration-color: #008080; font-weight: bold\">3</span>,<span style=\"color: #008080; text-decoration-color: #008080; font-weight: bold\">0</span>,<span style=\"color: #008080; text-decoration-color: #008080; font-weight: bold\">3</span>,<span style=\"color: #008080; text-decoration-color: #008080; font-weight: bold\">1</span>,<span style=\"color: #008080; text-decoration-color: #008080; font-weight: bold\">3</span>,<span style=\"color: #008080; text-decoration-color: #008080; font-weight: bold\">7</span>\n",
       "</pre>\n"
      ],
      "text/plain": [
       "\u001b[1;32mPart \u001b[0m\u001b[1;32m1\u001b[0m: \u001b[1;36m2\u001b[0m,\u001b[1;36m0\u001b[0m,\u001b[1;36m7\u001b[0m,\u001b[1;36m3\u001b[0m,\u001b[1;36m0\u001b[0m,\u001b[1;36m3\u001b[0m,\u001b[1;36m1\u001b[0m,\u001b[1;36m3\u001b[0m,\u001b[1;36m7\u001b[0m\n"
      ]
     },
     "metadata": {},
     "output_type": "display_data"
    },
    {
     "data": {
      "text/html": [
       "<pre style=\"white-space:pre;overflow-x:auto;line-height:normal;font-family:Menlo,'DejaVu Sans Mono',consolas,'Courier New',monospace\"><span style=\"color: #008000; text-decoration-color: #008000; font-weight: bold\">Part </span><span style=\"color: #008000; text-decoration-color: #008000; font-weight: bold\">2</span>: <span style=\"color: #008080; text-decoration-color: #008080; font-weight: bold\">247839539763386</span>\n",
       "</pre>\n"
      ],
      "text/plain": [
       "\u001b[1;32mPart \u001b[0m\u001b[1;32m2\u001b[0m: \u001b[1;36m247839539763386\u001b[0m\n"
      ]
     },
     "metadata": {},
     "output_type": "display_data"
    }
   ],
   "source": [
    "print_part_1(part_1)\n",
    "print_part_2(part_2)"
   ]
  }
 ],
 "metadata": {
  "kernelspec": {
   "display_name": ".venv-pypy",
   "language": "python",
   "name": "python3"
  },
  "language_info": {
   "codemirror_mode": {
    "name": "ipython",
    "version": 3
   },
   "file_extension": ".py",
   "mimetype": "text/x-python",
   "name": "python",
   "nbconvert_exporter": "python",
   "pygments_lexer": "ipython3",
   "version": "3.10.14"
  },
  "orig_nbformat": 4
 },
 "nbformat": 4,
 "nbformat_minor": 2
}
