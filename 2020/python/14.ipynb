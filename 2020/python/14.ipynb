{
 "cells": [
  {
   "cell_type": "markdown",
   "metadata": {},
   "source": [
    "# Advent of code 2020: Day 14"
   ]
  },
  {
   "cell_type": "markdown",
   "metadata": {},
   "source": [
    "## Import"
   ]
  },
  {
   "cell_type": "code",
   "execution_count": 1,
   "metadata": {},
   "outputs": [],
   "source": [
    "import math as M\n",
    "import collections as C\n",
    "import itertools as I\n",
    "from helper import *\n",
    "\n",
    "\n",
    "day = 14\n",
    "data = get_input_lines(day, 2020)"
   ]
  },
  {
   "cell_type": "markdown",
   "metadata": {},
   "source": [
    "## Part 1"
   ]
  },
  {
   "cell_type": "code",
   "execution_count": 2,
   "metadata": {},
   "outputs": [
    {
     "data": {
      "text/html": [
       "<pre style=\"white-space:pre;overflow-x:auto;line-height:normal;font-family:Menlo,'DejaVu Sans Mono',consolas,'Courier New',monospace\"><span style=\"color: #008080; text-decoration-color: #008080; font-weight: bold\">8471403462063</span>\n",
       "</pre>\n"
      ],
      "text/plain": [
       "\u001b[1;36m8471403462063\u001b[0m\n"
      ]
     },
     "metadata": {},
     "output_type": "display_data"
    }
   ],
   "source": [
    "def apply_mask(new_val, mask):\n",
    "    new_val = bin(new_val)[2:].zfill(len(mask))\n",
    "    new = \"\"\n",
    "    for x, val in enumerate(mask):\n",
    "        if val == \"X\":\n",
    "            new += new_val[x]\n",
    "        else:\n",
    "            new += val\n",
    "    return int(new, 2)\n",
    "\n",
    "\n",
    "mask = \"\"\n",
    "mem = {}\n",
    "t = 0\n",
    "for line in data:\n",
    "    if \"mask = \" in line:\n",
    "        mask = line.split(\" = \")[1]\n",
    "    else:\n",
    "        mem_ind, mem_val = ints(line)\n",
    "        mem[mem_ind] = apply_mask(mem_val, mask)\n",
    "for bit in mem:\n",
    "    t += mem[bit]\n",
    "\n",
    "print(t)"
   ]
  },
  {
   "cell_type": "markdown",
   "metadata": {},
   "source": [
    "## Part 2"
   ]
  },
  {
   "cell_type": "code",
   "execution_count": 3,
   "metadata": {},
   "outputs": [
    {
     "data": {
      "text/html": [
       "<pre style=\"white-space:pre;overflow-x:auto;line-height:normal;font-family:Menlo,'DejaVu Sans Mono',consolas,'Courier New',monospace\"><span style=\"color: #008080; text-decoration-color: #008080; font-weight: bold\">2667858637669</span>\n",
       "</pre>\n"
      ],
      "text/plain": [
       "\u001b[1;36m2667858637669\u001b[0m\n"
      ]
     },
     "metadata": {},
     "output_type": "display_data"
    }
   ],
   "source": [
    "mask = \"X\" * 36\n",
    "flot = 0\n",
    "mem = {}\n",
    "for line in data:\n",
    "    if \"mask = \" in line:\n",
    "        mask = line.split(\" = \")[1]\n",
    "        flot = mask.count(\"X\")\n",
    "    else:\n",
    "        mem_ind, mem_val = ints(line)\n",
    "        mem_ind = \"0\" * (38 - len(bin(mem_ind))) + bin(mem_ind)[2:]\n",
    "\n",
    "        result = \"\"\n",
    "        for x in range(36):\n",
    "            if mask[x] in \"X1\":\n",
    "                result += mask[x]\n",
    "            else:\n",
    "                result += mem_ind[x]\n",
    "\n",
    "        changes = I.product(\"10\", repeat=flot)\n",
    "        for change in changes:\n",
    "            new = list(result)\n",
    "            t = 0\n",
    "            for x, c in enumerate(result):\n",
    "                if c == \"X\":\n",
    "                    new[x] = change[t]\n",
    "                    t += 1\n",
    "            mem[int(\"\".join(new), 2)] = mem_val\n",
    "\n",
    "print(sum(mem.values()))"
   ]
  }
 ],
 "metadata": {
  "kernelspec": {
   "display_name": "Python 3.10.4 ('venv': venv)",
   "language": "python",
   "name": "python3"
  },
  "language_info": {
   "codemirror_mode": {
    "name": "ipython",
    "version": 3
   },
   "file_extension": ".py",
   "mimetype": "text/x-python",
   "name": "python",
   "nbconvert_exporter": "python",
   "pygments_lexer": "ipython3",
   "version": "3.10.4"
  },
  "orig_nbformat": 2,
  "vscode": {
   "interpreter": {
    "hash": "1deb42c3241d521f6003b1a68e85a16645dc710c5467eba0d538286ef971f2c2"
   }
  }
 },
 "nbformat": 4,
 "nbformat_minor": 2
}
