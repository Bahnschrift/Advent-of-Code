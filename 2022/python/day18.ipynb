{
 "cells": [
  {
   "cell_type": "markdown",
   "metadata": {},
   "source": [
    "# Advent of Code 2022\n",
    "## Day 18\n",
    "*<https://adventofcode.com/2022/day/18>*"
   ]
  },
  {
   "cell_type": "code",
   "execution_count": 252,
   "metadata": {},
   "outputs": [],
   "source": [
    "import IPython\n",
    "import math\n",
    "import re\n",
    "from new_helper import *\n",
    "from itertools import product, combinations, permutations\n",
    "from collections import Counter, defaultdict\n",
    "from string import ascii_lowercase, ascii_uppercase, ascii_letters\n",
    "from rich import inspect, print, pretty\n",
    "\n",
    "pretty.install()"
   ]
  },
  {
   "cell_type": "code",
   "execution_count": 253,
   "metadata": {},
   "outputs": [],
   "source": [
    "DAY = 18\n",
    "inp = get_aoc_input(DAY, 2022)\n",
    "part_1 = part_2 = 0"
   ]
  },
  {
   "cell_type": "code",
   "execution_count": 255,
   "metadata": {},
   "outputs": [],
   "source": [
    "inp = inp.parse_lines()\n",
    "grid = InfiniteGrid([((tuple(ints(pos))), \"#\") for pos in inp], \".\")"
   ]
  },
  {
   "cell_type": "code",
   "execution_count": 257,
   "metadata": {},
   "outputs": [],
   "source": [
    "surface_area = 0\n",
    "for pos in grid.positions():\n",
    "    adjacent = grid.adjacent_orth_values(pos)\n",
    "    surface_area += adjacent.count(\".\")\n",
    "\n",
    "part_1 = surface_area"
   ]
  },
  {
   "cell_type": "code",
   "execution_count": 258,
   "metadata": {},
   "outputs": [],
   "source": [
    "((x_min, y_min, z_min), (x_max, y_max, z_max)) = grid.bounds()\n",
    "interiors = set()\n",
    "\n",
    "for x in range(x_min, x_max + 1):\n",
    "    for y in range(y_min, y_max + 1):\n",
    "        for z in range(z_min, z_max + 1):\n",
    "            pos = (x, y, z)\n",
    "            if grid[pos] == \"#\" or pos in interiors:\n",
    "                continue\n",
    "\n",
    "            pocket = set()\n",
    "            i = 0\n",
    "            stack = [pos]\n",
    "            while stack:\n",
    "                pos = stack.pop()\n",
    "                if pos[0] < x_min or pos[0] > x_max or pos[1] < y_min or pos[1] > y_max or pos[2] < z_min or pos[2] > z_max:\n",
    "                    break\n",
    "\n",
    "                if pos in pocket:\n",
    "                    continue\n",
    "\n",
    "                i += 1\n",
    "                pocket.add(pos)\n",
    "                for (adj_pos, adj_val) in grid.adjacent_orth_items(pos):\n",
    "                    if adj_val == \".\" and adj_pos not in pocket:\n",
    "                        stack.append(adj_pos)\n",
    "\n",
    "            else:\n",
    "                interiors.update(pocket)\n",
    "\n",
    "part_2 = part_1\n",
    "for pos in interiors:\n",
    "    adjacent = grid.adjacent_orth_values(pos)\n",
    "    part_2 -= adjacent.count(\"#\")"
   ]
  },
  {
   "cell_type": "code",
   "execution_count": 259,
   "metadata": {},
   "outputs": [
    {
     "data": {
      "text/html": [
       "<pre style=\"white-space:pre;overflow-x:auto;line-height:normal;font-family:Menlo,'DejaVu Sans Mono',consolas,'Courier New',monospace\"><span style=\"color: #008000; text-decoration-color: #008000; font-weight: bold\">Part </span><span style=\"color: #008000; text-decoration-color: #008000; font-weight: bold\">1</span>: <span style=\"color: #008080; text-decoration-color: #008080; font-weight: bold\">3466</span>\n",
       "</pre>\n"
      ],
      "text/plain": [
       "\u001b[1;32mPart \u001b[0m\u001b[1;32m1\u001b[0m: \u001b[1;36m3466\u001b[0m\n"
      ]
     },
     "metadata": {},
     "output_type": "display_data"
    },
    {
     "data": {
      "text/html": [
       "<pre style=\"white-space:pre;overflow-x:auto;line-height:normal;font-family:Menlo,'DejaVu Sans Mono',consolas,'Courier New',monospace\"><span style=\"color: #008000; text-decoration-color: #008000; font-weight: bold\">Part </span><span style=\"color: #008000; text-decoration-color: #008000; font-weight: bold\">2</span>: <span style=\"color: #008080; text-decoration-color: #008080; font-weight: bold\">2012</span>\n",
       "</pre>\n"
      ],
      "text/plain": [
       "\u001b[1;32mPart \u001b[0m\u001b[1;32m2\u001b[0m: \u001b[1;36m2012\u001b[0m\n"
      ]
     },
     "metadata": {},
     "output_type": "display_data"
    }
   ],
   "source": [
    "print_part_1(part_1)\n",
    "print_part_2(part_2)"
   ]
  },
  {
   "cell_type": "code",
   "execution_count": 260,
   "metadata": {},
   "outputs": [],
   "source": [
    "# submit_part_1(part_1, DAY, 2022)\n",
    "# submit_part_2(part_2, DAY, 2022)"
   ]
  }
 ],
 "metadata": {
  "kernelspec": {
   "display_name": "venv",
   "language": "python",
   "name": "python3"
  },
  "language_info": {
   "codemirror_mode": {
    "name": "ipython",
    "version": 3
   },
   "file_extension": ".py",
   "mimetype": "text/x-python",
   "name": "python",
   "nbconvert_exporter": "python",
   "pygments_lexer": "ipython3",
   "version": "3.11.1"
  },
  "orig_nbformat": 4,
  "vscode": {
   "interpreter": {
    "hash": "1deb42c3241d521f6003b1a68e85a16645dc710c5467eba0d538286ef971f2c2"
   }
  }
 },
 "nbformat": 4,
 "nbformat_minor": 2
}
