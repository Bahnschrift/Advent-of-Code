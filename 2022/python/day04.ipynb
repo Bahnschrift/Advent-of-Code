{
 "cells": [
  {
   "cell_type": "markdown",
   "metadata": {},
   "source": [
    "# Advent of Code 2022\n",
    "## Day 4\n",
    "*<https://adventofcode.com/2022/day/4>*"
   ]
  },
  {
   "cell_type": "code",
   "execution_count": 1,
   "metadata": {},
   "outputs": [],
   "source": [
    "import IPython\n",
    "import math\n",
    "import re\n",
    "from helper import *\n",
    "from itertools import product, combinations, permutations\n",
    "from collections import Counter, defaultdict\n",
    "from rich import inspect, print, pretty\n",
    "pretty.install()"
   ]
  },
  {
   "cell_type": "code",
   "execution_count": 2,
   "metadata": {},
   "outputs": [],
   "source": [
    "DAY = 4\n",
    "inp = get_input_lines(DAY)\n",
    "part_1 = part_2 = 0"
   ]
  },
  {
   "cell_type": "code",
   "execution_count": 3,
   "metadata": {},
   "outputs": [],
   "source": [
    "for line in inp:\n",
    "    r1, r2 = line.split(\",\")\n",
    "    r2 = range(int(r2.split(\"-\")[0]), int(r2.split(\"-\")[1]) + 1)\n",
    "    r1 = range(int(r1.split(\"-\")[0]), int(r1.split(\"-\")[1]) + 1)\n",
    "    if (r1.start in r2 and r1.stop - 1 in r2) or (r2.start in r1 and r2.stop - 1 in r1):\n",
    "        part_1 += 1"
   ]
  },
  {
   "cell_type": "code",
   "execution_count": 4,
   "metadata": {},
   "outputs": [],
   "source": [
    "for line in inp:\n",
    "    r1, r2 = line.split(\",\")\n",
    "    r1 = range(int(r1.split(\"-\")[0]), int(r1.split(\"-\")[1]) + 1)\n",
    "    r2 = range(int(r2.split(\"-\")[0]), int(r2.split(\"-\")[1]) + 1)\n",
    "    if (r1.start in r2 or r1.stop - 1 in r2) or (r2.start in r1 or r2.stop - 1 in r1):\n",
    "        part_2 += 1"
   ]
  },
  {
   "cell_type": "code",
   "execution_count": 5,
   "metadata": {},
   "outputs": [
    {
     "data": {
      "text/html": [
       "<pre style=\"white-space:pre;overflow-x:auto;line-height:normal;font-family:Menlo,'DejaVu Sans Mono',consolas,'Courier New',monospace\"><span style=\"color: #008000; text-decoration-color: #008000; font-weight: bold\">Part </span><span style=\"color: #008000; text-decoration-color: #008000; font-weight: bold\">1</span><span style=\"color: #008000; text-decoration-color: #008000; font-weight: bold\">:</span> <span style=\"color: #008080; text-decoration-color: #008080; font-weight: bold\">518</span>\n",
       "</pre>\n"
      ],
      "text/plain": [
       "\u001b[1;32mPart \u001b[0m\u001b[1;32m1\u001b[0m\u001b[1;32m:\u001b[0m \u001b[1;36m518\u001b[0m\n"
      ]
     },
     "metadata": {},
     "output_type": "display_data"
    },
    {
     "data": {
      "text/html": [
       "<pre style=\"white-space:pre;overflow-x:auto;line-height:normal;font-family:Menlo,'DejaVu Sans Mono',consolas,'Courier New',monospace\"><span style=\"color: #008000; text-decoration-color: #008000; font-weight: bold\">Part </span><span style=\"color: #008000; text-decoration-color: #008000; font-weight: bold\">2</span><span style=\"color: #008000; text-decoration-color: #008000; font-weight: bold\">:</span> <span style=\"color: #008080; text-decoration-color: #008080; font-weight: bold\">909</span>\n",
       "</pre>\n"
      ],
      "text/plain": [
       "\u001b[1;32mPart \u001b[0m\u001b[1;32m2\u001b[0m\u001b[1;32m:\u001b[0m \u001b[1;36m909\u001b[0m\n"
      ]
     },
     "metadata": {},
     "output_type": "display_data"
    }
   ],
   "source": [
    "print_part_1(part_1)\n",
    "print_part_2(part_2)"
   ]
  },
  {
   "cell_type": "code",
   "execution_count": 6,
   "metadata": {},
   "outputs": [],
   "source": [
    "# submit_part_1(part_1, DAY)\n",
    "# submit_part_2(part_2, DAY)"
   ]
  }
 ],
 "metadata": {
  "kernelspec": {
   "display_name": "Python 3.10.4 ('venv': venv)",
   "language": "python",
   "name": "python3"
  },
  "language_info": {
   "codemirror_mode": {
    "name": "ipython",
    "version": 3
   },
   "file_extension": ".py",
   "mimetype": "text/x-python",
   "name": "python",
   "nbconvert_exporter": "python",
   "pygments_lexer": "ipython3",
   "version": "3.10.4"
  },
  "orig_nbformat": 4,
  "vscode": {
   "interpreter": {
    "hash": "1deb42c3241d521f6003b1a68e85a16645dc710c5467eba0d538286ef971f2c2"
   }
  }
 },
 "nbformat": 4,
 "nbformat_minor": 2
}
