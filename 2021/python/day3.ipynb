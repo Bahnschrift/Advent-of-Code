{
 "cells": [
  {
   "cell_type": "markdown",
   "metadata": {
    "pycharm": {
     "name": "#%% md\n"
    }
   },
   "source": [
    "# Advent of Code 2021\n",
    "## Day 3\n",
    "*<https://adventofcode.com/2021/day/3>*"
   ]
  },
  {
   "cell_type": "code",
   "execution_count": 1,
   "metadata": {
    "pycharm": {
     "name": "#%%\n"
    }
   },
   "outputs": [],
   "source": [
    "import IPython\n",
    "import math\n",
    "import re\n",
    "from helper import *\n",
    "from itertools import product, combinations, permutations\n",
    "from collections import Counter\n",
    "from pyperclip import copy as copy_part\n",
    "from rich import inspect, print, pretty\n",
    "pretty.install()"
   ]
  },
  {
   "cell_type": "code",
   "execution_count": 2,
   "metadata": {
    "collapsed": false,
    "pycharm": {
     "name": "#%%\n"
    }
   },
   "outputs": [],
   "source": [
    "DAY = 3\n",
    "inp = get_input_lines(DAY, 2021)"
   ]
  },
  {
   "cell_type": "code",
   "execution_count": 3,
   "metadata": {
    "collapsed": false,
    "pycharm": {
     "name": "#%%\n"
    }
   },
   "outputs": [],
   "source": [
    "def gamma_ep(lines):\n",
    "    gamma = \"\"\n",
    "    ep = \"\"\n",
    "    for i in range(len(lines[0])):\n",
    "        count_1 = len([x for x in lines if x[i] == '1'])\n",
    "        count_0 = len([x for x in lines if x[i] == '0'])\n",
    "        gamma += '1' if count_1 >= count_0 else '0'\n",
    "        ep += '1' if count_0 > count_1 else '0'\n",
    "    return gamma, ep"
   ]
  },
  {
   "cell_type": "code",
   "execution_count": 4,
   "metadata": {
    "pycharm": {
     "name": "#%%\n"
    }
   },
   "outputs": [],
   "source": [
    "gamma, ep = gamma_ep(inp)\n",
    "part_1 = int(gamma, 2) * int(ep, 2)"
   ]
  },
  {
   "cell_type": "code",
   "execution_count": 5,
   "metadata": {
    "collapsed": false,
    "pycharm": {
     "name": "#%%\n"
    }
   },
   "outputs": [],
   "source": [
    "ox_inp = inp\n",
    "co2_inp = inp\n",
    "for i in range(len(inp[0])):\n",
    "    if len(ox_inp) == 1:\n",
    "        break\n",
    "    ox_inp = [x for x in ox_inp if gamma_ep(ox_inp)[0][i] == x[i]]\n",
    "\n",
    "for i in range(len(inp[0])):\n",
    "    if len(co2_inp) == 1:\n",
    "        break\n",
    "    co2_inp = [x for x in co2_inp if gamma_ep(co2_inp)[1][i] == x[i]]\n",
    "\n",
    "assert len(ox_inp) == len(co2_inp) == 1\n",
    "part_2 = int(ox_inp[0], 2) * int(co2_inp[0], 2)"
   ]
  },
  {
   "cell_type": "code",
   "execution_count": 6,
   "metadata": {
    "pycharm": {
     "name": "#%%\n"
    }
   },
   "outputs": [
    {
     "data": {
      "text/html": [
       "<pre style=\"white-space:pre;overflow-x:auto;line-height:normal;font-family:Menlo,'DejaVu Sans Mono',consolas,'Courier New',monospace\"><span style=\"color: #008000; text-decoration-color: #008000; font-weight: bold\">Part </span><span style=\"color: #008000; text-decoration-color: #008000; font-weight: bold\">1</span><span style=\"color: #008000; text-decoration-color: #008000; font-weight: bold\">:</span> <span style=\"color: #008080; text-decoration-color: #008080; font-weight: bold\">3374136</span>\n",
       "</pre>\n"
      ],
      "text/plain": [
       "\u001b[1;32mPart \u001b[0m\u001b[1;32m1\u001b[0m\u001b[1;32m:\u001b[0m \u001b[1;36m3374136\u001b[0m\n"
      ]
     },
     "metadata": {},
     "output_type": "display_data"
    },
    {
     "data": {
      "text/html": [
       "<pre style=\"white-space:pre;overflow-x:auto;line-height:normal;font-family:Menlo,'DejaVu Sans Mono',consolas,'Courier New',monospace\"><span style=\"color: #008000; text-decoration-color: #008000; font-weight: bold\">Part </span><span style=\"color: #008000; text-decoration-color: #008000; font-weight: bold\">2</span><span style=\"color: #008000; text-decoration-color: #008000; font-weight: bold\">:</span> <span style=\"color: #008080; text-decoration-color: #008080; font-weight: bold\">4432698</span>\n",
       "</pre>\n"
      ],
      "text/plain": [
       "\u001b[1;32mPart \u001b[0m\u001b[1;32m2\u001b[0m\u001b[1;32m:\u001b[0m \u001b[1;36m4432698\u001b[0m\n"
      ]
     },
     "metadata": {},
     "output_type": "display_data"
    }
   ],
   "source": [
    "print_part_1(part_1)\n",
    "print_part_2(part_2)"
   ]
  }
 ],
 "metadata": {
  "kernelspec": {
   "display_name": "Python 3.10.4 ('venv': venv)",
   "language": "python",
   "name": "python3"
  },
  "language_info": {
   "codemirror_mode": {
    "name": "ipython",
    "version": 3
   },
   "file_extension": ".py",
   "mimetype": "text/x-python",
   "name": "python",
   "nbconvert_exporter": "python",
   "pygments_lexer": "ipython3",
   "version": "3.10.4"
  },
  "vscode": {
   "interpreter": {
    "hash": "1deb42c3241d521f6003b1a68e85a16645dc710c5467eba0d538286ef971f2c2"
   }
  }
 },
 "nbformat": 4,
 "nbformat_minor": 3
}
