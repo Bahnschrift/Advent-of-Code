{
 "cells": [
  {
   "cell_type": "markdown",
   "metadata": {},
   "source": [
    "# Advent of Code 2024\n",
    "## Day 14\n",
    "*<https://adventofcode.com/2024/day/14>*"
   ]
  },
  {
   "cell_type": "code",
   "execution_count": 1,
   "metadata": {},
   "outputs": [],
   "source": [
    "import heapq\n",
    "import math\n",
    "import re\n",
    "import functools as ft\n",
    "from collections import Counter, defaultdict, deque, namedtuple\n",
    "from itertools import combinations, permutations, product\n",
    "from string import ascii_letters, ascii_lowercase, ascii_uppercase\n",
    "\n",
    "# import z3\n",
    "from rich import inspect, pretty, print\n",
    "\n",
    "from new_helper import *\n",
    "\n",
    "pretty.install()\n",
    "\n",
    "try:\n",
    "    import ipykernel\n",
    "\n",
    "    with open(\"kernel\", \"w+\") as f:\n",
    "        f.write(ipykernel.get_connection_file())\n",
    "except:\n",
    "    pass"
   ]
  },
  {
   "cell_type": "code",
   "execution_count": 2,
   "metadata": {},
   "outputs": [],
   "source": [
    "DAY = 14\n",
    "YEAR = 2024\n",
    "input_str = get_aoc_input(DAY, 2024)\n",
    "part_1 = part_2 = 0"
   ]
  },
  {
   "cell_type": "code",
   "execution_count": 3,
   "metadata": {},
   "outputs": [],
   "source": [
    "sample = Input(\"\"\"\\\n",
    "p=0,4 v=3,-3\n",
    "p=6,3 v=-1,-3\n",
    "p=10,3 v=-1,2\n",
    "p=2,0 v=2,-1\n",
    "p=0,0 v=1,3\n",
    "p=3,0 v=-2,-2\n",
    "p=7,6 v=-1,-3\n",
    "p=3,0 v=-1,-2\n",
    "p=9,3 v=2,3\n",
    "p=7,3 v=-1,2\n",
    "p=2,4 v=2,-3\n",
    "p=9,5 v=-3,-3\n",
    "\"\"\")"
   ]
  },
  {
   "cell_type": "code",
   "execution_count": 4,
   "metadata": {},
   "outputs": [],
   "source": [
    "# input_str = sample\n",
    "inp = input_str.parse_lines()"
   ]
  },
  {
   "cell_type": "code",
   "execution_count": 5,
   "metadata": {},
   "outputs": [],
   "source": [
    "class Robot:\n",
    "    px: int\n",
    "    py: int\n",
    "    vx: int\n",
    "    vy: int\n",
    "\n",
    "    def __init__(self, px, py, vx, vy):\n",
    "        self.px = px\n",
    "        self.py = py\n",
    "        self.vx = vx\n",
    "        self.vy = vy\n",
    "    \n",
    "    def __repr__(self):\n",
    "        return str((self.px, self.py, self.vx, self.vy))"
   ]
  },
  {
   "cell_type": "code",
   "execution_count": 6,
   "metadata": {},
   "outputs": [],
   "source": [
    "# g = Grid.of_size(101, 103, default=None)\n",
    "\n",
    "ps = set()\n",
    "for line in inp:\n",
    "    px, py, vx, vy = ints(line)\n",
    "    ps.add(Robot(px, py, vx, vy))\n",
    "\n",
    "width = max([r.px for r in ps]) + 1\n",
    "height = max([r.py for r in ps]) + 1"
   ]
  },
  {
   "cell_type": "code",
   "execution_count": 7,
   "metadata": {},
   "outputs": [],
   "source": [
    "rs = ps.copy()\n",
    "for _ in range(100):\n",
    "    new = set()\n",
    "\n",
    "    for r in rs:\n",
    "        nr = Robot((r.px + r.vx) % width,  (r.py + r.vy) % height, r.vx, r.vy)\n",
    "        new.add(nr)\n",
    "    rs = new"
   ]
  },
  {
   "cell_type": "code",
   "execution_count": 8,
   "metadata": {},
   "outputs": [
    {
     "data": {
      "text/html": [
       "<pre style=\"white-space:pre;overflow-x:auto;line-height:normal;font-family:Menlo,'DejaVu Sans Mono',consolas,'Courier New',monospace\"><span style=\"color: #008080; text-decoration-color: #008080; font-weight: bold\">129</span> <span style=\"color: #008080; text-decoration-color: #008080; font-weight: bold\">134</span> <span style=\"color: #008080; text-decoration-color: #008080; font-weight: bold\">117</span> <span style=\"color: #008080; text-decoration-color: #008080; font-weight: bold\">117</span>\n",
       "</pre>\n"
      ],
      "text/plain": [
       "\u001b[1;36m129\u001b[0m \u001b[1;36m134\u001b[0m \u001b[1;36m117\u001b[0m \u001b[1;36m117\u001b[0m\n"
      ]
     },
     "metadata": {},
     "output_type": "display_data"
    }
   ],
   "source": [
    "q1, q2, q3, q4 = 0, 0, 0, 0\n",
    "\n",
    "for r in rs:\n",
    "    if r.px < width // 2:\n",
    "        if r.py < height // 2:\n",
    "            q1 += 1\n",
    "        elif r.py >= math.ceil(height / 2):\n",
    "            q3 += 1\n",
    "    elif r.px >= math.ceil(width / 2):\n",
    "\n",
    "        if r.py < height // 2:\n",
    "            q2 += 1\n",
    "        elif r.py >= math.ceil(height / 2):\n",
    "            q4 += 1\n",
    "\n",
    "print(q1, q2, q3, q4)\n",
    "part_1 = q1 * q2 * q3 * q4"
   ]
  },
  {
   "cell_type": "markdown",
   "metadata": {},
   "source": [
    "Looking at the output from the code below, I noticed that that there were two recurring patterns. One would repeat every 101 steps, and the other would repeat every 103 steps. The Christmas tree occurs when both patterns line up.\n",
    "\n",
    "```py\n",
    "with open(\"out.txt\", \"w+\") as f:\n",
    "    rs = ps.copy()\n",
    "    for i in range(1, 301):\n",
    "        new = set()\n",
    "\n",
    "        for r in rs:\n",
    "            nr = Robot((r.px + r.vx) % width, (r.py + r.vy) % height, r.vx, r.vy)\n",
    "            new.add(nr)\n",
    "        rs = new\n",
    "        g = [[]]\n",
    "        g = Grid.of_size(width, height, default=\" \")\n",
    "        for r in rs:\n",
    "            g[r.px, r.py] = \"O\"\n",
    "\n",
    "        f.write(f\"\\nn = {i}\\n\")\n",
    "        f.write(g.pretty())```"
   ]
  },
  {
   "cell_type": "code",
   "execution_count": 9,
   "metadata": {},
   "outputs": [],
   "source": [
    "# Can't be bothered to do the maths properly\n",
    "\n",
    "OFFSET_1 = 9\n",
    "OFFSET_2 = 65\n",
    "INTERVAL_1 = 101\n",
    "INTERVAL_2 = 103\n",
    "\n",
    "a = set()\n",
    "k = OFFSET_1\n",
    "while k < 10000:\n",
    "    a.add(k)\n",
    "    k += INTERVAL_1\n",
    "\n",
    "b = set()\n",
    "k = OFFSET_2\n",
    "while k < 10000:\n",
    "    b.add(k)\n",
    "    k += INTERVAL_2\n",
    "\n",
    "part_2 = sorted(list(a & b))[0]"
   ]
  },
  {
   "cell_type": "code",
   "execution_count": 10,
   "metadata": {},
   "outputs": [
    {
     "data": {
      "text/html": [
       "<pre style=\"white-space:pre;overflow-x:auto;line-height:normal;font-family:Menlo,'DejaVu Sans Mono',consolas,'Courier New',monospace\"><span style=\"color: #008000; text-decoration-color: #008000; font-weight: bold\">Part </span><span style=\"color: #008000; text-decoration-color: #008000; font-weight: bold\">1</span>: <span style=\"color: #008080; text-decoration-color: #008080; font-weight: bold\">236628054</span>\n",
       "</pre>\n"
      ],
      "text/plain": [
       "\u001b[1;32mPart \u001b[0m\u001b[1;32m1\u001b[0m: \u001b[1;36m236628054\u001b[0m\n"
      ]
     },
     "metadata": {},
     "output_type": "display_data"
    },
    {
     "data": {
      "text/html": [
       "<pre style=\"white-space:pre;overflow-x:auto;line-height:normal;font-family:Menlo,'DejaVu Sans Mono',consolas,'Courier New',monospace\"><span style=\"color: #008000; text-decoration-color: #008000; font-weight: bold\">Part </span><span style=\"color: #008000; text-decoration-color: #008000; font-weight: bold\">2</span>: <span style=\"color: #008080; text-decoration-color: #008080; font-weight: bold\">7584</span>\n",
       "</pre>\n"
      ],
      "text/plain": [
       "\u001b[1;32mPart \u001b[0m\u001b[1;32m2\u001b[0m: \u001b[1;36m7584\u001b[0m\n"
      ]
     },
     "metadata": {},
     "output_type": "display_data"
    }
   ],
   "source": [
    "print_part_1(part_1)\n",
    "print_part_2(part_2)"
   ]
  }
 ],
 "metadata": {
  "kernelspec": {
   "display_name": ".venv-pypy",
   "language": "python",
   "name": "python3"
  },
  "language_info": {
   "codemirror_mode": {
    "name": "ipython",
    "version": 3
   },
   "file_extension": ".py",
   "mimetype": "text/x-python",
   "name": "python",
   "nbconvert_exporter": "python",
   "pygments_lexer": "ipython3",
   "version": "3.10.14"
  },
  "orig_nbformat": 4
 },
 "nbformat": 4,
 "nbformat_minor": 2
}
