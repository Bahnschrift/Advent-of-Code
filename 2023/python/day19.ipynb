{
 "cells": [
  {
   "cell_type": "markdown",
   "metadata": {},
   "source": [
    "# Advent of Code 2023\n",
    "## Day 19\n",
    "*<https://adventofcode.com/2023/day/19>*"
   ]
  },
  {
   "cell_type": "code",
   "execution_count": 1,
   "metadata": {},
   "outputs": [],
   "source": [
    "import heapq\n",
    "import math\n",
    "import re\n",
    "import functools as ft\n",
    "from collections import Counter, defaultdict, deque, namedtuple\n",
    "from itertools import combinations, permutations, product\n",
    "from string import ascii_letters, ascii_lowercase, ascii_uppercase\n",
    "\n",
    "import IPython\n",
    "import z3\n",
    "from rich import inspect, pretty, print\n",
    "\n",
    "from new_helper import *\n",
    "\n",
    "pretty.install()"
   ]
  },
  {
   "cell_type": "code",
   "execution_count": 2,
   "metadata": {},
   "outputs": [],
   "source": [
    "DAY = 19\n",
    "input_str = get_aoc_input(DAY, 2023)\n",
    "part_1 = part_2 = 0"
   ]
  },
  {
   "cell_type": "code",
   "execution_count": 3,
   "metadata": {},
   "outputs": [],
   "source": [
    "inp = input_str.parse_groups()"
   ]
  },
  {
   "cell_type": "code",
   "execution_count": 4,
   "metadata": {},
   "outputs": [],
   "source": [
    "class Guard:\n",
    "    var: str\n",
    "    gt: bool\n",
    "    val: int\n",
    "\n",
    "    def __init__(self, var: str, gt: bool, val: int):\n",
    "        self.var = var\n",
    "        self.gt = gt\n",
    "        self.val = val\n",
    "    \n",
    "    def __repr__(self):\n",
    "        return f\"{self.var} {'>' if self.gt else '<'} {self.val}\"\n",
    "\n",
    "    def inverse(self):\n",
    "        return Guard(self.var, not self.gt, self.val + 1 if self.gt else self.val - 1)"
   ]
  },
  {
   "cell_type": "code",
   "execution_count": 5,
   "metadata": {},
   "outputs": [],
   "source": [
    "in_workflows, in_ratings = inp\n",
    "workflows: dict[str, list[tuple[Guard | None, str]]] = {}\n",
    "\n",
    "for w in in_workflows:\n",
    "    name, rules = w.split(\"{\")\n",
    "    rules = rules[:-1]\n",
    "    rs = []\n",
    "    for r in rules.split(\",\"):\n",
    "        if \":\" in r:\n",
    "            gt = \">\" in r\n",
    "            s, res = r.split(\":\")\n",
    "            workflow_name, val = s.split(\">\" if gt else \"<\")\n",
    "            val = int(val)\n",
    "            rs.append((Guard(workflow_name, gt, val), res))\n",
    "        else:\n",
    "            rs.append((None, r))\n",
    "\n",
    "    workflows[name] = rs"
   ]
  },
  {
   "cell_type": "code",
   "execution_count": 6,
   "metadata": {},
   "outputs": [],
   "source": [
    "def process(work: str, vars: dict[str, int]):\n",
    "    if work in \"AR\":\n",
    "        return work\n",
    "\n",
    "    workflow = workflows[work]\n",
    "    for g, res in workflow:\n",
    "        if g is None:\n",
    "            return process(res, vars)\n",
    "\n",
    "        if g.gt and vars[g.var] > g.val:\n",
    "            return process(res, vars)\n",
    "        elif not g.gt and vars[g.var] < g.val:\n",
    "            return process(res, vars)\n",
    "    \n",
    "    assert False"
   ]
  },
  {
   "cell_type": "code",
   "execution_count": 7,
   "metadata": {},
   "outputs": [],
   "source": [
    "for r in in_ratings:\n",
    "    r = r[1:-1]\n",
    "    d = {s.split(\"=\")[0]: int(s.split(\"=\")[1]) for s in r.split(\",\")}\n",
    "\n",
    "    if process(\"in\", d) == \"A\":\n",
    "        part_1 += sum(d.values())"
   ]
  },
  {
   "cell_type": "code",
   "execution_count": 8,
   "metadata": {},
   "outputs": [],
   "source": [
    "MIN = 1\n",
    "MAX = 4000\n",
    "\n",
    "\n",
    "def ranges_for_name(workflow_name: str) -> list[dict[str, tuple[int, int]]]:\n",
    "    if workflow_name == \"A\":\n",
    "        return [{k: (MIN, MAX) for k in \"xmas\"}]\n",
    "    elif workflow_name == \"R\":\n",
    "        return []\n",
    "    else:\n",
    "        return ranges_for_workflow(workflows[workflow_name])\n",
    "\n",
    "\n",
    "def apply_guard(g: Guard, rs: list[dict[str, tuple[int, int]]]) -> list[dict[str, tuple[int, int]]]:\n",
    "    return [\n",
    "        {\n",
    "            var: (l, h) if var != g.var else (max(l, g.val + 1), h) if g.gt else (l, min(h, g.val - 1))\n",
    "            for var, (l, h) in r.items()\n",
    "        }\n",
    "        for r in rs\n",
    "    ]\n",
    "\n",
    "\n",
    "def ranges_for_workflow(workflow: list[tuple[Guard | None, str]]) -> list[dict[str, tuple[int, int]]]:\n",
    "    if len(workflow) == 1:\n",
    "        return ranges_for_name(workflow[0][1])\n",
    "\n",
    "    g, res = workflow[0]\n",
    "    assert g is not None\n",
    "\n",
    "    t = apply_guard(g, ranges_for_name(res))\n",
    "    f = apply_guard(g.inverse(), ranges_for_workflow(workflow[1:]))\n",
    "    return t + f"
   ]
  },
  {
   "cell_type": "code",
   "execution_count": 9,
   "metadata": {},
   "outputs": [],
   "source": [
    "for r in ranges_for_name(\"in\"):\n",
    "    part_2 += math.prod(h - l + 1 for l, h in r.values())"
   ]
  },
  {
   "cell_type": "code",
   "execution_count": 10,
   "metadata": {},
   "outputs": [
    {
     "data": {
      "text/html": [
       "<pre style=\"white-space:pre;overflow-x:auto;line-height:normal;font-family:Menlo,'DejaVu Sans Mono',consolas,'Courier New',monospace\"><span style=\"color: #008000; text-decoration-color: #008000; font-weight: bold\">Part </span><span style=\"color: #008000; text-decoration-color: #008000; font-weight: bold\">1</span>: <span style=\"color: #008080; text-decoration-color: #008080; font-weight: bold\">434147</span>\n",
       "</pre>\n"
      ],
      "text/plain": [
       "\u001b[1;32mPart \u001b[0m\u001b[1;32m1\u001b[0m: \u001b[1;36m434147\u001b[0m\n"
      ]
     },
     "metadata": {},
     "output_type": "display_data"
    },
    {
     "data": {
      "text/html": [
       "<pre style=\"white-space:pre;overflow-x:auto;line-height:normal;font-family:Menlo,'DejaVu Sans Mono',consolas,'Courier New',monospace\"><span style=\"color: #008000; text-decoration-color: #008000; font-weight: bold\">Part </span><span style=\"color: #008000; text-decoration-color: #008000; font-weight: bold\">2</span>: <span style=\"color: #008080; text-decoration-color: #008080; font-weight: bold\">136146366355609</span>\n",
       "</pre>\n"
      ],
      "text/plain": [
       "\u001b[1;32mPart \u001b[0m\u001b[1;32m2\u001b[0m: \u001b[1;36m136146366355609\u001b[0m\n"
      ]
     },
     "metadata": {},
     "output_type": "display_data"
    }
   ],
   "source": [
    "print_part_1(part_1)\n",
    "print_part_2(part_2)"
   ]
  }
 ],
 "metadata": {
  "kernelspec": {
   "display_name": "venv",
   "language": "python",
   "name": "python3"
  },
  "language_info": {
   "codemirror_mode": {
    "name": "ipython",
    "version": 3
   },
   "file_extension": ".py",
   "mimetype": "text/x-python",
   "name": "python",
   "nbconvert_exporter": "python",
   "pygments_lexer": "ipython3",
   "version": "3.12.0"
  },
  "orig_nbformat": 4,
  "vscode": {
   "interpreter": {
    "hash": "1deb42c3241d521f6003b1a68e85a16645dc710c5467eba0d538286ef971f2c2"
   }
  }
 },
 "nbformat": 4,
 "nbformat_minor": 2
}
