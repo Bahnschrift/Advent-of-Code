{
 "cells": [
  {
   "cell_type": "markdown",
   "metadata": {},
   "source": [
    "# Advent of Code 2022\n",
    "## Day 22\n",
    "*<https://adventofcode.com/2022/day/22>*"
   ]
  },
  {
   "cell_type": "code",
   "execution_count": 1,
   "metadata": {},
   "outputs": [],
   "source": [
    "import heapq\n",
    "import math\n",
    "import re\n",
    "from collections import Counter, defaultdict, deque, namedtuple\n",
    "from itertools import combinations, permutations, product\n",
    "from string import ascii_letters, ascii_lowercase, ascii_uppercase\n",
    "\n",
    "import IPython\n",
    "import z3\n",
    "from rich import inspect, pretty, print\n",
    "\n",
    "from new_helper import *\n",
    "\n",
    "pretty.install()"
   ]
  },
  {
   "cell_type": "code",
   "execution_count": 2,
   "metadata": {},
   "outputs": [],
   "source": [
    "DAY = 22\n",
    "inp = get_aoc_input(DAY, 2022).parse_groups()\n",
    "part_1 = part_2 = 0"
   ]
  },
  {
   "cell_type": "code",
   "execution_count": 3,
   "metadata": {},
   "outputs": [],
   "source": [
    "m = Grid(inp[0], default=\" \")\n",
    "instructions = []\n",
    "\n",
    "i = 0\n",
    "while i < len(inp[1][0]):\n",
    "    match inp[1][0][i]:\n",
    "        case \"L\":\n",
    "            instructions.append(\"L\")\n",
    "            i += 1\n",
    "        case \"R\":\n",
    "            instructions.append(\"R\")\n",
    "            i += 1\n",
    "        case _:\n",
    "            n = ints(inp[1][0][i:])[0]\n",
    "            instructions.append(n)\n",
    "            i += len(str(n))"
   ]
  },
  {
   "cell_type": "code",
   "execution_count": 4,
   "metadata": {},
   "outputs": [],
   "source": [
    "def first_non_empty(l: list[str]) -> int:\n",
    "    for i, x in enumerate(l):\n",
    "        if x != \" \":\n",
    "            return i\n",
    "    raise ValueError(\"No non-empty found\")\n",
    "\n",
    "\n",
    "def move(m: Grid[str], x, y, dx, dy):\n",
    "    nx, ny = x + dx, y + dy\n",
    "    if not m.in_bounds(nx, ny) or m[nx, ny] == \" \":\n",
    "        match dx, dy:\n",
    "            case 1, 0:\n",
    "                nx = first_non_empty(m[:, y])\n",
    "            case -1, 0:\n",
    "                nx = m.width - first_non_empty(m[::-1, y]) - 1\n",
    "            case 0, 1:\n",
    "                ny = first_non_empty(m[x, :])\n",
    "            case 0, -1:\n",
    "                ny = m.height - first_non_empty(m[x, ::-1]) - 1\n",
    "\n",
    "    match m[nx, ny]:\n",
    "        case \"#\":\n",
    "            return x, y\n",
    "        case \".\":\n",
    "            return nx, ny\n",
    "        case _:\n",
    "            raise ValueError(\"Unknown: \", m[nx, ny], nx, ny)"
   ]
  },
  {
   "cell_type": "code",
   "execution_count": 5,
   "metadata": {},
   "outputs": [],
   "source": [
    "def rotate_left(dx: int, dy: int) -> tuple[int, int]:\n",
    "    return dy, -dx\n",
    "\n",
    "def rotate_right(dx: int, dy: int) -> tuple[int, int]:\n",
    "    return -dy, dx"
   ]
  },
  {
   "cell_type": "code",
   "execution_count": 6,
   "metadata": {},
   "outputs": [],
   "source": [
    "x, y = m.row(0).index(\".\"), 0\n",
    "dx, dy = 1, 0\n",
    "\n",
    "for ins in instructions:\n",
    "    match ins:\n",
    "        case \"L\":\n",
    "            dx, dy = rotate_left(dx, dy)\n",
    "        case \"R\":\n",
    "            dx, dy = rotate_right(dx, dy)\n",
    "        case n:\n",
    "            assert isinstance(n, int)\n",
    "            for _ in range(n):\n",
    "                x, y = move(m, x, y, dx, dy)"
   ]
  },
  {
   "cell_type": "code",
   "execution_count": 7,
   "metadata": {},
   "outputs": [],
   "source": [
    "def score(x, y, dx, dy):\n",
    "    n = 1000 * (y + 1) + 4 * (x + 1)\n",
    "    match dx, dy:\n",
    "        case 1, 0:\n",
    "            n += 0\n",
    "        case 0, 1:\n",
    "            n += 1\n",
    "        case -1, 0:\n",
    "            n += 2\n",
    "        case 0, -1:\n",
    "            n += 3\n",
    "    return n\n",
    "\n",
    "part_1 = score(x, y, dx, dy)"
   ]
  },
  {
   "cell_type": "code",
   "execution_count": 8,
   "metadata": {},
   "outputs": [],
   "source": [
    "TELEPORTS = {}\n",
    "S = int(math.sqrt((m.count(\"#\") + m.count(\".\")) // 6))\n",
    "\n",
    "\n",
    "def add_teleport(x: int, y: int, dx: int, dy: int, nx: int, ny: int, ndx: int, ndy: int):\n",
    "    TELEPORTS[x, y, dx, dy] = nx, ny, ndx, ndy\n",
    "    TELEPORTS[nx, ny, -ndx, -ndy] = x, y, -dx, -dy\n",
    "\n",
    "\n",
    "# Hardcoded for advent of code input. Does not work with sample.\n",
    "for i in range(S):\n",
    "    add_teleport(S, i, -1, 0, 0, S * 3 - i - 1, 1, 0)\n",
    "    add_teleport(S + i, 0, 0, -1, 0, S * 3 + i, 1, 0)\n",
    "    add_teleport(2 * S + i, 0, 0, -1, i, 4 * S - 1, 0, -1)\n",
    "    add_teleport(3 * S - 1, i, 1, 0, 2 * S - 1, 3 * S - i - 1, -1, 0)\n",
    "    add_teleport(2 * S + i, S - 1, 0, 1, 2 * S - 1, S + i, -1, 0)\n",
    "    add_teleport(S + i, 3 * S - 1, 0, 1, S - 1, 3 * S + i, -1, 0)\n",
    "    add_teleport(S, S + i, -1, 0, i, 2 * S, 0, 1)\n",
    "\n",
    "\n",
    "def move_2(m: Grid[str], x, y, dx, dy) -> tuple[int, int, int, int]:\n",
    "    nx, ny = x + dx, y + dy\n",
    "    ndx, ndy = dx, dy\n",
    "    if not m.in_bounds(nx, ny) or m[nx, ny] == \" \":\n",
    "        nx, ny, ndx, ndy = TELEPORTS[x, y, dx, dy]\n",
    "\n",
    "    match m[nx, ny]:\n",
    "        case \"#\":\n",
    "            return x, y, dx, dy\n",
    "        case \".\":\n",
    "            return nx, ny, ndx, ndy\n",
    "        case _:\n",
    "            raise ValueError(f\"Unknown value at ({nx}, {ny}): '{m[nx, ny]}'.\")"
   ]
  },
  {
   "cell_type": "code",
   "execution_count": 9,
   "metadata": {},
   "outputs": [],
   "source": [
    "x, y = m.row(0).index(\".\"), 0\n",
    "dx, dy = 1, 0\n",
    "\n",
    "for ins in instructions:\n",
    "    match ins:\n",
    "        case \"L\":\n",
    "            dx, dy = rotate_left(dx, dy)\n",
    "        case \"R\":\n",
    "            dx, dy = rotate_right(dx, dy)\n",
    "        case n:\n",
    "            assert isinstance(n, int)\n",
    "            for _ in range(n):\n",
    "                x, y, dx, dy = move_2(m, x, y, dx, dy)\n",
    "\n",
    "part_2 = score(x, y, dx, dy)"
   ]
  },
  {
   "cell_type": "code",
   "execution_count": 10,
   "metadata": {},
   "outputs": [
    {
     "data": {
      "text/html": [
       "<pre style=\"white-space:pre;overflow-x:auto;line-height:normal;font-family:Menlo,'DejaVu Sans Mono',consolas,'Courier New',monospace\"><span style=\"color: #008000; text-decoration-color: #008000; font-weight: bold\">Part </span><span style=\"color: #008000; text-decoration-color: #008000; font-weight: bold\">1</span>: <span style=\"color: #008080; text-decoration-color: #008080; font-weight: bold\">93226</span>\n",
       "</pre>\n"
      ],
      "text/plain": [
       "\u001b[1;32mPart \u001b[0m\u001b[1;32m1\u001b[0m: \u001b[1;36m93226\u001b[0m\n"
      ]
     },
     "metadata": {},
     "output_type": "display_data"
    },
    {
     "data": {
      "text/html": [
       "<pre style=\"white-space:pre;overflow-x:auto;line-height:normal;font-family:Menlo,'DejaVu Sans Mono',consolas,'Courier New',monospace\"><span style=\"color: #008000; text-decoration-color: #008000; font-weight: bold\">Part </span><span style=\"color: #008000; text-decoration-color: #008000; font-weight: bold\">2</span>: <span style=\"color: #008080; text-decoration-color: #008080; font-weight: bold\">37415</span>\n",
       "</pre>\n"
      ],
      "text/plain": [
       "\u001b[1;32mPart \u001b[0m\u001b[1;32m2\u001b[0m: \u001b[1;36m37415\u001b[0m\n"
      ]
     },
     "metadata": {},
     "output_type": "display_data"
    }
   ],
   "source": [
    "print_part_1(part_1)\n",
    "print_part_2(part_2)"
   ]
  },
  {
   "cell_type": "code",
   "execution_count": 11,
   "metadata": {},
   "outputs": [],
   "source": [
    "# submit_part_1(part_1, DAY, 2022)\n",
    "# submit_part_2(part_2, DAY, 2022)"
   ]
  }
 ],
 "metadata": {
  "kernelspec": {
   "display_name": "venv",
   "language": "python",
   "name": "python3"
  },
  "language_info": {
   "codemirror_mode": {
    "name": "ipython",
    "version": 3
   },
   "file_extension": ".py",
   "mimetype": "text/x-python",
   "name": "python",
   "nbconvert_exporter": "python",
   "pygments_lexer": "ipython3",
   "version": "3.11.1"
  },
  "orig_nbformat": 4,
  "vscode": {
   "interpreter": {
    "hash": "1deb42c3241d521f6003b1a68e85a16645dc710c5467eba0d538286ef971f2c2"
   }
  }
 },
 "nbformat": 4,
 "nbformat_minor": 2
}
