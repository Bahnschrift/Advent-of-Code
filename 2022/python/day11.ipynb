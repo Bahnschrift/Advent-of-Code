{
 "cells": [
  {
   "cell_type": "markdown",
   "metadata": {},
   "source": [
    "# Advent of Code 2022\n",
    "## Day 11\n",
    "*<https://adventofcode.com/2022/day/11>*"
   ]
  },
  {
   "cell_type": "code",
   "execution_count": 9,
   "metadata": {},
   "outputs": [],
   "source": [
    "import IPython\n",
    "import math\n",
    "import re\n",
    "from helper import *\n",
    "from itertools import product, combinations, permutations\n",
    "from collections import Counter, defaultdict\n",
    "from string import ascii_lowercase, ascii_uppercase, ascii_letters\n",
    "from rich import inspect, print, pretty\n",
    "\n",
    "pretty.install()"
   ]
  },
  {
   "cell_type": "code",
   "execution_count": 10,
   "metadata": {},
   "outputs": [],
   "source": [
    "DAY = 11\n",
    "inp = get_input_groups(DAY)\n",
    "part_1 = part_2 = 0"
   ]
  },
  {
   "cell_type": "code",
   "execution_count": 11,
   "metadata": {},
   "outputs": [],
   "source": [
    "class Monkey:\n",
    "    def __init__(self, items: list[int], op: str, test_mod: int, itrue: int, ifalse: int):\n",
    "        self.items = items\n",
    "        self.op = op\n",
    "        self.test_mod = test_mod\n",
    "        self.itrue = itrue\n",
    "        self.ifalse = ifalse\n",
    "        self.inspections = 0\n",
    "\n",
    "    def copy(self):\n",
    "        return Monkey(self.items[:], self.op, self.test_mod, self.itrue, self.ifalse)\n",
    "\n",
    "    def pop_item(self):\n",
    "        self.inspections += 1\n",
    "        return self.items.pop(0)\n",
    "\n",
    "    def eval_op(self, val: int):\n",
    "        old = val\n",
    "        return eval(self.op)\n",
    "    \n",
    "    def has_items(self):\n",
    "        return len(self.items) > 0\n",
    "    \n",
    "    def get_inspections(self):\n",
    "        return self.inspections"
   ]
  },
  {
   "cell_type": "code",
   "execution_count": 12,
   "metadata": {},
   "outputs": [],
   "source": [
    "monkeys_original = []\n",
    "\n",
    "for monkey in inp:\n",
    "    items = ints(monkey[1])\n",
    "    op = monkey[2].split(\" = \")[1]\n",
    "    test_mod = int(monkey[3].split()[-1])\n",
    "    itrue = int(monkey[4].split(\" \")[-1])\n",
    "    ifalse = int(monkey[5].split(\" \")[-1])\n",
    "\n",
    "    monkeys_original.append(Monkey(items, op, test_mod, itrue, ifalse))"
   ]
  },
  {
   "cell_type": "code",
   "execution_count": 13,
   "metadata": {},
   "outputs": [],
   "source": [
    "monkeys = list(map(Monkey.copy, monkeys_original))\n",
    "\n",
    "for r in range(20):\n",
    "    for monkey in monkeys:\n",
    "        while monkey.has_items():\n",
    "            item = monkey.pop_item()\n",
    "            new = monkey.eval_op(item) // 3\n",
    "            monkeys[monkey.itrue if new % monkey.test_mod == 0 else monkey.ifalse].items.append(new)\n",
    "\n",
    "part_1 = math.prod(sorted(map(Monkey.get_inspections, monkeys))[-2:])"
   ]
  },
  {
   "cell_type": "code",
   "execution_count": 14,
   "metadata": {},
   "outputs": [],
   "source": [
    "monkeys = list(map(Monkey.copy, monkeys_original))\n",
    "gcd = math.prod(monkey.test_mod for monkey in monkeys)\n",
    "\n",
    "for r in range(10000):\n",
    "    for monkey in monkeys:\n",
    "        while monkey.has_items():\n",
    "            item = monkey.pop_item()\n",
    "            new = monkey.eval_op(item) % gcd\n",
    "            monkeys[monkey.itrue if new % monkey.test_mod == 0 else monkey.ifalse].items.append(new)\n",
    "\n",
    "part_2 = math.prod(sorted(map(Monkey.get_inspections, monkeys))[-2:])"
   ]
  },
  {
   "cell_type": "code",
   "execution_count": 15,
   "metadata": {},
   "outputs": [
    {
     "data": {
      "text/html": [
       "<pre style=\"white-space:pre;overflow-x:auto;line-height:normal;font-family:Menlo,'DejaVu Sans Mono',consolas,'Courier New',monospace\"><span style=\"color: #008000; text-decoration-color: #008000; font-weight: bold\">Part </span><span style=\"color: #008000; text-decoration-color: #008000; font-weight: bold\">1</span><span style=\"color: #008000; text-decoration-color: #008000; font-weight: bold\">:</span> <span style=\"color: #008080; text-decoration-color: #008080; font-weight: bold\">55944</span>\n",
       "</pre>\n"
      ],
      "text/plain": [
       "\u001b[1;32mPart \u001b[0m\u001b[1;32m1\u001b[0m\u001b[1;32m:\u001b[0m \u001b[1;36m55944\u001b[0m\n"
      ]
     },
     "metadata": {},
     "output_type": "display_data"
    },
    {
     "data": {
      "text/html": [
       "<pre style=\"white-space:pre;overflow-x:auto;line-height:normal;font-family:Menlo,'DejaVu Sans Mono',consolas,'Courier New',monospace\"><span style=\"color: #008000; text-decoration-color: #008000; font-weight: bold\">Part </span><span style=\"color: #008000; text-decoration-color: #008000; font-weight: bold\">2</span><span style=\"color: #008000; text-decoration-color: #008000; font-weight: bold\">:</span> <span style=\"color: #008080; text-decoration-color: #008080; font-weight: bold\">15117269860</span>\n",
       "</pre>\n"
      ],
      "text/plain": [
       "\u001b[1;32mPart \u001b[0m\u001b[1;32m2\u001b[0m\u001b[1;32m:\u001b[0m \u001b[1;36m15117269860\u001b[0m\n"
      ]
     },
     "metadata": {},
     "output_type": "display_data"
    }
   ],
   "source": [
    "print_part_1(part_1)\n",
    "print_part_2(part_2)"
   ]
  },
  {
   "cell_type": "code",
   "execution_count": 16,
   "metadata": {},
   "outputs": [],
   "source": [
    "# submit_part_1(part_1, DAY)\n",
    "# submit_part_2(part_2, DAY)"
   ]
  }
 ],
 "metadata": {
  "kernelspec": {
   "display_name": "venv",
   "language": "python",
   "name": "python3"
  },
  "language_info": {
   "codemirror_mode": {
    "name": "ipython",
    "version": 3
   },
   "file_extension": ".py",
   "mimetype": "text/x-python",
   "name": "python",
   "nbconvert_exporter": "python",
   "pygments_lexer": "ipython3",
   "version": "3.10.4 (tags/v3.10.4:9d38120, Mar 23 2022, 23:13:41) [MSC v.1929 64 bit (AMD64)]"
  },
  "orig_nbformat": 4,
  "vscode": {
   "interpreter": {
    "hash": "1deb42c3241d521f6003b1a68e85a16645dc710c5467eba0d538286ef971f2c2"
   }
  }
 },
 "nbformat": 4,
 "nbformat_minor": 2
}
