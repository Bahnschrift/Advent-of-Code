{
 "cells": [
  {
   "cell_type": "markdown",
   "metadata": {},
   "source": [
    "# Advent of code 2020: Day 23"
   ]
  },
  {
   "cell_type": "markdown",
   "metadata": {},
   "source": [
    "## Import"
   ]
  },
  {
   "cell_type": "code",
   "execution_count": 5,
   "metadata": {},
   "outputs": [],
   "source": [
    "import math as M\n",
    "import collections as C\n",
    "import itertools as I\n",
    "from helper import *\n",
    "import re\n",
    "\n",
    "\n",
    "day = 23\n",
    "data = get_input_lines(day, 2020)"
   ]
  },
  {
   "cell_type": "markdown",
   "metadata": {},
   "source": [
    "## Part 1\n",
    "_I'll let this abomination live for now..._"
   ]
  },
  {
   "cell_type": "code",
   "execution_count": 6,
   "metadata": {},
   "outputs": [
    {
     "data": {
      "text/html": [
       "<pre style=\"white-space:pre;overflow-x:auto;line-height:normal;font-family:Menlo,'DejaVu Sans Mono',consolas,'Courier New',monospace\"><span style=\"color: #008080; text-decoration-color: #008080; font-weight: bold\">49725386</span>\n",
       "</pre>\n"
      ],
      "text/plain": [
       "\u001b[1;36m49725386\u001b[0m\n"
      ]
     },
     "metadata": {},
     "output_type": "display_data"
    }
   ],
   "source": [
    "cups = [*map(int,data[0])]\n",
    "min_label = min(cups)\n",
    "max_label = max(cups)\n",
    "last_cup_index = -1\n",
    "for x in range(100):\n",
    "    if last_cup_index + 1 >= len(cups):\n",
    "        last_cup_index = -1\n",
    "    current = cups[last_cup_index + 1]\n",
    "    chosen = []\n",
    "    if last_cup_index + 2 >= len(cups):\n",
    "        last_cup_index = -2\n",
    "    chosen += [cups.pop(last_cup_index + 2)]\n",
    "    if last_cup_index + 2 >= len(cups):\n",
    "        last_cup_index = -2\n",
    "    chosen += [cups.pop(last_cup_index + 2)]\n",
    "    if last_cup_index + 2 >= len(cups):\n",
    "        last_cup_index = -2\n",
    "    chosen += [cups.pop(last_cup_index + 2)]\n",
    "    destination = None\n",
    "\n",
    "    compare = current - 1\n",
    "    while destination is None:\n",
    "        if compare in cups:\n",
    "            destination = compare\n",
    "        else:\n",
    "            compare -= 1\n",
    "            if compare < min_label:\n",
    "                compare = max_label\n",
    "    \n",
    "    destination_index = cups.index(destination)\n",
    "    before = cups[:destination_index + 1]\n",
    "    after = cups[destination_index + 1:]\n",
    "    before += chosen\n",
    "    cups = before + after\n",
    "    last_cup_index = cups.index(current)\n",
    "\n",
    "cups = [*map(str, cups)]\n",
    "one_ind = cups.index('1')\n",
    "print(\"\".join(cups[one_ind:] + cups[:one_ind])[1:])"
   ]
  },
  {
   "cell_type": "markdown",
   "metadata": {},
   "source": [
    "## Part 2"
   ]
  },
  {
   "cell_type": "code",
   "execution_count": 7,
   "metadata": {},
   "outputs": [],
   "source": [
    "class Cup:\n",
    "    def __init__(self, number, next_cup=None):\n",
    "        self.number = int(number)\n",
    "        self.next = next_cup"
   ]
  },
  {
   "cell_type": "code",
   "execution_count": 8,
   "metadata": {},
   "outputs": [
    {
     "data": {
      "text/html": [
       "<pre style=\"white-space:pre;overflow-x:auto;line-height:normal;font-family:Menlo,'DejaVu Sans Mono',consolas,'Courier New',monospace\"><span style=\"color: #008080; text-decoration-color: #008080; font-weight: bold\">538935646702</span>\n",
       "</pre>\n"
      ],
      "text/plain": [
       "\u001b[1;36m538935646702\u001b[0m\n"
      ]
     },
     "metadata": {},
     "output_type": "display_data"
    }
   ],
   "source": [
    "cups = [*map(Cup, data[0])]\n",
    "min_label = min({cup.number for cup in cups})\n",
    "max_label = 10**6\n",
    "cups += list(map(Cup, range(max(cups, key=lambda x: x.number).number + 1, 10**6 + 1)))\n",
    "cups[-1].next = cups[0]\n",
    "for x, cup in enumerate(cups[:-1]):\n",
    "    cup.next = cups[x + 1]\n",
    "\n",
    "reverse = {cup.number: cup for cup in cups}\n",
    "\n",
    "current = cups[0]\n",
    "for x in range(10**7):\n",
    "    a = current.next\n",
    "    b = a.next\n",
    "    c = b.next\n",
    "    current.next = c.next\n",
    "    destination_number = current.number\n",
    "    while destination_number in (x.number for x in [current, a, b, c]):\n",
    "        destination_number -= 1\n",
    "        if destination_number < min_label:\n",
    "            destination_number = max_label\n",
    "\n",
    "    destination_cup = reverse[destination_number]\n",
    "    destination_cup_next = destination_cup.next\n",
    "    destination_cup.next = a\n",
    "    c.next = destination_cup_next\n",
    "    current = current.next\n",
    "\n",
    "print(reverse[1].next.number * reverse[1].next.next.number)"
   ]
  }
 ],
 "metadata": {
  "kernelspec": {
   "display_name": "Python 3.10.4 ('venv': venv)",
   "language": "python",
   "name": "python3"
  },
  "language_info": {
   "codemirror_mode": {
    "name": "ipython",
    "version": 3
   },
   "file_extension": ".py",
   "mimetype": "text/x-python",
   "name": "python",
   "nbconvert_exporter": "python",
   "pygments_lexer": "ipython3",
   "version": "3.10.4"
  },
  "orig_nbformat": 2,
  "vscode": {
   "interpreter": {
    "hash": "1deb42c3241d521f6003b1a68e85a16645dc710c5467eba0d538286ef971f2c2"
   }
  }
 },
 "nbformat": 4,
 "nbformat_minor": 2
}
