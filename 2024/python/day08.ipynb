{
 "cells": [
  {
   "cell_type": "markdown",
   "metadata": {},
   "source": [
    "# Advent of Code 2024\n",
    "## Day 8\n",
    "*<https://adventofcode.com/2024/day/8>*"
   ]
  },
  {
   "cell_type": "code",
   "execution_count": 1,
   "metadata": {},
   "outputs": [],
   "source": [
    "import heapq\n",
    "import math\n",
    "import re\n",
    "import functools as ft\n",
    "from collections import Counter, defaultdict, deque, namedtuple\n",
    "from itertools import combinations, permutations, product\n",
    "from string import ascii_letters, ascii_lowercase, ascii_uppercase\n",
    "\n",
    "# import z3\n",
    "from rich import inspect, pretty, print\n",
    "\n",
    "from new_helper import *\n",
    "\n",
    "pretty.install()\n",
    "\n",
    "import ipykernel\n",
    "\n",
    "with open(\"kernel\", \"w+\") as f:\n",
    "    f.write(ipykernel.get_connection_file())"
   ]
  },
  {
   "cell_type": "code",
   "execution_count": 2,
   "metadata": {},
   "outputs": [],
   "source": [
    "DAY = 8\n",
    "YEAR = 2024\n",
    "input_str = get_aoc_input(DAY, 2024)\n",
    "part_1 = part_2 = 0"
   ]
  },
  {
   "cell_type": "code",
   "execution_count": 3,
   "metadata": {},
   "outputs": [],
   "source": [
    "inp = input_str.parse_grid()"
   ]
  },
  {
   "cell_type": "code",
   "execution_count": 4,
   "metadata": {},
   "outputs": [],
   "source": [
    "types = set(inp.values()) - {\".\"}\n",
    "antinodes = set()\n",
    "antinodes_2 = set()\n",
    "\n",
    "for t in types:\n",
    "    uses = inp.find_all(t)\n",
    "    for i, (ax, ay) in enumerate(uses):\n",
    "        antinodes_2.add((ax, ay))\n",
    "\n",
    "        for bx, by in uses[i + 1 :]:\n",
    "            nx, ny = ax - (bx - ax), ay - (by - ay)\n",
    "            if inp.in_bounds(nx, ny):\n",
    "                antinodes.add((nx, ny))\n",
    "\n",
    "            k = 1\n",
    "            while inp.in_bounds(nx, ny):\n",
    "                antinodes_2.add((nx, ny))\n",
    "                k += 1\n",
    "                nx, ny = ax - (bx - ax) * k, ay - (by - ay) * k\n",
    "\n",
    "            nx, ny = bx + (bx - ax), by + (by - ay)\n",
    "            if inp.in_bounds(nx, ny):\n",
    "                antinodes.add((nx, ny))\n",
    "\n",
    "            k = 1\n",
    "            while inp.in_bounds(nx, ny):\n",
    "                antinodes_2.add((nx, ny))\n",
    "                k += 1\n",
    "                nx, ny = bx + (bx - ax) * k, by + (by - ay) * k\n",
    "\n",
    "for x, y in antinodes_2:\n",
    "    inp[x, y] = \"#\"\n",
    "\n",
    "part_1 = len(antinodes)\n",
    "part_2 = len(antinodes_2)"
   ]
  },
  {
   "cell_type": "code",
   "execution_count": 5,
   "metadata": {},
   "outputs": [
    {
     "data": {
      "text/html": [
       "<pre style=\"white-space:pre;overflow-x:auto;line-height:normal;font-family:Menlo,'DejaVu Sans Mono',consolas,'Courier New',monospace\"><span style=\"color: #008000; text-decoration-color: #008000; font-weight: bold\">Part </span><span style=\"color: #008000; text-decoration-color: #008000; font-weight: bold\">1</span>: <span style=\"color: #008080; text-decoration-color: #008080; font-weight: bold\">308</span>\n",
       "</pre>\n"
      ],
      "text/plain": [
       "\u001b[1;32mPart \u001b[0m\u001b[1;32m1\u001b[0m: \u001b[1;36m308\u001b[0m\n"
      ]
     },
     "metadata": {},
     "output_type": "display_data"
    },
    {
     "data": {
      "text/html": [
       "<pre style=\"white-space:pre;overflow-x:auto;line-height:normal;font-family:Menlo,'DejaVu Sans Mono',consolas,'Courier New',monospace\"><span style=\"color: #008000; text-decoration-color: #008000; font-weight: bold\">Part </span><span style=\"color: #008000; text-decoration-color: #008000; font-weight: bold\">2</span>: <span style=\"color: #008080; text-decoration-color: #008080; font-weight: bold\">1147</span>\n",
       "</pre>\n"
      ],
      "text/plain": [
       "\u001b[1;32mPart \u001b[0m\u001b[1;32m2\u001b[0m: \u001b[1;36m1147\u001b[0m\n"
      ]
     },
     "metadata": {},
     "output_type": "display_data"
    }
   ],
   "source": [
    "print_part_1(part_1)\n",
    "print_part_2(part_2)"
   ]
  }
 ],
 "metadata": {
  "kernelspec": {
   "display_name": ".venv-pypy",
   "language": "python",
   "name": "python3"
  },
  "language_info": {
   "codemirror_mode": {
    "name": "ipython",
    "version": 3
   },
   "file_extension": ".py",
   "mimetype": "text/x-python",
   "name": "python",
   "nbconvert_exporter": "python",
   "pygments_lexer": "ipython3",
   "version": "3.10.14"
  },
  "orig_nbformat": 4
 },
 "nbformat": 4,
 "nbformat_minor": 2
}
